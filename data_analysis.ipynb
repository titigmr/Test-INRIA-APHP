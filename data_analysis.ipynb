{
 "cells": [
  {
   "cell_type": "markdown",
   "metadata": {},
   "source": [
    "# Analyse exploratoire\n"
   ]
  },
  {
   "cell_type": "markdown",
   "metadata": {},
   "source": [
    "**1 - Importation des modules**"
   ]
  },
  {
   "cell_type": "code",
   "execution_count": 1,
   "metadata": {},
   "outputs": [],
   "source": [
    "import pandas as pd\n",
    "import numpy as np\n",
    "import matplotlib.pyplot as plt\n",
    "import geopandas as gpd\n",
    "import seaborn as sns\n",
    "import os\n",
    "\n",
    "from utils.data import get_gender, get_states, get_postcode, get_map\n",
    "from utils.coherence import correct_typo, find_best_similar, gestalt_pattern_matching\n",
    "from utils.coherence import calculate_age, convert_to_date, postcode_coherence\n",
    "from utils.eda import apply_gender, find_truth_age, plot_map, match_state"
   ]
  },
  {
   "cell_type": "markdown",
   "metadata": {},
   "source": [
    "**2 - Spécification des paramètres**"
   ]
  },
  {
   "cell_type": "code",
   "execution_count": 2,
   "metadata": {},
   "outputs": [],
   "source": [
    "color = (0.1,0.2,0.6)\n",
    "plt.style.use('seaborn-whitegrid')"
   ]
  },
  {
   "cell_type": "markdown",
   "metadata": {},
   "source": [
    "**3 - Lecture des données**"
   ]
  },
  {
   "cell_type": "code",
   "execution_count": 3,
   "metadata": {},
   "outputs": [],
   "source": [
    "file = os.path.join('extern_data','df_patient_pcr.csv')\n",
    "df = pd.read_csv(file)\n",
    "df = df.replace({np.nan: None})"
   ]
  },
  {
   "cell_type": "code",
   "execution_count": 4,
   "metadata": {
    "scrolled": true
   },
   "outputs": [
    {
     "data": {
      "text/html": [
       "<div>\n",
       "<style scoped>\n",
       "    .dataframe tbody tr th:only-of-type {\n",
       "        vertical-align: middle;\n",
       "    }\n",
       "\n",
       "    .dataframe tbody tr th {\n",
       "        vertical-align: top;\n",
       "    }\n",
       "\n",
       "    .dataframe thead th {\n",
       "        text-align: right;\n",
       "    }\n",
       "</style>\n",
       "<table border=\"1\" class=\"dataframe\">\n",
       "  <thead>\n",
       "    <tr style=\"text-align: right;\">\n",
       "      <th></th>\n",
       "      <th>patient_id</th>\n",
       "      <th>pcr</th>\n",
       "      <th>given_name</th>\n",
       "      <th>surname</th>\n",
       "      <th>street_number</th>\n",
       "      <th>address_1</th>\n",
       "      <th>suburb</th>\n",
       "      <th>postcode</th>\n",
       "      <th>state</th>\n",
       "      <th>date_of_birth</th>\n",
       "      <th>age</th>\n",
       "      <th>phone_number</th>\n",
       "      <th>address_2</th>\n",
       "      <th>born_age</th>\n",
       "      <th>localisation</th>\n",
       "      <th>full_address</th>\n",
       "      <th>full_name</th>\n",
       "    </tr>\n",
       "  </thead>\n",
       "  <tbody>\n",
       "    <tr>\n",
       "      <th>0</th>\n",
       "      <td>653091</td>\n",
       "      <td>N</td>\n",
       "      <td>daniel</td>\n",
       "      <td>campbell</td>\n",
       "      <td>58</td>\n",
       "      <td>sid barnes crescent</td>\n",
       "      <td>north ward</td>\n",
       "      <td>4514</td>\n",
       "      <td>nsw</td>\n",
       "      <td>1.97304e+07</td>\n",
       "      <td>None</td>\n",
       "      <td>08 38772117</td>\n",
       "      <td>None</td>\n",
       "      <td>19730426</td>\n",
       "      <td>4514 nsw north ward</td>\n",
       "      <td>58 sid barnes crescent</td>\n",
       "      <td>campbell daniel</td>\n",
       "    </tr>\n",
       "    <tr>\n",
       "      <th>1</th>\n",
       "      <td>347667</td>\n",
       "      <td>N</td>\n",
       "      <td>sebastian</td>\n",
       "      <td>mchenry</td>\n",
       "      <td>12</td>\n",
       "      <td>mundawari circuit</td>\n",
       "      <td>swan view</td>\n",
       "      <td>4551</td>\n",
       "      <td>wa</td>\n",
       "      <td>1.99003e+07</td>\n",
       "      <td>28</td>\n",
       "      <td>08 61083524</td>\n",
       "      <td>ocean star villas</td>\n",
       "      <td>19900316 28</td>\n",
       "      <td>4551 wa swan view</td>\n",
       "      <td>12 mundawari circuit</td>\n",
       "      <td>mchenry sebastian</td>\n",
       "    </tr>\n",
       "    <tr>\n",
       "      <th>2</th>\n",
       "      <td>708481</td>\n",
       "      <td>P</td>\n",
       "      <td>sarah</td>\n",
       "      <td>rellos</td>\n",
       "      <td>20</td>\n",
       "      <td>torres street</td>\n",
       "      <td>bribie island</td>\n",
       "      <td>3199</td>\n",
       "      <td>sa</td>\n",
       "      <td>1.94303e+07</td>\n",
       "      <td>None</td>\n",
       "      <td>02 73197286</td>\n",
       "      <td>None</td>\n",
       "      <td>19430317</td>\n",
       "      <td>3199 sa bribie island</td>\n",
       "      <td>20 torres street</td>\n",
       "      <td>rellos sarah</td>\n",
       "    </tr>\n",
       "    <tr>\n",
       "      <th>3</th>\n",
       "      <td>148825</td>\n",
       "      <td>N</td>\n",
       "      <td>chloe</td>\n",
       "      <td>brammy</td>\n",
       "      <td>238</td>\n",
       "      <td>fitchett street</td>\n",
       "      <td>carnegie</td>\n",
       "      <td>3280</td>\n",
       "      <td>qld</td>\n",
       "      <td>1.95405e+07</td>\n",
       "      <td>19</td>\n",
       "      <td>02 48826642</td>\n",
       "      <td>None</td>\n",
       "      <td>19540528 19</td>\n",
       "      <td>3280 qld carnegie</td>\n",
       "      <td>238 fitchett street</td>\n",
       "      <td>brammy chloe</td>\n",
       "    </tr>\n",
       "    <tr>\n",
       "      <th>4</th>\n",
       "      <td>150081</td>\n",
       "      <td>N</td>\n",
       "      <td>charlie</td>\n",
       "      <td>None</td>\n",
       "      <td>6</td>\n",
       "      <td>clark close</td>\n",
       "      <td>south melbourne</td>\n",
       "      <td>2602</td>\n",
       "      <td>qld</td>\n",
       "      <td>1.97503e+07</td>\n",
       "      <td>35</td>\n",
       "      <td>03 24096098</td>\n",
       "      <td>talawa</td>\n",
       "      <td>19750331 35</td>\n",
       "      <td>2602 qld south melbourne</td>\n",
       "      <td>6 clark close</td>\n",
       "      <td>charlie</td>\n",
       "    </tr>\n",
       "  </tbody>\n",
       "</table>\n",
       "</div>"
      ],
      "text/plain": [
       "   patient_id pcr given_name   surname street_number            address_1  \\\n",
       "0      653091   N     daniel  campbell            58  sid barnes crescent   \n",
       "1      347667   N  sebastian   mchenry            12    mundawari circuit   \n",
       "2      708481   P      sarah    rellos            20        torres street   \n",
       "3      148825   N      chloe    brammy           238      fitchett street   \n",
       "4      150081   N    charlie      None             6          clark close   \n",
       "\n",
       "            suburb postcode state date_of_birth   age phone_number  \\\n",
       "0       north ward     4514   nsw   1.97304e+07  None  08 38772117   \n",
       "1        swan view     4551    wa   1.99003e+07    28  08 61083524   \n",
       "2    bribie island     3199    sa   1.94303e+07  None  02 73197286   \n",
       "3         carnegie     3280   qld   1.95405e+07    19  02 48826642   \n",
       "4  south melbourne     2602   qld   1.97503e+07    35  03 24096098   \n",
       "\n",
       "           address_2     born_age              localisation  \\\n",
       "0               None    19730426        4514 nsw north ward   \n",
       "1  ocean star villas  19900316 28         4551 wa swan view   \n",
       "2               None    19430317      3199 sa bribie island   \n",
       "3               None  19540528 19         3280 qld carnegie   \n",
       "4             talawa  19750331 35  2602 qld south melbourne   \n",
       "\n",
       "             full_address          full_name  \n",
       "0  58 sid barnes crescent    campbell daniel  \n",
       "1    12 mundawari circuit  mchenry sebastian  \n",
       "2        20 torres street       rellos sarah  \n",
       "3     238 fitchett street       brammy chloe  \n",
       "4           6 clark close            charlie  "
      ]
     },
     "execution_count": 4,
     "metadata": {},
     "output_type": "execute_result"
    }
   ],
   "source": [
    "df.head()"
   ]
  },
  {
   "cell_type": "code",
   "execution_count": 5,
   "metadata": {
    "scrolled": true
   },
   "outputs": [
    {
     "data": {
      "text/plain": [
       "(8235, 17)"
      ]
     },
     "execution_count": 5,
     "metadata": {},
     "output_type": "execute_result"
    }
   ],
   "source": [
    "df.shape"
   ]
  },
  {
   "cell_type": "markdown",
   "metadata": {},
   "source": [
    "## Pré-traitement des données"
   ]
  },
  {
   "cell_type": "markdown",
   "metadata": {},
   "source": [
    "Avant de commencer l'analyse exploratoire, nous devons nettoyer la base de données et créer de nouvelles variables pouvant être pertinentes lors de l'analyse. Enfin, nous sélectionnerons les variables utiles afin de créer notre jeu de données final."
   ]
  },
  {
   "cell_type": "markdown",
   "metadata": {},
   "source": [
    "### Création d'une variable `Gender`"
   ]
  },
  {
   "cell_type": "markdown",
   "metadata": {},
   "source": [
    "On commence par corriger les prénoms mal orthographiés avec la fonction utilisée précédemment pour les adresses et la banlieue (`correct_typo`).\n",
    "\n",
    "Après plusieurs itérations, une similtude à 85% entre deux chaînes de caractère semble convenir en prenant comme base de référence les prénoms apparaissant plus de 3 fois (pour ne pas corriger un prénom par un autre)."
   ]
  },
  {
   "cell_type": "code",
   "execution_count": 6,
   "metadata": {},
   "outputs": [],
   "source": [
    "given_name_corrected = correct_typo(df.given_name, threshold=3,confidence=85)\n",
    "df.given_name = df.given_name.replace(given_name_corrected)"
   ]
  },
  {
   "cell_type": "markdown",
   "metadata": {},
   "source": [
    "On utilise ensuite une [API](https://genderize.io) qui fournit le sexe s'apparentant au mieux à un prénom, avec une probabilité indiquant la confiance de cette prédiction.\n",
    "\n",
    "*NOTE : Toutefois, l'API limite ses requêtes et une exception est levée lors du seuil journalier atteint. Dans ce cas, la fonction renvoie donc la dernière données sauvegardée.*"
   ]
  },
  {
   "cell_type": "code",
   "execution_count": 7,
   "metadata": {
    "scrolled": true
   },
   "outputs": [],
   "source": [
    "unique_name = df.given_name.unique()\n",
    "all_gender = get_gender(unique_name)"
   ]
  },
  {
   "cell_type": "markdown",
   "metadata": {},
   "source": [
    "On a donc notre nouvelle variable `gender`."
   ]
  },
  {
   "cell_type": "code",
   "execution_count": 8,
   "metadata": {
    "scrolled": false
   },
   "outputs": [
    {
     "data": {
      "text/html": [
       "<div>\n",
       "<style scoped>\n",
       "    .dataframe tbody tr th:only-of-type {\n",
       "        vertical-align: middle;\n",
       "    }\n",
       "\n",
       "    .dataframe tbody tr th {\n",
       "        vertical-align: top;\n",
       "    }\n",
       "\n",
       "    .dataframe thead th {\n",
       "        text-align: right;\n",
       "    }\n",
       "</style>\n",
       "<table border=\"1\" class=\"dataframe\">\n",
       "  <thead>\n",
       "    <tr style=\"text-align: right;\">\n",
       "      <th></th>\n",
       "      <th>gender</th>\n",
       "      <th>given_name</th>\n",
       "    </tr>\n",
       "  </thead>\n",
       "  <tbody>\n",
       "    <tr>\n",
       "      <th>0</th>\n",
       "      <td>male</td>\n",
       "      <td>daniel</td>\n",
       "    </tr>\n",
       "    <tr>\n",
       "      <th>1</th>\n",
       "      <td>male</td>\n",
       "      <td>sebastian</td>\n",
       "    </tr>\n",
       "    <tr>\n",
       "      <th>2</th>\n",
       "      <td>female</td>\n",
       "      <td>sarah</td>\n",
       "    </tr>\n",
       "    <tr>\n",
       "      <th>3</th>\n",
       "      <td>female</td>\n",
       "      <td>chloe</td>\n",
       "    </tr>\n",
       "    <tr>\n",
       "      <th>4</th>\n",
       "      <td>male</td>\n",
       "      <td>charlie</td>\n",
       "    </tr>\n",
       "  </tbody>\n",
       "</table>\n",
       "</div>"
      ],
      "text/plain": [
       "   gender given_name\n",
       "0    male     daniel\n",
       "1    male  sebastian\n",
       "2  female      sarah\n",
       "3  female      chloe\n",
       "4    male    charlie"
      ]
     },
     "execution_count": 8,
     "metadata": {},
     "output_type": "execute_result"
    }
   ],
   "source": [
    "df[\"gender\"] = apply_gender(all_gender, apply_on=df.given_name)\n",
    "df[[\"gender\",\"given_name\"]].head()"
   ]
  },
  {
   "cell_type": "markdown",
   "metadata": {},
   "source": [
    "### Création de la variable `class_age`"
   ]
  },
  {
   "cell_type": "markdown",
   "metadata": {},
   "source": [
    "Une seconde étape consiste à mettre en forme les données avant de créer une variable `class_age` calculée selon deux variables : `age` et `date_of_birth`."
   ]
  },
  {
   "cell_type": "code",
   "execution_count": 9,
   "metadata": {
    "scrolled": true
   },
   "outputs": [],
   "source": [
    "df[\"age_estimated\"] = calculate_age(df.date_of_birth, year=2020)\n",
    "df[\"age\"] = df.age.astype(float)"
   ]
  },
  {
   "cell_type": "markdown",
   "metadata": {},
   "source": [
    "Pour appliquer la transformation en tranche d'âge (car il y a beaucoup d'erreurs de cohérence entre la date de naissance et l'age renseigné), on utilise le découpage effectué par les documents d'analyse de **Santé Publique France**."
   ]
  },
  {
   "cell_type": "markdown",
   "metadata": {},
   "source": [
    "- 0-14 ans\n",
    "- 15-44 ans \n",
    "- 45-64 ans \n",
    "- 65-84 ans\n",
    "- 85+"
   ]
  },
  {
   "cell_type": "markdown",
   "metadata": {},
   "source": [
    "On considère qu'à partir de 110 ans il s'agit d'une valeur extrème."
   ]
  },
  {
   "cell_type": "code",
   "execution_count": 10,
   "metadata": {},
   "outputs": [],
   "source": [
    "df[\"age_group\"] = df.apply(\n",
    "    lambda x : find_truth_age(x[\"age\"], x[\"age_estimated\"]), \n",
    "    axis=1)\n",
    "\n",
    "df[\"age_group\"] = df.age_group.replace({None: np.nan})"
   ]
  },
  {
   "cell_type": "markdown",
   "metadata": {},
   "source": [
    "Pour chaque ligne, on compare simultanément **l'age estimé** et **l'age renseigné**.\n",
    "- si les **deux valeurs concordent** (se trouvent dans la même classe d'âge) alors on applique la tranche d'age pour cette valeur.\n",
    "- si **une des deux valeurs est manquante**, on impute la classe d'age à partir de la valeur présente.\n",
    "- si les **deux valeurs ne concordent pas** (se trouve dans des classes d'âges différentes) alors on peut :\n",
    "\n",
    "     - prendre la moyenne des deux valeurs et imputer la classe par rapport à cette nouvelle valeur (mais cela peut fausser grandement les analyses).\n",
    "     - vérifier la cohérence de chacune des valeurs et appliquer la plus probable (mais lorsque les deux valeurs sont probables, il est très difficile d'appliquer une règle).\n",
    "     - remplir par une **valeur manquante**. Il s'agit de la solution retenue, étant la plus prudente.\n"
   ]
  },
  {
   "cell_type": "code",
   "execution_count": 11,
   "metadata": {
    "scrolled": true
   },
   "outputs": [
    {
     "data": {
      "text/plain": [
       "0.651"
      ]
     },
     "execution_count": 11,
     "metadata": {},
     "output_type": "execute_result"
    }
   ],
   "source": [
    "round(df.age_group.isna().sum() / df.shape[0],3)"
   ]
  },
  {
   "cell_type": "markdown",
   "metadata": {},
   "source": [
    "Seulement 45% des valeurs concordent lorsque nous découpons sous forme de classes entre la variable `age` et la variable `age_estimated` calculée à partir de la variable `date_of_birth`."
   ]
  },
  {
   "cell_type": "code",
   "execution_count": 12,
   "metadata": {
    "scrolled": true
   },
   "outputs": [
    {
     "data": {
      "text/html": [
       "<div>\n",
       "<style scoped>\n",
       "    .dataframe tbody tr th:only-of-type {\n",
       "        vertical-align: middle;\n",
       "    }\n",
       "\n",
       "    .dataframe tbody tr th {\n",
       "        vertical-align: top;\n",
       "    }\n",
       "\n",
       "    .dataframe thead th {\n",
       "        text-align: right;\n",
       "    }\n",
       "</style>\n",
       "<table border=\"1\" class=\"dataframe\">\n",
       "  <thead>\n",
       "    <tr style=\"text-align: right;\">\n",
       "      <th></th>\n",
       "      <th>age</th>\n",
       "      <th>age_estimated</th>\n",
       "      <th>date_of_birth</th>\n",
       "      <th>age_group</th>\n",
       "    </tr>\n",
       "  </thead>\n",
       "  <tbody>\n",
       "    <tr>\n",
       "      <th>1305</th>\n",
       "      <td>39.0</td>\n",
       "      <td>70</td>\n",
       "      <td>19500130.0</td>\n",
       "      <td>NaN</td>\n",
       "    </tr>\n",
       "    <tr>\n",
       "      <th>7049</th>\n",
       "      <td>25.0</td>\n",
       "      <td>96</td>\n",
       "      <td>19240131.0</td>\n",
       "      <td>NaN</td>\n",
       "    </tr>\n",
       "    <tr>\n",
       "      <th>1468</th>\n",
       "      <td>31.0</td>\n",
       "      <td>72</td>\n",
       "      <td>19481002.0</td>\n",
       "      <td>NaN</td>\n",
       "    </tr>\n",
       "    <tr>\n",
       "      <th>4800</th>\n",
       "      <td>28.0</td>\n",
       "      <td>59</td>\n",
       "      <td>19610217.0</td>\n",
       "      <td>NaN</td>\n",
       "    </tr>\n",
       "    <tr>\n",
       "      <th>6643</th>\n",
       "      <td>NaN</td>\n",
       "      <td>85</td>\n",
       "      <td>19350413.0</td>\n",
       "      <td>NaN</td>\n",
       "    </tr>\n",
       "    <tr>\n",
       "      <th>3572</th>\n",
       "      <td>30.0</td>\n",
       "      <td>77</td>\n",
       "      <td>19431223.0</td>\n",
       "      <td>NaN</td>\n",
       "    </tr>\n",
       "    <tr>\n",
       "      <th>1865</th>\n",
       "      <td>NaN</td>\n",
       "      <td>107</td>\n",
       "      <td>19130513.0</td>\n",
       "      <td>NaN</td>\n",
       "    </tr>\n",
       "    <tr>\n",
       "      <th>1402</th>\n",
       "      <td>22.0</td>\n",
       "      <td>69</td>\n",
       "      <td>19511208.0</td>\n",
       "      <td>NaN</td>\n",
       "    </tr>\n",
       "    <tr>\n",
       "      <th>3900</th>\n",
       "      <td>36.0</td>\n",
       "      <td>118</td>\n",
       "      <td>19020813.0</td>\n",
       "      <td>NaN</td>\n",
       "    </tr>\n",
       "    <tr>\n",
       "      <th>686</th>\n",
       "      <td>25.0</td>\n",
       "      <td>81</td>\n",
       "      <td>19392106.0</td>\n",
       "      <td>NaN</td>\n",
       "    </tr>\n",
       "  </tbody>\n",
       "</table>\n",
       "</div>"
      ],
      "text/plain": [
       "       age age_estimated  date_of_birth age_group\n",
       "1305  39.0            70     19500130.0       NaN\n",
       "7049  25.0            96     19240131.0       NaN\n",
       "1468  31.0            72     19481002.0       NaN\n",
       "4800  28.0            59     19610217.0       NaN\n",
       "6643   NaN            85     19350413.0       NaN\n",
       "3572  30.0            77     19431223.0       NaN\n",
       "1865   NaN           107     19130513.0       NaN\n",
       "1402  22.0            69     19511208.0       NaN\n",
       "3900  36.0           118     19020813.0       NaN\n",
       "686   25.0            81     19392106.0       NaN"
      ]
     },
     "execution_count": 12,
     "metadata": {},
     "output_type": "execute_result"
    }
   ],
   "source": [
    "df[['age','age_estimated','date_of_birth','age_group']][\n",
    "    df.age_group.isna()].sample(10)"
   ]
  },
  {
   "cell_type": "markdown",
   "metadata": {},
   "source": [
    "On peut voir que sur un échantillon, les différences entre `age` et `age_estimated` ne font ressortir aucun élement pouvant donner un indice sur une bonne information. Il vaut donc mieux laisser ce champ inconnu."
   ]
  },
  {
   "cell_type": "markdown",
   "metadata": {},
   "source": [
    "*NB : petite idée, trouver une base comprennant la moyenne d'âge pour un prénom et de réperer quel est l'age le plus concordant avec cette moyenne et imputer selon cette valeur.*\n",
    "\n",
    "*NB2 : Une seconde pourrait être d'aller vérifier dans la table patient les doublons, pour voir si pour ces valeurs les deux âges concordent*"
   ]
  },
  {
   "cell_type": "markdown",
   "metadata": {},
   "source": [
    "### Nettoyage des variables : `postcode` et `state`"
   ]
  },
  {
   "cell_type": "markdown",
   "metadata": {},
   "source": [
    "Nous appliquons ici les étapes que nous avons repérées lors du dernier notebook (correction des erreurs de typographie pour l'état et la vérification des codes postaux)."
   ]
  },
  {
   "cell_type": "markdown",
   "metadata": {},
   "source": [
    "Pour les **états** : "
   ]
  },
  {
   "cell_type": "code",
   "execution_count": 13,
   "metadata": {
    "scrolled": true
   },
   "outputs": [],
   "source": [
    "dict_ref = get_states()\n",
    "df[\"state\"] = find_best_similar(df.state, dict_ref, gestalt_pattern_matching)"
   ]
  },
  {
   "cell_type": "markdown",
   "metadata": {},
   "source": [
    "Pour les **codes postaux** :"
   ]
  },
  {
   "cell_type": "code",
   "execution_count": 14,
   "metadata": {},
   "outputs": [],
   "source": [
    "str_post = {}\n",
    "\n",
    "for i in df.postcode.values:\n",
    "    try :\n",
    "        int(i)\n",
    "    except (ValueError, TypeError):\n",
    "        str_post[i] = None"
   ]
  },
  {
   "cell_type": "code",
   "execution_count": 15,
   "metadata": {},
   "outputs": [],
   "source": [
    "df[\"postcode\"] = df.replace(str_post)\n",
    "df[\"postcode\"] = df.postcode.astype(int)"
   ]
  },
  {
   "cell_type": "markdown",
   "metadata": {},
   "source": [
    "Comme précédemment, les états et les code postaux ne correspondent pas pour tous les patients. On applique donc la fonction que nous avons utilisé pour connaître la cohérence de chacune et appliquer une valeur `None` si les deux informations ne concordent pas."
   ]
  },
  {
   "cell_type": "code",
   "execution_count": 16,
   "metadata": {},
   "outputs": [],
   "source": [
    "ref_post = get_postcode()\n",
    "df[\"state_by_pc\"] = postcode_coherence(\n",
    "    serie=df.postcode, ref_postcode=ref_post, convert=False)"
   ]
  },
  {
   "cell_type": "markdown",
   "metadata": {},
   "source": [
    "On peut vérifier le nombre d'incohérences entre états et code postaux."
   ]
  },
  {
   "cell_type": "code",
   "execution_count": 17,
   "metadata": {},
   "outputs": [],
   "source": [
    "df[\"state_verif\"] = df.apply(lambda x:\n",
    "                             match_state(x[\"state_by_pc\"], x[\"state\"]),\n",
    "                             axis=1)"
   ]
  },
  {
   "cell_type": "code",
   "execution_count": 18,
   "metadata": {
    "scrolled": true
   },
   "outputs": [
    {
     "data": {
      "text/plain": [
       "0.10151791135397693"
      ]
     },
     "execution_count": 18,
     "metadata": {},
     "output_type": "execute_result"
    }
   ],
   "source": [
    "df.state_verif.isna().sum() / df.shape[0]"
   ]
  },
  {
   "cell_type": "markdown",
   "metadata": {},
   "source": [
    "### Sélection des variables"
   ]
  },
  {
   "cell_type": "markdown",
   "metadata": {},
   "source": [
    "La dernière étape consiste à la sélection des variables pour notre jeu de données final : "
   ]
  },
  {
   "cell_type": "markdown",
   "metadata": {},
   "source": [
    "- le résultat du test pcr\n",
    "- le genre prédit du patient\n",
    "- l'âge\n",
    "- l'âge estimé par l'année de naissance\n",
    "- la classe d'âge (si l'age et l'age estimé par l'année de naissance concordent)\n",
    "- l'état ou demeure le patient (s'il concorde avec le code postal)"
   ]
  },
  {
   "cell_type": "code",
   "execution_count": 19,
   "metadata": {
    "scrolled": true
   },
   "outputs": [
    {
     "data": {
      "text/html": [
       "<div>\n",
       "<style scoped>\n",
       "    .dataframe tbody tr th:only-of-type {\n",
       "        vertical-align: middle;\n",
       "    }\n",
       "\n",
       "    .dataframe tbody tr th {\n",
       "        vertical-align: top;\n",
       "    }\n",
       "\n",
       "    .dataframe thead th {\n",
       "        text-align: right;\n",
       "    }\n",
       "</style>\n",
       "<table border=\"1\" class=\"dataframe\">\n",
       "  <thead>\n",
       "    <tr style=\"text-align: right;\">\n",
       "      <th></th>\n",
       "      <th>pcr</th>\n",
       "      <th>gender</th>\n",
       "      <th>age_group</th>\n",
       "      <th>age</th>\n",
       "      <th>age_estimated</th>\n",
       "      <th>state</th>\n",
       "    </tr>\n",
       "  </thead>\n",
       "  <tbody>\n",
       "    <tr>\n",
       "      <th>0</th>\n",
       "      <td>N</td>\n",
       "      <td>male</td>\n",
       "      <td>45-64</td>\n",
       "      <td>NaN</td>\n",
       "      <td>47</td>\n",
       "      <td>NSW</td>\n",
       "    </tr>\n",
       "    <tr>\n",
       "      <th>1</th>\n",
       "      <td>N</td>\n",
       "      <td>male</td>\n",
       "      <td>15-44</td>\n",
       "      <td>28.0</td>\n",
       "      <td>30</td>\n",
       "      <td>WA</td>\n",
       "    </tr>\n",
       "    <tr>\n",
       "      <th>2</th>\n",
       "      <td>P</td>\n",
       "      <td>female</td>\n",
       "      <td>65-84</td>\n",
       "      <td>NaN</td>\n",
       "      <td>77</td>\n",
       "      <td>SA</td>\n",
       "    </tr>\n",
       "    <tr>\n",
       "      <th>3</th>\n",
       "      <td>N</td>\n",
       "      <td>female</td>\n",
       "      <td>NaN</td>\n",
       "      <td>19.0</td>\n",
       "      <td>66</td>\n",
       "      <td>QLD</td>\n",
       "    </tr>\n",
       "    <tr>\n",
       "      <th>4</th>\n",
       "      <td>N</td>\n",
       "      <td>male</td>\n",
       "      <td>NaN</td>\n",
       "      <td>35.0</td>\n",
       "      <td>45</td>\n",
       "      <td>QLD</td>\n",
       "    </tr>\n",
       "  </tbody>\n",
       "</table>\n",
       "</div>"
      ],
      "text/plain": [
       "  pcr  gender age_group   age age_estimated state\n",
       "0   N    male     45-64   NaN            47   NSW\n",
       "1   N    male     15-44  28.0            30    WA\n",
       "2   P  female     65-84   NaN            77    SA\n",
       "3   N  female       NaN  19.0            66   QLD\n",
       "4   N    male       NaN  35.0            45   QLD"
      ]
     },
     "execution_count": 19,
     "metadata": {},
     "output_type": "execute_result"
    }
   ],
   "source": [
    "df = df[['pcr', 'gender',\n",
    "         'age_group', 'age', 'age_estimated',\n",
    "         'state_verif']]\n",
    "df = df.rename(columns={\"state_verif\": 'state'})\n",
    "\n",
    "df.head()"
   ]
  },
  {
   "cell_type": "markdown",
   "metadata": {},
   "source": [
    "## Visualisation des données"
   ]
  },
  {
   "cell_type": "markdown",
   "metadata": {},
   "source": [
    "La dernière étape consiste à la visualisation des données."
   ]
  },
  {
   "cell_type": "markdown",
   "metadata": {},
   "source": [
    "### Prévalence selon la localisation"
   ]
  },
  {
   "cell_type": "markdown",
   "metadata": {},
   "source": [
    "On commence par importer notre map de l'Australie."
   ]
  },
  {
   "cell_type": "code",
   "execution_count": 21,
   "metadata": {},
   "outputs": [],
   "source": [
    "map_df = get_map(dict_ref)"
   ]
  },
  {
   "cell_type": "code",
   "execution_count": 22,
   "metadata": {},
   "outputs": [],
   "source": [
    "pcr_count_P = df[df.pcr == \"P\"].groupby('state').count().pcr\n",
    "pcr_data_P = map_df.merge(pcr_count_P, on='state')\n",
    "\n",
    "pourc_pos = np.round(df[df.pcr == 'P'].groupby('state').count().pcr\n",
    "                     / df.groupby('state').count().pcr, 3)\n",
    "pos_ratio_data = map_df.merge(pourc_pos, on='state')"
   ]
  },
  {
   "cell_type": "markdown",
   "metadata": {},
   "source": [
    "On peut afficher le nombre de patients testés positif pour chaque état"
   ]
  },
  {
   "cell_type": "code",
   "execution_count": 23,
   "metadata": {},
   "outputs": [
    {
     "data": {
      "image/png": "[encoded data removed]",
      "text/plain": [
       "<Figure size 1080x576 with 4 Axes>"
      ]
     },
     "metadata": {},
     "output_type": "display_data"
    }
   ],
   "source": [
    "fig, ax = plt.subplots(1, 2, figsize=(15, 8))\n",
    "\n",
    "plot_map(pcr_data_P, 'pcr', cmap='Oranges',\n",
    "         color_font=\"black\", size_fig=(12, 8),\n",
    "         title='Nombre de patients testés positifs', ax=ax[0],\n",
    "         fig=fig, size_colorbar=0.5)\n",
    "\n",
    "plot_map(pos_ratio_data, 'pcr', cmap=\"Oranges\",\n",
    "         color_font=\"black\", size_fig=(12, 8),\n",
    "         title=\"Ratio du nombre de patients positifs sur le nombre \\\n",
    "de patients testés\",\n",
    "         ax=ax[1], fig=fig, size_colorbar=0.5)\n",
    "\n",
    "fig.tight_layout()"
   ]
  },
  {
   "cell_type": "markdown",
   "metadata": {},
   "source": [
    "> À partir de ces deux cartes on constate que la majorités des tests (dont on connaît la localisation du patient) on été effectués dans les états du Sud-Ouest (NSW, ACT et VIC).\n",
    "\n",
    "> D'autre part, le ratio nombre de cas positif sur le nombre de test par état révèle que tous les états sont touchés, hormis l'état du nord (NT). En moyenne, on constate 1/4 de patients positifs à la Covid 19."
   ]
  },
  {
   "cell_type": "markdown",
   "metadata": {},
   "source": [
    "Pour améliorer cette partie, il serait possible prendre en compte la populuation des états pour connaître le nombre de cas positif sur l'ensemble de la population. "
   ]
  },
  {
   "cell_type": "markdown",
   "metadata": {},
   "source": [
    "### Prévalence selon le genre et l'âge"
   ]
  },
  {
   "cell_type": "markdown",
   "metadata": {},
   "source": [
    "Cette dernière partie vise à analyser les données concernant les caractéristique des patients (age et genre)."
   ]
  },
  {
   "cell_type": "code",
   "execution_count": 24,
   "metadata": {},
   "outputs": [],
   "source": [
    "df_N = df[df.pcr == 'N']\n",
    "df_P = df[df.pcr == 'P']\n",
    "\n",
    "crosstab_P = pd.crosstab(df_P.gender, df_P.age_group, normalize=True) "
   ]
  },
  {
   "cell_type": "markdown",
   "metadata": {},
   "source": [
    "Dans les deux figures ci-dessous on peut conclure que : "
   ]
  },
  {
   "cell_type": "markdown",
   "metadata": {},
   "source": [
    "> Les hommes sont légèrement plus testés que les femmes et le pourcentage de cas positif est similaire entre les deux genres."
   ]
  },
  {
   "cell_type": "markdown",
   "metadata": {},
   "source": [
    "> Si nous observations les cas positifs, la tranche d'âge 15-44 ans est la plus impactée (plus de 75% des cas positifs). Ensuite, vient la population plus âgée (65-85 ans). Les plus jeunes sont les moins touchés par le virus. \n",
    "\n",
    ">On peut expliquer ce résultat d'une part car la tranche d'âge la plus touchée concerne les actifs. Les actifs sont les personnes qui cotoient (le plus généralement) de nombreuses personnes. Par exemple, dans le cadre de leur activité professionnel. Ceci augmente donc la probabilité d'être touché par le virus. "
   ]
  },
  {
   "cell_type": "code",
   "execution_count": 33,
   "metadata": {
    "scrolled": false
   },
   "outputs": [
    {
     "data": {
      "image/png": "[encoded data removed]",
      "text/plain": [
       "<Figure size 1008x648 with 2 Axes>"
      ]
     },
     "metadata": {},
     "output_type": "display_data"
    }
   ],
   "source": [
    "fig, ax = plt.subplots(2, 1, figsize=(14, 9))\n",
    "\n",
    "plot_bar_PN(df_N, df_P, 'gender',\n",
    "            y=100, x=-0.03, sort=False, print_none=False,\n",
    "            title='Répartition des résultats des tests PCR selon le sexe',\n",
    "            ax=ax[0])\n",
    "\n",
    "plot_crosstab(\n",
    "    crosstab_P, ax=ax[1], title=\"Répartition en % des cas positifs selon l'age et le genre\")\n",
    "\n",
    "fig.tight_layout()"
   ]
  },
  {
   "cell_type": "markdown",
   "metadata": {},
   "source": [
    "On peut observer également la distributions des âges et la répartition des tranches d'âges."
   ]
  },
  {
   "cell_type": "markdown",
   "metadata": {},
   "source": [
    "> Les âges renseignés par les patients montre une distribution fortement centré à 30 ans et un petit pic pour les jeunes (10 ans environ). Au contraire, les âges estimés par l'année de naissance montre une distribution uniforme entre 20 et 120 ans. On peut conclure que ces deux distributions sont très divergentes"
   ]
  },
  {
   "cell_type": "markdown",
   "metadata": {},
   "source": [
    "> Les graphique en barres concernant les tranches d'âge montrent seulement les cas lorsque l'age renseigné et l'age estimé par la date de naissance concordent. Les tranches d'âges retenues sont celles des études réalisées par Santé Publique France. On constate que la grande majorité des tests sont effectués sur des patients entre 15 et 44 ans, et le nombre de cas positif également."
   ]
  },
  {
   "cell_type": "code",
   "execution_count": 37,
   "metadata": {},
   "outputs": [],
   "source": [
    "age = df.age[df.age.notnull()]\n",
    "age_es = df.age_estimated[df.age_estimated.notnull()]"
   ]
  },
  {
   "cell_type": "code",
   "execution_count": 178,
   "metadata": {
    "scrolled": false
   },
   "outputs": [
    {
     "data": {
      "image/png": "[encoded data removed]",
      "text/plain": [
       "<Figure size 1008x648 with 2 Axes>"
      ]
     },
     "metadata": {
      "needs_background": "light"
     },
     "output_type": "display_data"
    }
   ],
   "source": [
    "fig, ax = plt.subplots(2, 1, figsize=(14, 9))\n",
    "\n",
    "plot_dist(age, age_es,\n",
    "          title='Distribution des âges des patients testés',\n",
    "          label=('age renseigné', \"age estimé par l'année de naissance\"), ax=ax[0])\n",
    "ax[0].set_ylabel('Fréquence')\n",
    "\n",
    "\n",
    "plot_hist_age(df, ax[1], x=(-0.17, 20), y=(0.1, 20),\n",
    "              ylabel='Nombre de tests',\n",
    "              title=\"Résultats des tests pcr selon la tranche d'âge\")\n",
    "\n",
    "plt.tight_layout()"
   ]
  }
 ],
 "metadata": {
  "kernelspec": {
   "display_name": "Python 3",
   "language": "python",
   "name": "python3"
  },
  "language_info": {
   "codemirror_mode": {
    "name": "ipython",
    "version": 3
   },
   "file_extension": ".py",
   "mimetype": "text/x-python",
   "name": "python",
   "nbconvert_exporter": "python",
   "pygments_lexer": "ipython3",
   "version": "3.7.4"
  },
  "toc": {
   "base_numbering": 1,
   "nav_menu": {},
   "number_sections": true,
   "sideBar": true,
   "skip_h1_title": false,
   "title_cell": "Table of Contents",
   "title_sidebar": "Contents",
   "toc_cell": false,
   "toc_position": {},
   "toc_section_display": true,
   "toc_window_display": false
  },
  "varInspector": {
   "cols": {
    "lenName": 16,
    "lenType": 16,
    "lenVar": 40
   },
   "kernels_config": {
    "python": {
     "delete_cmd_postfix": "",
     "delete_cmd_prefix": "del ",
     "library": "var_list.py",
     "varRefreshCmd": "print(var_dic_list())"
    },
    "r": {
     "delete_cmd_postfix": ") ",
     "delete_cmd_prefix": "rm(",
     "library": "var_list.r",
     "varRefreshCmd": "cat(var_dic_list()) "
    }
   },
   "types_to_exclude": [
    "module",
    "function",
    "builtin_function_or_method",
    "instance",
    "_Feature"
   ],
   "window_display": false
  }
 },
 "nbformat": 4,
 "nbformat_minor": 2
}
