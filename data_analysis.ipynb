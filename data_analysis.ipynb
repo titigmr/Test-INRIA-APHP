{
 "cells": [
  {
   "cell_type": "markdown",
   "metadata": {},
   "source": [
    "# Analyse exploratoire\n"
   ]
  },
  {
   "cell_type": "markdown",
   "metadata": {},
   "source": [
    "**1 - Importation des modules**"
   ]
  },
  {
   "cell_type": "code",
   "execution_count": 1,
   "metadata": {},
   "outputs": [],
   "source": [
    "import pandas as pd\n",
    "import numpy as np\n",
    "import matplotlib.pyplot as plt\n",
    "import geopandas as gpd\n",
    "import seaborn as sns\n",
    "\n",
    "from utils.data import get_gender, get_states, get_postcode, get_map\n",
    "from utils.coherence import correct_typo, find_best_similar, gestalt_pattern_matching\n",
    "from utils.coherence import calculate_age, convert_to_date, postcode_coherence\n",
    "from utils.eda import apply_gender, find_truth_age, plot_map"
   ]
  },
  {
   "cell_type": "markdown",
   "metadata": {},
   "source": [
    "**2 - Lecture des données**"
   ]
  },
  {
   "cell_type": "code",
   "execution_count": 2,
   "metadata": {},
   "outputs": [],
   "source": [
    "df = pd.read_csv('df_patient_pcr.csv')\n",
    "df = df.replace({np.nan: None})"
   ]
  },
  {
   "cell_type": "code",
   "execution_count": 3,
   "metadata": {
    "scrolled": true
   },
   "outputs": [
    {
     "data": {
      "text/html": [
       "<div>\n",
       "<style scoped>\n",
       "    .dataframe tbody tr th:only-of-type {\n",
       "        vertical-align: middle;\n",
       "    }\n",
       "\n",
       "    .dataframe tbody tr th {\n",
       "        vertical-align: top;\n",
       "    }\n",
       "\n",
       "    .dataframe thead th {\n",
       "        text-align: right;\n",
       "    }\n",
       "</style>\n",
       "<table border=\"1\" class=\"dataframe\">\n",
       "  <thead>\n",
       "    <tr style=\"text-align: right;\">\n",
       "      <th></th>\n",
       "      <th>patient_id</th>\n",
       "      <th>pcr</th>\n",
       "      <th>given_name</th>\n",
       "      <th>surname</th>\n",
       "      <th>street_number</th>\n",
       "      <th>address_1</th>\n",
       "      <th>suburb</th>\n",
       "      <th>postcode</th>\n",
       "      <th>state</th>\n",
       "      <th>date_of_birth</th>\n",
       "      <th>age</th>\n",
       "      <th>phone_number</th>\n",
       "      <th>address_2</th>\n",
       "      <th>born_age</th>\n",
       "      <th>localisation</th>\n",
       "      <th>full_address</th>\n",
       "      <th>full_name</th>\n",
       "    </tr>\n",
       "  </thead>\n",
       "  <tbody>\n",
       "    <tr>\n",
       "      <th>0</th>\n",
       "      <td>653091</td>\n",
       "      <td>N</td>\n",
       "      <td>daniel</td>\n",
       "      <td>campbell</td>\n",
       "      <td>58</td>\n",
       "      <td>sid barnes crescent</td>\n",
       "      <td>north ward</td>\n",
       "      <td>4514</td>\n",
       "      <td>nsw</td>\n",
       "      <td>1.97304e+07</td>\n",
       "      <td>None</td>\n",
       "      <td>08 38772117</td>\n",
       "      <td>None</td>\n",
       "      <td>19730426</td>\n",
       "      <td>4514 nsw north ward</td>\n",
       "      <td>58 sid barnes crescent</td>\n",
       "      <td>campbell daniel</td>\n",
       "    </tr>\n",
       "    <tr>\n",
       "      <th>1</th>\n",
       "      <td>347667</td>\n",
       "      <td>N</td>\n",
       "      <td>sebastian</td>\n",
       "      <td>mchenry</td>\n",
       "      <td>12</td>\n",
       "      <td>mundawari circuit</td>\n",
       "      <td>swan view</td>\n",
       "      <td>4551</td>\n",
       "      <td>wa</td>\n",
       "      <td>1.99003e+07</td>\n",
       "      <td>28</td>\n",
       "      <td>08 61083524</td>\n",
       "      <td>ocean star villas</td>\n",
       "      <td>19900316 28</td>\n",
       "      <td>4551 wa swan view</td>\n",
       "      <td>12 mundawari circuit</td>\n",
       "      <td>mchenry sebastian</td>\n",
       "    </tr>\n",
       "    <tr>\n",
       "      <th>2</th>\n",
       "      <td>708481</td>\n",
       "      <td>P</td>\n",
       "      <td>sarah</td>\n",
       "      <td>rellos</td>\n",
       "      <td>20</td>\n",
       "      <td>torres street</td>\n",
       "      <td>bribie island</td>\n",
       "      <td>3199</td>\n",
       "      <td>sa</td>\n",
       "      <td>1.94303e+07</td>\n",
       "      <td>None</td>\n",
       "      <td>02 73197286</td>\n",
       "      <td>None</td>\n",
       "      <td>19430317</td>\n",
       "      <td>3199 sa bribie island</td>\n",
       "      <td>20 torres street</td>\n",
       "      <td>rellos sarah</td>\n",
       "    </tr>\n",
       "    <tr>\n",
       "      <th>3</th>\n",
       "      <td>148825</td>\n",
       "      <td>N</td>\n",
       "      <td>chloe</td>\n",
       "      <td>brammy</td>\n",
       "      <td>238</td>\n",
       "      <td>fitchett street</td>\n",
       "      <td>carnegie</td>\n",
       "      <td>3280</td>\n",
       "      <td>qld</td>\n",
       "      <td>1.95405e+07</td>\n",
       "      <td>19</td>\n",
       "      <td>02 48826642</td>\n",
       "      <td>None</td>\n",
       "      <td>19540528 19</td>\n",
       "      <td>3280 qld carnegie</td>\n",
       "      <td>238 fitchett street</td>\n",
       "      <td>brammy chloe</td>\n",
       "    </tr>\n",
       "    <tr>\n",
       "      <th>4</th>\n",
       "      <td>150081</td>\n",
       "      <td>N</td>\n",
       "      <td>charlie</td>\n",
       "      <td>None</td>\n",
       "      <td>6</td>\n",
       "      <td>clark close</td>\n",
       "      <td>south melbourne</td>\n",
       "      <td>2602</td>\n",
       "      <td>qld</td>\n",
       "      <td>1.97503e+07</td>\n",
       "      <td>35</td>\n",
       "      <td>03 24096098</td>\n",
       "      <td>talawa</td>\n",
       "      <td>19750331 35</td>\n",
       "      <td>2602 qld south melbourne</td>\n",
       "      <td>6 clark close</td>\n",
       "      <td>charlie</td>\n",
       "    </tr>\n",
       "  </tbody>\n",
       "</table>\n",
       "</div>"
      ],
      "text/plain": [
       "   patient_id pcr given_name   surname street_number            address_1  \\\n",
       "0      653091   N     daniel  campbell            58  sid barnes crescent   \n",
       "1      347667   N  sebastian   mchenry            12    mundawari circuit   \n",
       "2      708481   P      sarah    rellos            20        torres street   \n",
       "3      148825   N      chloe    brammy           238      fitchett street   \n",
       "4      150081   N    charlie      None             6          clark close   \n",
       "\n",
       "            suburb postcode state date_of_birth   age phone_number  \\\n",
       "0       north ward     4514   nsw   1.97304e+07  None  08 38772117   \n",
       "1        swan view     4551    wa   1.99003e+07    28  08 61083524   \n",
       "2    bribie island     3199    sa   1.94303e+07  None  02 73197286   \n",
       "3         carnegie     3280   qld   1.95405e+07    19  02 48826642   \n",
       "4  south melbourne     2602   qld   1.97503e+07    35  03 24096098   \n",
       "\n",
       "           address_2     born_age              localisation  \\\n",
       "0               None    19730426        4514 nsw north ward   \n",
       "1  ocean star villas  19900316 28         4551 wa swan view   \n",
       "2               None    19430317      3199 sa bribie island   \n",
       "3               None  19540528 19         3280 qld carnegie   \n",
       "4             talawa  19750331 35  2602 qld south melbourne   \n",
       "\n",
       "             full_address          full_name  \n",
       "0  58 sid barnes crescent    campbell daniel  \n",
       "1    12 mundawari circuit  mchenry sebastian  \n",
       "2        20 torres street       rellos sarah  \n",
       "3     238 fitchett street       brammy chloe  \n",
       "4           6 clark close            charlie  "
      ]
     },
     "execution_count": 3,
     "metadata": {},
     "output_type": "execute_result"
    }
   ],
   "source": [
    "df.head()"
   ]
  },
  {
   "cell_type": "markdown",
   "metadata": {},
   "source": [
    "## Pré-traitement des données"
   ]
  },
  {
   "cell_type": "markdown",
   "metadata": {},
   "source": [
    "Avant de commencer l'analyse exploratoires, nous allons nettoyer la base de données et créer de nouvelles variables pouvant être pertinentes lors de l'analyse.  Enfin, nous sélectionnerons les variables utiles pour l'analyse pour créer notre jeu de données final."
   ]
  },
  {
   "cell_type": "markdown",
   "metadata": {},
   "source": [
    "### Création d'une variable `Gender`"
   ]
  },
  {
   "cell_type": "markdown",
   "metadata": {},
   "source": [
    "On commence par corriger les prénoms mal orthographiés avec la fonction utilisée précédemment pour les adresses et la banlieue (`correct_typo`).\n",
    "\n",
    "Après plusieurs itérations, une similtude à 85% entre deux chaînes de caractère semble convenir en prenant comme base de référence les prénoms apparaissant plus de 3 fois (pour ne pas corriger un prénom par un autre)."
   ]
  },
  {
   "cell_type": "code",
   "execution_count": 4,
   "metadata": {},
   "outputs": [],
   "source": [
    "given_name_corrected = correct_typo(df.given_name, threshold=3,confidence=85)\n",
    "df.given_name = df.given_name.replace(given_name_corrected)"
   ]
  },
  {
   "cell_type": "markdown",
   "metadata": {},
   "source": [
    "On utilise ensuite une [API](https://genderize.io) qui fournit le sexe s'apparentant au mieux à un prénom, avec une probabilité indiquant la confiance de cette prédiction.\n",
    "\n",
    "*NOTE : Toutefois, l'API limite ses requêtes et une exception est levée lors du seuil par jour atteind. Dans ce cas, la fonction renvoie donc la dernière données sauvegardée.*"
   ]
  },
  {
   "cell_type": "code",
   "execution_count": 5,
   "metadata": {},
   "outputs": [
    {
     "name": "stdout",
     "output_type": "stream",
     "text": [
      "Request limit\n"
     ]
    }
   ],
   "source": [
    "unique_name = df.given_name.unique()\n",
    "all_gender = get_gender(unique_name)"
   ]
  },
  {
   "cell_type": "markdown",
   "metadata": {},
   "source": [
    "On a donc notre nouvelle variable `gender`."
   ]
  },
  {
   "cell_type": "code",
   "execution_count": 6,
   "metadata": {
    "scrolled": false
   },
   "outputs": [
    {
     "data": {
      "text/html": [
       "<div>\n",
       "<style scoped>\n",
       "    .dataframe tbody tr th:only-of-type {\n",
       "        vertical-align: middle;\n",
       "    }\n",
       "\n",
       "    .dataframe tbody tr th {\n",
       "        vertical-align: top;\n",
       "    }\n",
       "\n",
       "    .dataframe thead th {\n",
       "        text-align: right;\n",
       "    }\n",
       "</style>\n",
       "<table border=\"1\" class=\"dataframe\">\n",
       "  <thead>\n",
       "    <tr style=\"text-align: right;\">\n",
       "      <th></th>\n",
       "      <th>gender</th>\n",
       "      <th>given_name</th>\n",
       "    </tr>\n",
       "  </thead>\n",
       "  <tbody>\n",
       "    <tr>\n",
       "      <th>0</th>\n",
       "      <td>male</td>\n",
       "      <td>daniel</td>\n",
       "    </tr>\n",
       "    <tr>\n",
       "      <th>1</th>\n",
       "      <td>male</td>\n",
       "      <td>sebastian</td>\n",
       "    </tr>\n",
       "    <tr>\n",
       "      <th>2</th>\n",
       "      <td>female</td>\n",
       "      <td>sarah</td>\n",
       "    </tr>\n",
       "    <tr>\n",
       "      <th>3</th>\n",
       "      <td>female</td>\n",
       "      <td>chloe</td>\n",
       "    </tr>\n",
       "    <tr>\n",
       "      <th>4</th>\n",
       "      <td>male</td>\n",
       "      <td>charlie</td>\n",
       "    </tr>\n",
       "  </tbody>\n",
       "</table>\n",
       "</div>"
      ],
      "text/plain": [
       "   gender given_name\n",
       "0    male     daniel\n",
       "1    male  sebastian\n",
       "2  female      sarah\n",
       "3  female      chloe\n",
       "4    male    charlie"
      ]
     },
     "execution_count": 6,
     "metadata": {},
     "output_type": "execute_result"
    }
   ],
   "source": [
    "df[\"gender\"] = apply_gender(all_gender, apply=df.given_name)\n",
    "df[[\"gender\",\"given_name\"]].head()"
   ]
  },
  {
   "cell_type": "markdown",
   "metadata": {},
   "source": [
    "### Création de la variable `class_age`"
   ]
  },
  {
   "cell_type": "markdown",
   "metadata": {},
   "source": [
    "Une seconde étape consiste à mettre en forme les données avant de créer une variable `class_age` calculée selon deux variable : `age` et `date_of_birth`."
   ]
  },
  {
   "cell_type": "code",
   "execution_count": 7,
   "metadata": {
    "scrolled": true
   },
   "outputs": [],
   "source": [
    "df[\"age_estimated\"] = calculate_age(df.date_of_birth, year=2020)\n",
    "df[\"age\"] = df.age.astype(float)"
   ]
  },
  {
   "cell_type": "markdown",
   "metadata": {},
   "source": [
    "Pour appliquer la transformation en tranche d'âge (car il y a beaucoup d'erreurs de cohérence entre la date de naissances et l'age renseigné), on utilise le découpage effectué par les documents d'analyse de **Santé Publique France**."
   ]
  },
  {
   "cell_type": "markdown",
   "metadata": {},
   "source": [
    "- 0-14 ans\n",
    "- 15-44 ans \n",
    "- 45-64 ans \n",
    "- 65-84 ans\n",
    "- 85+"
   ]
  },
  {
   "cell_type": "code",
   "execution_count": 8,
   "metadata": {},
   "outputs": [],
   "source": [
    "df[\"age_group\"] = df.apply(\n",
    "    lambda x : find_truth_age(x[\"age\"], x[\"age_estimated\"]), \n",
    "    axis=1)\n",
    "\n",
    "df[\"age_group\"] = df.age_group.replace({None: np.nan})"
   ]
  },
  {
   "cell_type": "markdown",
   "metadata": {},
   "source": [
    "Pour chaque ligne, on compare simultanément **l'age estimé** et **l'age renseigné**.\n",
    "- si les deux valeurs concordent (se trouvent dans la même classe d'âge) alors on applique la tranche d'age pour cette valeur.\n",
    "- si une des deux valeurs est manquante, on impute la classe d'age à partir de l'autre valeur présente (en vérifiant la concordance).\n",
    "- si les deux valeurs ne concordent pas (se trouve dans des classes d'âges différentes) alors on peut :\n",
    "\n",
    "     - prendre la moyenne des valeurs et imputer pour cette nouvelles classe (mais cela peut fausser grandement les analyses).\n",
    "     - vérifier la cohérence de chacune des valeurs et appliquer la plus probable (mais lorsque les deux valeurs sont probables, il est très difficile d'appliquer une règle).\n",
    "     - remplir par une valeur manquante \n"
   ]
  },
  {
   "cell_type": "code",
   "execution_count": 9,
   "metadata": {
    "scrolled": true
   },
   "outputs": [
    {
     "data": {
      "text/plain": [
       "0.603"
      ]
     },
     "execution_count": 9,
     "metadata": {},
     "output_type": "execute_result"
    }
   ],
   "source": [
    "round(df.age_group.isna().sum() / df.shape[0],3)"
   ]
  },
  {
   "cell_type": "markdown",
   "metadata": {},
   "source": [
    "Seulement 40% (2886) des valeurs concordent lorsque nous découpons sous forme de classes entre la variable `age` et la variable `age_estimated` calculée à partir de la variable `date_of_birth`."
   ]
  },
  {
   "cell_type": "code",
   "execution_count": 10,
   "metadata": {},
   "outputs": [
    {
     "data": {
      "text/html": [
       "<div>\n",
       "<style scoped>\n",
       "    .dataframe tbody tr th:only-of-type {\n",
       "        vertical-align: middle;\n",
       "    }\n",
       "\n",
       "    .dataframe tbody tr th {\n",
       "        vertical-align: top;\n",
       "    }\n",
       "\n",
       "    .dataframe thead th {\n",
       "        text-align: right;\n",
       "    }\n",
       "</style>\n",
       "<table border=\"1\" class=\"dataframe\">\n",
       "  <thead>\n",
       "    <tr style=\"text-align: right;\">\n",
       "      <th></th>\n",
       "      <th>age</th>\n",
       "      <th>age_estimated</th>\n",
       "      <th>date_of_birth</th>\n",
       "      <th>age_group</th>\n",
       "    </tr>\n",
       "  </thead>\n",
       "  <tbody>\n",
       "    <tr>\n",
       "      <th>616</th>\n",
       "      <td>37.0</td>\n",
       "      <td>62</td>\n",
       "      <td>19581108.0</td>\n",
       "      <td>NaN</td>\n",
       "    </tr>\n",
       "    <tr>\n",
       "      <th>999</th>\n",
       "      <td>37.0</td>\n",
       "      <td>104</td>\n",
       "      <td>19160325.0</td>\n",
       "      <td>NaN</td>\n",
       "    </tr>\n",
       "    <tr>\n",
       "      <th>6615</th>\n",
       "      <td>25.0</td>\n",
       "      <td>46</td>\n",
       "      <td>19740924.0</td>\n",
       "      <td>NaN</td>\n",
       "    </tr>\n",
       "    <tr>\n",
       "      <th>2689</th>\n",
       "      <td>9.0</td>\n",
       "      <td>47</td>\n",
       "      <td>19730522.0</td>\n",
       "      <td>NaN</td>\n",
       "    </tr>\n",
       "    <tr>\n",
       "      <th>972</th>\n",
       "      <td>28.0</td>\n",
       "      <td>64</td>\n",
       "      <td>19560215.0</td>\n",
       "      <td>NaN</td>\n",
       "    </tr>\n",
       "    <tr>\n",
       "      <th>5795</th>\n",
       "      <td>24.0</td>\n",
       "      <td>60</td>\n",
       "      <td>19600419.0</td>\n",
       "      <td>NaN</td>\n",
       "    </tr>\n",
       "    <tr>\n",
       "      <th>6185</th>\n",
       "      <td>32.0</td>\n",
       "      <td>102</td>\n",
       "      <td>19181003.0</td>\n",
       "      <td>NaN</td>\n",
       "    </tr>\n",
       "    <tr>\n",
       "      <th>6310</th>\n",
       "      <td>29.0</td>\n",
       "      <td>96</td>\n",
       "      <td>19240820.0</td>\n",
       "      <td>NaN</td>\n",
       "    </tr>\n",
       "    <tr>\n",
       "      <th>6033</th>\n",
       "      <td>29.0</td>\n",
       "      <td>70</td>\n",
       "      <td>19500303.0</td>\n",
       "      <td>NaN</td>\n",
       "    </tr>\n",
       "    <tr>\n",
       "      <th>466</th>\n",
       "      <td>31.0</td>\n",
       "      <td>117</td>\n",
       "      <td>19031218.0</td>\n",
       "      <td>NaN</td>\n",
       "    </tr>\n",
       "  </tbody>\n",
       "</table>\n",
       "</div>"
      ],
      "text/plain": [
       "       age age_estimated  date_of_birth age_group\n",
       "616   37.0            62     19581108.0       NaN\n",
       "999   37.0           104     19160325.0       NaN\n",
       "6615  25.0            46     19740924.0       NaN\n",
       "2689   9.0            47     19730522.0       NaN\n",
       "972   28.0            64     19560215.0       NaN\n",
       "5795  24.0            60     19600419.0       NaN\n",
       "6185  32.0           102     19181003.0       NaN\n",
       "6310  29.0            96     19240820.0       NaN\n",
       "6033  29.0            70     19500303.0       NaN\n",
       "466   31.0           117     19031218.0       NaN"
      ]
     },
     "execution_count": 10,
     "metadata": {},
     "output_type": "execute_result"
    }
   ],
   "source": [
    "df[['age','age_estimated','date_of_birth','age_group']][\n",
    "    df.age_group.isna()].sample(10)"
   ]
  },
  {
   "cell_type": "markdown",
   "metadata": {},
   "source": [
    "On peut voir que sur un échantillon, les différences entre `age` et `age_estimated` ne font ressortir aucun *pattern*. Il vaut donc mieux laisser ce champ inconnu."
   ]
  },
  {
   "cell_type": "markdown",
   "metadata": {},
   "source": [
    "*NB : petite idée, trouver une base comprennant la moyenne d'âge pour un prénom et de réperer quel est l'age le plus concordant avec cette moyenne et imputer selon cette valeur.*\n",
    "\n",
    "*NB2 : Une seconde pourrait être d'aller vérifier dans la table patient contenant les doublons, pour voir si pour ces valeurs les deux âges concordent*"
   ]
  },
  {
   "cell_type": "markdown",
   "metadata": {},
   "source": [
    "### Nettoyage des variables : `postcode` et `state`"
   ]
  },
  {
   "cell_type": "markdown",
   "metadata": {},
   "source": [
    "Nous appliquons ici les étapes que nous avons repérées lors du dernier notebook (correction des erreurs de typographie pour l'état et la vérification des codes postaux)."
   ]
  },
  {
   "cell_type": "markdown",
   "metadata": {},
   "source": [
    "Pour les **états** : "
   ]
  },
  {
   "cell_type": "code",
   "execution_count": 11,
   "metadata": {
    "scrolled": true
   },
   "outputs": [],
   "source": [
    "dict_ref = get_states()\n",
    "df[\"state\"] = find_best_similar(df.state, dict_ref, gestalt_pattern_matching)"
   ]
  },
  {
   "cell_type": "markdown",
   "metadata": {},
   "source": [
    "Pour les **codes postaux** :"
   ]
  },
  {
   "cell_type": "code",
   "execution_count": 12,
   "metadata": {},
   "outputs": [],
   "source": [
    "df[\"postcode\"] = df.postcode.fillna(0)\n",
    "df[\"postcode\"] = df.postcode.astype(int)"
   ]
  },
  {
   "cell_type": "markdown",
   "metadata": {},
   "source": [
    "Comme précédemment, les états et les code postaux ne correspondent pas pour tous les patients. On applique donc la fonction que nous avons utilisé pour connaître la cohérence de chacune et appliquer une valeur `None` si les deux informations ne concordent pas."
   ]
  },
  {
   "cell_type": "code",
   "execution_count": 13,
   "metadata": {},
   "outputs": [],
   "source": [
    "ref_post = get_postcode()\n",
    "df[\"state_by_pc\"] = postcode_coherence(\n",
    "    serie=df.postcode, ref_postcode=ref_post, convert=False)"
   ]
  },
  {
   "cell_type": "markdown",
   "metadata": {},
   "source": [
    "On peut vérifier le nombre d'incohérence entre états et code postaux (5833) soit 80% du jeu de données"
   ]
  },
  {
   "cell_type": "code",
   "execution_count": 14,
   "metadata": {},
   "outputs": [],
   "source": [
    "def match_state(s, p):\n",
    "    if s is None:\n",
    "        return p\n",
    "    elif p is None:\n",
    "        return s\n",
    "    elif (s == p):\n",
    "        return s\n",
    "    else:\n",
    "        return None"
   ]
  },
  {
   "cell_type": "code",
   "execution_count": 15,
   "metadata": {},
   "outputs": [],
   "source": [
    "z = df.apply(lambda x : match_state(x[\"state_by_pc\"], x[\"state\"]), axis=1)"
   ]
  },
  {
   "cell_type": "code",
   "execution_count": 16,
   "metadata": {},
   "outputs": [
    {
     "data": {
      "text/plain": [
       "5042"
      ]
     },
     "execution_count": 16,
     "metadata": {},
     "output_type": "execute_result"
    }
   ],
   "source": [
    "z.isna().sum()"
   ]
  },
  {
   "cell_type": "code",
   "execution_count": 17,
   "metadata": {},
   "outputs": [
    {
     "data": {
      "text/plain": [
       "5833"
      ]
     },
     "execution_count": 17,
     "metadata": {},
     "output_type": "execute_result"
    }
   ],
   "source": [
    "df.shape[0] - sum(df.state_by_pc == df.state) "
   ]
  },
  {
   "cell_type": "markdown",
   "metadata": {},
   "source": [
    "### Sélection des variables"
   ]
  },
  {
   "cell_type": "code",
   "execution_count": 19,
   "metadata": {
    "scrolled": false
   },
   "outputs": [
    {
     "data": {
      "text/html": [
       "<div>\n",
       "<style scoped>\n",
       "    .dataframe tbody tr th:only-of-type {\n",
       "        vertical-align: middle;\n",
       "    }\n",
       "\n",
       "    .dataframe tbody tr th {\n",
       "        vertical-align: top;\n",
       "    }\n",
       "\n",
       "    .dataframe thead th {\n",
       "        text-align: right;\n",
       "    }\n",
       "</style>\n",
       "<table border=\"1\" class=\"dataframe\">\n",
       "  <thead>\n",
       "    <tr style=\"text-align: right;\">\n",
       "      <th></th>\n",
       "      <th>pcr</th>\n",
       "      <th>gender</th>\n",
       "      <th>state</th>\n",
       "      <th>age_group</th>\n",
       "      <th>age</th>\n",
       "      <th>age_estimated</th>\n",
       "    </tr>\n",
       "  </thead>\n",
       "  <tbody>\n",
       "    <tr>\n",
       "      <th>0</th>\n",
       "      <td>N</td>\n",
       "      <td>male</td>\n",
       "      <td>NSW</td>\n",
       "      <td>45-64</td>\n",
       "      <td>NaN</td>\n",
       "      <td>47</td>\n",
       "    </tr>\n",
       "    <tr>\n",
       "      <th>1</th>\n",
       "      <td>N</td>\n",
       "      <td>male</td>\n",
       "      <td>WA</td>\n",
       "      <td>15-44</td>\n",
       "      <td>28.0</td>\n",
       "      <td>30</td>\n",
       "    </tr>\n",
       "    <tr>\n",
       "      <th>2</th>\n",
       "      <td>P</td>\n",
       "      <td>female</td>\n",
       "      <td>SA</td>\n",
       "      <td>65-84</td>\n",
       "      <td>NaN</td>\n",
       "      <td>77</td>\n",
       "    </tr>\n",
       "    <tr>\n",
       "      <th>3</th>\n",
       "      <td>N</td>\n",
       "      <td>female</td>\n",
       "      <td>QLD</td>\n",
       "      <td>NaN</td>\n",
       "      <td>19.0</td>\n",
       "      <td>66</td>\n",
       "    </tr>\n",
       "    <tr>\n",
       "      <th>4</th>\n",
       "      <td>N</td>\n",
       "      <td>male</td>\n",
       "      <td>QLD</td>\n",
       "      <td>NaN</td>\n",
       "      <td>35.0</td>\n",
       "      <td>45</td>\n",
       "    </tr>\n",
       "  </tbody>\n",
       "</table>\n",
       "</div>"
      ],
      "text/plain": [
       "  pcr  gender state age_group   age age_estimated\n",
       "0   N    male   NSW     45-64   NaN            47\n",
       "1   N    male    WA     15-44  28.0            30\n",
       "2   P  female    SA     65-84   NaN            77\n",
       "3   N  female   QLD       NaN  19.0            66\n",
       "4   N    male   QLD       NaN  35.0            45"
      ]
     },
     "execution_count": 19,
     "metadata": {},
     "output_type": "execute_result"
    }
   ],
   "source": [
    "df = df[['pcr', 'gender', 'state', 'age_group', 'age','age_estimated']]\n",
    "df.head()"
   ]
  },
  {
   "cell_type": "markdown",
   "metadata": {},
   "source": [
    "## Visualisation des données"
   ]
  },
  {
   "cell_type": "markdown",
   "metadata": {},
   "source": [
    "La dernière étape consiste à la visualisation des données."
   ]
  },
  {
   "cell_type": "markdown",
   "metadata": {},
   "source": [
    "### Map : États d'Australie"
   ]
  },
  {
   "cell_type": "markdown",
   "metadata": {},
   "source": [
    "On commence par importer notre map de l'Australie."
   ]
  },
  {
   "cell_type": "code",
   "execution_count": 20,
   "metadata": {},
   "outputs": [],
   "source": [
    "map_df = get_map(dict_ref)"
   ]
  },
  {
   "cell_type": "markdown",
   "metadata": {},
   "source": [
    "On peut afficher le nombre de test pour chaque état"
   ]
  },
  {
   "cell_type": "code",
   "execution_count": 21,
   "metadata": {
    "scrolled": false
   },
   "outputs": [
    {
     "data": {
      "image/png": "[encoded data removed]",
      "text/plain": [
       "<Figure size 864x576 with 2 Axes>"
      ]
     },
     "metadata": {
      "needs_background": "light"
     },
     "output_type": "display_data"
    }
   ],
   "source": [
    "pcr_count = df.groupby('state').count().pcr\n",
    "pcr_data = map_df.merge(pcr_count, on='state')\n",
    "\n",
    "plot_map(pcr_data, 'pcr', cmap='Reds', \n",
    "         color_font=\"black\", size_fig=(12,8),\n",
    "        title='Carte du nombre de patients testés en Australie')"
   ]
  },
  {
   "cell_type": "code",
   "execution_count": 23,
   "metadata": {},
   "outputs": [
    {
     "data": {
      "image/png": "[encoded data removed]",
      "text/plain": [
       "<Figure size 864x576 with 2 Axes>"
      ]
     },
     "metadata": {
      "needs_background": "light"
     },
     "output_type": "display_data"
    }
   ],
   "source": [
    "pourc_pos = np.round(df[df.pcr == 'P'].groupby('state').count().pcr \\\n",
    "      / df.groupby('state').count().pcr, 3) * 100\n",
    "pos_ratio_data = map_df.merge(pourc_pos, on='state')\n",
    "\n",
    "plot_map(pos_ratio_data, 'pcr', cmap='Reds', \n",
    "         color_font=\"black\", size_fig=(12,8),\n",
    "        title='Ratio du nombre de patients positifs sur les patient testés par État en Australie', vminmax=(0,100))"
   ]
  },
  {
   "cell_type": "markdown",
   "metadata": {},
   "source": [
    "### Histogramme"
   ]
  },
  {
   "cell_type": "code",
   "execution_count": 26,
   "metadata": {},
   "outputs": [],
   "source": [
    "df_N = df[df.pcr == 'N']\n",
    "df_P = df[df.pcr == 'P']"
   ]
  },
  {
   "cell_type": "code",
   "execution_count": 58,
   "metadata": {},
   "outputs": [],
   "source": [
    "def plot_bar_PN(df_N, df_P, var, title='', y=0, x=0):\n",
    "    \n",
    "    count_N = df_N[var].value_counts()\n",
    "    count_P = df_P[var].value_counts()\n",
    "\n",
    "    b = (0.45, 0.61, 0.8)\n",
    "    r = (0.64, 0.2, 0.17)\n",
    "    \n",
    "    plt.figure(figsize=(12,4))\n",
    "    plt.title(title)\n",
    "    plt.ylabel(\"Nombre de tests\")\n",
    "    plt.bar(x=count_N.index,\n",
    "            height=count_N, color=b, width=0.5, label='Negative')\n",
    "    plt.bar(x=count_P.index,\n",
    "            height=count_P, color=r, width=0.5, label='Positive')\n",
    "    plt.legend()\n",
    "    \n",
    "    for i, v in enumerate(count_N.values):\n",
    "        plt.text(i+x, v+y, s=str(v), color='black', fontweight='bold')\n",
    "\n",
    "    for i, v in enumerate(count_P.values):\n",
    "        plt.text(i+x , v+y, s=str(v), color='white', fontweight='bold')"
   ]
  },
  {
   "cell_type": "code",
   "execution_count": 59,
   "metadata": {},
   "outputs": [
    {
     "data": {
      "image/png": "[encoded data removed]",
      "text/plain": [
       "<Figure size 864x288 with 1 Axes>"
      ]
     },
     "metadata": {
      "needs_background": "light"
     },
     "output_type": "display_data"
    }
   ],
   "source": [
    "plot_bar_PN(df_N, df_P, 'gender', \n",
    "            y=-300, x=-0.03, \n",
    "            title='Répartition des résultats des tests PCR selon le sexe')"
   ]
  }
 ],
 "metadata": {
  "kernelspec": {
   "display_name": "Python 3",
   "language": "python",
   "name": "python3"
  },
  "language_info": {
   "codemirror_mode": {
    "name": "ipython",
    "version": 3
   },
   "file_extension": ".py",
   "mimetype": "text/x-python",
   "name": "python",
   "nbconvert_exporter": "python",
   "pygments_lexer": "ipython3",
   "version": "3.7.4"
  },
  "toc": {
   "base_numbering": 1,
   "nav_menu": {},
   "number_sections": true,
   "sideBar": true,
   "skip_h1_title": false,
   "title_cell": "Table of Contents",
   "title_sidebar": "Contents",
   "toc_cell": false,
   "toc_position": {},
   "toc_section_display": true,
   "toc_window_display": false
  },
  "varInspector": {
   "cols": {
    "lenName": 16,
    "lenType": 16,
    "lenVar": 40
   },
   "kernels_config": {
    "python": {
     "delete_cmd_postfix": "",
     "delete_cmd_prefix": "del ",
     "library": "var_list.py",
     "varRefreshCmd": "print(var_dic_list())"
    },
    "r": {
     "delete_cmd_postfix": ") ",
     "delete_cmd_prefix": "rm(",
     "library": "var_list.r",
     "varRefreshCmd": "cat(var_dic_list()) "
    }
   },
   "types_to_exclude": [
    "module",
    "function",
    "builtin_function_or_method",
    "instance",
    "_Feature"
   ],
   "window_display": false
  }
 },
 "nbformat": 4,
 "nbformat_minor": 2
}
