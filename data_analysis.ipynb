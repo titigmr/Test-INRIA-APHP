{
 "cells": [
  {
   "cell_type": "markdown",
   "metadata": {},
   "source": [
    "# Analyse exploratoire\n"
   ]
  },
  {
   "cell_type": "markdown",
   "metadata": {},
   "source": [
    "**1 - Importation des modules**"
   ]
  },
  {
   "cell_type": "code",
   "execution_count": 2,
   "metadata": {},
   "outputs": [],
   "source": [
    "import pandas as pd\n",
    "import numpy as np\n",
    "\n",
    "from utils.data import get_gender, get_states\n",
    "from utils.coherence import correct_typo, find_best_similar, gestalt_pattern_matching\n",
    "from utils.coherence import calculate_age, convert_to_date\n",
    "from utils.eda import apply_gender"
   ]
  },
  {
   "cell_type": "markdown",
   "metadata": {},
   "source": [
    "**2 - Lecture des données**"
   ]
  },
  {
   "cell_type": "code",
   "execution_count": 3,
   "metadata": {},
   "outputs": [],
   "source": [
    "df = pd.read_csv('df_patient_pcr.csv')\n",
    "df = df.replace({np.nan: None})"
   ]
  },
  {
   "cell_type": "code",
   "execution_count": 4,
   "metadata": {
    "scrolled": true
   },
   "outputs": [
    {
     "data": {
      "text/html": [
       "<div>\n",
       "<style scoped>\n",
       "    .dataframe tbody tr th:only-of-type {\n",
       "        vertical-align: middle;\n",
       "    }\n",
       "\n",
       "    .dataframe tbody tr th {\n",
       "        vertical-align: top;\n",
       "    }\n",
       "\n",
       "    .dataframe thead th {\n",
       "        text-align: right;\n",
       "    }\n",
       "</style>\n",
       "<table border=\"1\" class=\"dataframe\">\n",
       "  <thead>\n",
       "    <tr style=\"text-align: right;\">\n",
       "      <th></th>\n",
       "      <th>patient_id</th>\n",
       "      <th>pcr</th>\n",
       "      <th>given_name</th>\n",
       "      <th>surname</th>\n",
       "      <th>street_number</th>\n",
       "      <th>address_1</th>\n",
       "      <th>suburb</th>\n",
       "      <th>postcode</th>\n",
       "      <th>state</th>\n",
       "      <th>date_of_birth</th>\n",
       "      <th>age</th>\n",
       "      <th>phone_number</th>\n",
       "      <th>address_2</th>\n",
       "      <th>born_age</th>\n",
       "      <th>localisation</th>\n",
       "      <th>full_address</th>\n",
       "      <th>full_name</th>\n",
       "    </tr>\n",
       "  </thead>\n",
       "  <tbody>\n",
       "    <tr>\n",
       "      <th>0</th>\n",
       "      <td>653091</td>\n",
       "      <td>N</td>\n",
       "      <td>daniel</td>\n",
       "      <td>campbell</td>\n",
       "      <td>58</td>\n",
       "      <td>sid barnes crescent</td>\n",
       "      <td>north ward</td>\n",
       "      <td>4514</td>\n",
       "      <td>nsw</td>\n",
       "      <td>1.97304e+07</td>\n",
       "      <td>None</td>\n",
       "      <td>08 38772117</td>\n",
       "      <td>None</td>\n",
       "      <td>19730426</td>\n",
       "      <td>4514 nsw north ward</td>\n",
       "      <td>58 sid barnes crescent</td>\n",
       "      <td>campbell daniel</td>\n",
       "    </tr>\n",
       "    <tr>\n",
       "      <th>1</th>\n",
       "      <td>347667</td>\n",
       "      <td>N</td>\n",
       "      <td>sebastian</td>\n",
       "      <td>mchenry</td>\n",
       "      <td>12</td>\n",
       "      <td>mundawari circuit</td>\n",
       "      <td>swan view</td>\n",
       "      <td>4551</td>\n",
       "      <td>wa</td>\n",
       "      <td>1.99003e+07</td>\n",
       "      <td>28</td>\n",
       "      <td>08 61083524</td>\n",
       "      <td>ocean star villas</td>\n",
       "      <td>19900316 28</td>\n",
       "      <td>4551 wa swan view</td>\n",
       "      <td>12 mundawari circuit</td>\n",
       "      <td>mchenry sebastian</td>\n",
       "    </tr>\n",
       "    <tr>\n",
       "      <th>2</th>\n",
       "      <td>708481</td>\n",
       "      <td>P</td>\n",
       "      <td>sarah</td>\n",
       "      <td>rellos</td>\n",
       "      <td>20</td>\n",
       "      <td>torres street</td>\n",
       "      <td>bribie island</td>\n",
       "      <td>3199</td>\n",
       "      <td>sa</td>\n",
       "      <td>1.94303e+07</td>\n",
       "      <td>None</td>\n",
       "      <td>02 73197286</td>\n",
       "      <td>None</td>\n",
       "      <td>19430317</td>\n",
       "      <td>3199 sa bribie island</td>\n",
       "      <td>20 torres street</td>\n",
       "      <td>rellos sarah</td>\n",
       "    </tr>\n",
       "    <tr>\n",
       "      <th>3</th>\n",
       "      <td>148825</td>\n",
       "      <td>N</td>\n",
       "      <td>chloe</td>\n",
       "      <td>brammy</td>\n",
       "      <td>238</td>\n",
       "      <td>fitchett street</td>\n",
       "      <td>carnegie</td>\n",
       "      <td>3280</td>\n",
       "      <td>qld</td>\n",
       "      <td>1.95405e+07</td>\n",
       "      <td>19</td>\n",
       "      <td>02 48826642</td>\n",
       "      <td>None</td>\n",
       "      <td>19540528 19</td>\n",
       "      <td>3280 qld carnegie</td>\n",
       "      <td>238 fitchett street</td>\n",
       "      <td>brammy chloe</td>\n",
       "    </tr>\n",
       "    <tr>\n",
       "      <th>4</th>\n",
       "      <td>150081</td>\n",
       "      <td>N</td>\n",
       "      <td>charlie</td>\n",
       "      <td>None</td>\n",
       "      <td>6</td>\n",
       "      <td>clark close</td>\n",
       "      <td>south melbourne</td>\n",
       "      <td>2602</td>\n",
       "      <td>qld</td>\n",
       "      <td>1.97503e+07</td>\n",
       "      <td>35</td>\n",
       "      <td>03 24096098</td>\n",
       "      <td>talawa</td>\n",
       "      <td>19750331 35</td>\n",
       "      <td>2602 qld south melbourne</td>\n",
       "      <td>6 clark close</td>\n",
       "      <td>charlie</td>\n",
       "    </tr>\n",
       "  </tbody>\n",
       "</table>\n",
       "</div>"
      ],
      "text/plain": [
       "   patient_id pcr given_name   surname street_number            address_1  \\\n",
       "0      653091   N     daniel  campbell            58  sid barnes crescent   \n",
       "1      347667   N  sebastian   mchenry            12    mundawari circuit   \n",
       "2      708481   P      sarah    rellos            20        torres street   \n",
       "3      148825   N      chloe    brammy           238      fitchett street   \n",
       "4      150081   N    charlie      None             6          clark close   \n",
       "\n",
       "            suburb postcode state date_of_birth   age phone_number  \\\n",
       "0       north ward     4514   nsw   1.97304e+07  None  08 38772117   \n",
       "1        swan view     4551    wa   1.99003e+07    28  08 61083524   \n",
       "2    bribie island     3199    sa   1.94303e+07  None  02 73197286   \n",
       "3         carnegie     3280   qld   1.95405e+07    19  02 48826642   \n",
       "4  south melbourne     2602   qld   1.97503e+07    35  03 24096098   \n",
       "\n",
       "           address_2     born_age              localisation  \\\n",
       "0               None    19730426        4514 nsw north ward   \n",
       "1  ocean star villas  19900316 28         4551 wa swan view   \n",
       "2               None    19430317      3199 sa bribie island   \n",
       "3               None  19540528 19         3280 qld carnegie   \n",
       "4             talawa  19750331 35  2602 qld south melbourne   \n",
       "\n",
       "             full_address          full_name  \n",
       "0  58 sid barnes crescent    campbell daniel  \n",
       "1    12 mundawari circuit  mchenry sebastian  \n",
       "2        20 torres street       rellos sarah  \n",
       "3     238 fitchett street       brammy chloe  \n",
       "4           6 clark close            charlie  "
      ]
     },
     "execution_count": 4,
     "metadata": {},
     "output_type": "execute_result"
    }
   ],
   "source": [
    "df.head()"
   ]
  },
  {
   "cell_type": "markdown",
   "metadata": {},
   "source": [
    "## Pré-traitement des données"
   ]
  },
  {
   "cell_type": "markdown",
   "metadata": {},
   "source": [
    "Avant de commencer l'analyse exploratoires, nous allons nettoyer la base de données et créer de nouvelles variables pouvant être pertinentes lors de l'analyse.  Enfin, nous sélectionnerons les variables utiles pour l'analyse pour créer notre jeu de données final."
   ]
  },
  {
   "cell_type": "markdown",
   "metadata": {},
   "source": [
    "### Création d'une variable `Gender`"
   ]
  },
  {
   "cell_type": "markdown",
   "metadata": {},
   "source": [
    "On commence par corriger les prénoms mal orthographiés avec la fonction utilisée précédemment pour les adresses et la banlieue (`correct_typo`).\n",
    "\n",
    "Après plusieurs itérations, une similtude à 85% entre deux chaînes de caractère semble convenir en prenant comme base de référence les prénoms apparaissant plus de 3 fois (pour ne pas corriger un prénom par un autre)."
   ]
  },
  {
   "cell_type": "code",
   "execution_count": 4,
   "metadata": {},
   "outputs": [],
   "source": [
    "given_name_corrected = correct_typo(df.given_name, threshold=3,confidence=85)\n",
    "df.given_name = df.given_name.replace(given_name_corrected)"
   ]
  },
  {
   "cell_type": "markdown",
   "metadata": {},
   "source": [
    "On utilise ensuite une [API](https://genderize.io) qui fournit le sexe s'apparentant au mieux à un prénom, avec une probabilité indiquant la confiance de cette prédiction.\n",
    "\n",
    "*NOTE : Toutefois, l'API limite ses requêtes et une exception est levée lors du seuil par jour atteind. Dans ce cas, la fonction renvoie donc la dernière données sauvegardée.*"
   ]
  },
  {
   "cell_type": "code",
   "execution_count": 5,
   "metadata": {},
   "outputs": [
    {
     "name": "stdout",
     "output_type": "stream",
     "text": [
      "Request limit\n"
     ]
    }
   ],
   "source": [
    "unique_name = df.given_name.unique()\n",
    "all_gender = get_gender(unique_name)"
   ]
  },
  {
   "cell_type": "markdown",
   "metadata": {},
   "source": [
    "On a donc notre nouvelle variable `gender`."
   ]
  },
  {
   "cell_type": "code",
   "execution_count": 6,
   "metadata": {
    "scrolled": true
   },
   "outputs": [],
   "source": [
    "df[\"gender\"] = apply_gender(all_gender, apply=df.given_name)"
   ]
  },
  {
   "cell_type": "markdown",
   "metadata": {},
   "source": [
    "### Création de la variable `class_age`"
   ]
  },
  {
   "cell_type": "markdown",
   "metadata": {},
   "source": [
    "Une seconde étape consiste à mettre en forme les données avant de créer une variable `class_age` calculée selon deux variable : `age` et `date_of_birth`."
   ]
  },
  {
   "cell_type": "code",
   "execution_count": 5,
   "metadata": {
    "scrolled": true
   },
   "outputs": [],
   "source": [
    "df[\"age_estimated\"] = calculate_age(df.date_of_birth, year=2020)\n",
    "df[\"age\"] = df.age.astype(float)"
   ]
  },
  {
   "cell_type": "markdown",
   "metadata": {},
   "source": [
    "Pour appliquer la transformation en tranche d'âge (car il y a beaucoup d'erreurs de cohérence entre la date de naissances et l'age renseigné), on utilise le découpage effectué par les documents d'analyse de **Santé Publique France**."
   ]
  },
  {
   "cell_type": "code",
   "execution_count": 58,
   "metadata": {},
   "outputs": [],
   "source": [
    "df[\"age_group\"] = df.apply(\n",
    "    lambda x : find_truth_age(x[\"age\"], x[\"age_estimated\"]), \n",
    "    axis=1)\n",
    "\n",
    "df[\"age_group\"] = df.age_group.replace({None: np.nan})"
   ]
  },
  {
   "cell_type": "markdown",
   "metadata": {},
   "source": [
    "Pour chaque ligne, on compare simultanément **l'age estimé** et **l'age renseigné**.\n",
    "- si les deux valeurs concordent (se trouvent dans la même classe d'âge) alors on applique la tranche d'age pour cette valeur.\n",
    "- si une des deux valeurs est manquante, on impute la classe d'age à partir de l'autre valeur présente (en vérifiant la concordance).\n",
    "- si les deux valeurs ne concordent pas (se trouve dans des classes d'âges différentes) alors on peut :\n",
    "\n",
    "     - prendre la moyenne des valeurs et imputer pour cette nouvelles classe (mais cela peut fausser grandement les analyses).\n",
    "     - vérifier la cohérence de chacune des valeurs et appliquer la plus probable (mais lorsque les deux valeurs sont probables, il est très difficile d'appliquer une règle).\n"
   ]
  },
  {
   "cell_type": "code",
   "execution_count": 67,
   "metadata": {},
   "outputs": [
    {
     "data": {
      "text/plain": [
       "0.603"
      ]
     },
     "execution_count": 67,
     "metadata": {},
     "output_type": "execute_result"
    }
   ],
   "source": [
    "round(df.age_group.isna().sum() / df.shape[0],3)"
   ]
  },
  {
   "cell_type": "markdown",
   "metadata": {},
   "source": [
    "Seulement 40% (2886) des valeurs concordent lorsque nous découpons sous forme de classes entre la variable `age` et la variable `age_estimated` calculée à partir de la variable `date_of_birth`."
   ]
  },
  {
   "cell_type": "code",
   "execution_count": 73,
   "metadata": {},
   "outputs": [
    {
     "data": {
      "text/html": [
       "<div>\n",
       "<style scoped>\n",
       "    .dataframe tbody tr th:only-of-type {\n",
       "        vertical-align: middle;\n",
       "    }\n",
       "\n",
       "    .dataframe tbody tr th {\n",
       "        vertical-align: top;\n",
       "    }\n",
       "\n",
       "    .dataframe thead th {\n",
       "        text-align: right;\n",
       "    }\n",
       "</style>\n",
       "<table border=\"1\" class=\"dataframe\">\n",
       "  <thead>\n",
       "    <tr style=\"text-align: right;\">\n",
       "      <th></th>\n",
       "      <th>age</th>\n",
       "      <th>age_estimated</th>\n",
       "      <th>date_of_birth</th>\n",
       "      <th>age_group</th>\n",
       "    </tr>\n",
       "  </thead>\n",
       "  <tbody>\n",
       "    <tr>\n",
       "      <th>6387</th>\n",
       "      <td>27.0</td>\n",
       "      <td>88</td>\n",
       "      <td>19321217.0</td>\n",
       "      <td>NaN</td>\n",
       "    </tr>\n",
       "    <tr>\n",
       "      <th>7178</th>\n",
       "      <td>22.0</td>\n",
       "      <td>98</td>\n",
       "      <td>19220618.0</td>\n",
       "      <td>NaN</td>\n",
       "    </tr>\n",
       "    <tr>\n",
       "      <th>2600</th>\n",
       "      <td>28.0</td>\n",
       "      <td>64</td>\n",
       "      <td>19560525.0</td>\n",
       "      <td>NaN</td>\n",
       "    </tr>\n",
       "    <tr>\n",
       "      <th>5379</th>\n",
       "      <td>38.0</td>\n",
       "      <td>112</td>\n",
       "      <td>19081209.0</td>\n",
       "      <td>NaN</td>\n",
       "    </tr>\n",
       "    <tr>\n",
       "      <th>6118</th>\n",
       "      <td>22.0</td>\n",
       "      <td>65</td>\n",
       "      <td>19551229.0</td>\n",
       "      <td>NaN</td>\n",
       "    </tr>\n",
       "    <tr>\n",
       "      <th>4102</th>\n",
       "      <td>13.0</td>\n",
       "      <td>37</td>\n",
       "      <td>19830123.0</td>\n",
       "      <td>NaN</td>\n",
       "    </tr>\n",
       "    <tr>\n",
       "      <th>209</th>\n",
       "      <td>37.0</td>\n",
       "      <td>51</td>\n",
       "      <td>19690524.0</td>\n",
       "      <td>NaN</td>\n",
       "    </tr>\n",
       "    <tr>\n",
       "      <th>6412</th>\n",
       "      <td>24.0</td>\n",
       "      <td>45</td>\n",
       "      <td>19750606.0</td>\n",
       "      <td>NaN</td>\n",
       "    </tr>\n",
       "    <tr>\n",
       "      <th>230</th>\n",
       "      <td>37.0</td>\n",
       "      <td>75</td>\n",
       "      <td>19450114.0</td>\n",
       "      <td>NaN</td>\n",
       "    </tr>\n",
       "    <tr>\n",
       "      <th>2294</th>\n",
       "      <td>28.0</td>\n",
       "      <td>46</td>\n",
       "      <td>19741021.0</td>\n",
       "      <td>NaN</td>\n",
       "    </tr>\n",
       "  </tbody>\n",
       "</table>\n",
       "</div>"
      ],
      "text/plain": [
       "       age age_estimated  date_of_birth age_group\n",
       "6387  27.0            88     19321217.0       NaN\n",
       "7178  22.0            98     19220618.0       NaN\n",
       "2600  28.0            64     19560525.0       NaN\n",
       "5379  38.0           112     19081209.0       NaN\n",
       "6118  22.0            65     19551229.0       NaN\n",
       "4102  13.0            37     19830123.0       NaN\n",
       "209   37.0            51     19690524.0       NaN\n",
       "6412  24.0            45     19750606.0       NaN\n",
       "230   37.0            75     19450114.0       NaN\n",
       "2294  28.0            46     19741021.0       NaN"
      ]
     },
     "execution_count": 73,
     "metadata": {},
     "output_type": "execute_result"
    }
   ],
   "source": [
    "df[['age','age_estimated','date_of_birth','age_group']][\n",
    "    df.age_group.isna()].sample(10)"
   ]
  },
  {
   "cell_type": "markdown",
   "metadata": {},
   "source": [
    "On peut voir que sur un échantillon, les différences entre `age` et `age_estimated` ne font ressortir aucun *pattern*. Il vaut donc mieux laisser ce champ inconnu."
   ]
  },
  {
   "cell_type": "markdown",
   "metadata": {},
   "source": [
    "*NB : petite idée, trouver une base comprennant la moyenne d'âge pour un prénom et de réperer quel est l'age le plus concordant avec cette moyenne et imputer selon cette valeur.*"
   ]
  },
  {
   "cell_type": "markdown",
   "metadata": {},
   "source": [
    "### Nettoyage des variables : `postcode` et `state`"
   ]
  },
  {
   "cell_type": "markdown",
   "metadata": {},
   "source": [
    "Nous appliquons ici les étapes que nous avons repérées lors du dernier notebook (correction des erreurs de typographie pour l'état et la vérification des codes postaux)."
   ]
  },
  {
   "cell_type": "code",
   "execution_count": 74,
   "metadata": {
    "scrolled": true
   },
   "outputs": [],
   "source": [
    "dict_ref = get_states()\n",
    "df[\"state\"] = find_best_similar(df.state, dict_ref, gestalt_pattern_matching)"
   ]
  },
  {
   "cell_type": "code",
   "execution_count": null,
   "metadata": {},
   "outputs": [],
   "source": []
  }
 ],
 "metadata": {
  "kernelspec": {
   "display_name": "Python 3",
   "language": "python",
   "name": "python3"
  },
  "language_info": {
   "codemirror_mode": {
    "name": "ipython",
    "version": 3
   },
   "file_extension": ".py",
   "mimetype": "text/x-python",
   "name": "python",
   "nbconvert_exporter": "python",
   "pygments_lexer": "ipython3",
   "version": "3.7.4"
  },
  "toc": {
   "base_numbering": 1,
   "nav_menu": {},
   "number_sections": true,
   "sideBar": true,
   "skip_h1_title": false,
   "title_cell": "Table of Contents",
   "title_sidebar": "Contents",
   "toc_cell": false,
   "toc_position": {},
   "toc_section_display": true,
   "toc_window_display": false
  },
  "varInspector": {
   "cols": {
    "lenName": 16,
    "lenType": 16,
    "lenVar": 40
   },
   "kernels_config": {
    "python": {
     "delete_cmd_postfix": "",
     "delete_cmd_prefix": "del ",
     "library": "var_list.py",
     "varRefreshCmd": "print(var_dic_list())"
    },
    "r": {
     "delete_cmd_postfix": ") ",
     "delete_cmd_prefix": "rm(",
     "library": "var_list.r",
     "varRefreshCmd": "cat(var_dic_list()) "
    }
   },
   "types_to_exclude": [
    "module",
    "function",
    "builtin_function_or_method",
    "instance",
    "_Feature"
   ],
   "window_display": false
  }
 },
 "nbformat": 4,
 "nbformat_minor": 2
}
