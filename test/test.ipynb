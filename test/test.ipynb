{
 "cells": [
  {
   "cell_type": "code",
   "execution_count": 9,
   "metadata": {},
   "outputs": [],
   "source": [
    "import sys\n",
    "sys.path.append(\"..\")\n",
    "\n",
    "from utils.deduplicate import Duplication"
   ]
  },
  {
   "cell_type": "code",
   "execution_count": 16,
   "metadata": {},
   "outputs": [],
   "source": [
    "import pandas as pd\n",
    "from sqlalchemy import create_engine\n",
    "\n",
    "engine = create_engine('sqlite:///../data.db', echo=False)\n",
    "con = engine.connect()\n",
    "df_patient = pd.read_sql('select * from patient', con=con)\n",
    "df_pcr = pd.read_sql('select * from test', con=con)\n",
    "con.close()"
   ]
  },
  {
   "cell_type": "code",
   "execution_count": 25,
   "metadata": {},
   "outputs": [],
   "source": [
    "df_t = pd.DataFrame({\"a\":[True,True,False], \"b\":[True,True,False]})"
   ]
  },
  {
   "cell_type": "code",
   "execution_count": 24,
   "metadata": {},
   "outputs": [],
   "source": [
    "def __calculate_matching__(match, var_threshold):\n",
    "    return match[var_threshold].sum(axis=1) / len(var_threshold)"
   ]
  },
  {
   "cell_type": "code",
   "execution_count": 29,
   "metadata": {},
   "outputs": [
    {
     "data": {
      "text/plain": [
       "0    1.0\n",
       "1    1.0\n",
       "2    0.0\n",
       "dtype: float64"
      ]
     },
     "execution_count": 29,
     "metadata": {},
     "output_type": "execute_result"
    }
   ],
   "source": []
  },
  {
   "cell_type": "code",
   "execution_count": 32,
   "metadata": {},
   "outputs": [
    {
     "data": {
      "text/plain": [
       "0     True\n",
       "1     True\n",
       "2    False\n",
       "dtype: bool"
      ]
     },
     "execution_count": 32,
     "metadata": {},
     "output_type": "execute_result"
    }
   ],
   "source": [
    "\n",
    "d = __calculate_matching__(df_t, [\"a\",\"b\"]) >= 0.9\n",
    "d"
   ]
  },
  {
   "cell_type": "code",
   "execution_count": 39,
   "metadata": {},
   "outputs": [
    {
     "data": {
      "text/plain": [
       "Int64Index([0, 1], dtype='int64')"
      ]
     },
     "execution_count": 39,
     "metadata": {},
     "output_type": "execute_result"
    }
   ],
   "source": [
    "d.index[d]"
   ]
  },
  {
   "cell_type": "code",
   "execution_count": 40,
   "metadata": {},
   "outputs": [],
   "source": [
    "indice_duplicates = list()\n",
    "\n",
    "if any(d):\n",
    "    indice_duplicates.extend(d.index[d])"
   ]
  },
  {
   "cell_type": "code",
   "execution_count": 41,
   "metadata": {},
   "outputs": [
    {
     "data": {
      "text/plain": [
       "[0, 1]"
      ]
     },
     "execution_count": 41,
     "metadata": {},
     "output_type": "execute_result"
    }
   ],
   "source": [
    "indice_duplicates"
   ]
  },
  {
   "cell_type": "code",
   "execution_count": 26,
   "metadata": {},
   "outputs": [],
   "source": [
    "\n",
    "def test_cm():\n",
    "    assert __calculate_matching__(df_t, [\"a\",\"b\"]) == 1"
   ]
  },
  {
   "cell_type": "code",
   "execution_count": 28,
   "metadata": {},
   "outputs": [
    {
     "ename": "ValueError",
     "evalue": "The truth value of a Series is ambiguous. Use a.empty, a.bool(), a.item(), a.any() or a.all().",
     "output_type": "error",
     "traceback": [
      "\u001b[0;31m---------------------------------------------------------------------------\u001b[0m",
      "\u001b[0;31mValueError\u001b[0m                                Traceback (most recent call last)",
      "\u001b[0;32m<ipython-input-28-93ea0f523155>\u001b[0m in \u001b[0;36m<module>\u001b[0;34m\u001b[0m\n\u001b[0;32m----> 1\u001b[0;31m \u001b[0mtest_cm\u001b[0m\u001b[0;34m(\u001b[0m\u001b[0;34m)\u001b[0m\u001b[0;34m\u001b[0m\u001b[0;34m\u001b[0m\u001b[0m\n\u001b[0m",
      "\u001b[0;32m<ipython-input-26-65d3dbe30c71>\u001b[0m in \u001b[0;36mtest_cm\u001b[0;34m()\u001b[0m\n\u001b[1;32m      1\u001b[0m \u001b[0;32mdef\u001b[0m \u001b[0mtest_cm\u001b[0m\u001b[0;34m(\u001b[0m\u001b[0;34m)\u001b[0m\u001b[0;34m:\u001b[0m\u001b[0;34m\u001b[0m\u001b[0;34m\u001b[0m\u001b[0m\n\u001b[0;32m----> 2\u001b[0;31m     \u001b[0;32massert\u001b[0m \u001b[0m__calculate_matching__\u001b[0m\u001b[0;34m(\u001b[0m\u001b[0mdf_t\u001b[0m\u001b[0;34m,\u001b[0m \u001b[0;34m[\u001b[0m\u001b[0;34m\"a\"\u001b[0m\u001b[0;34m,\u001b[0m\u001b[0;34m\"b\"\u001b[0m\u001b[0;34m]\u001b[0m\u001b[0;34m)\u001b[0m \u001b[0;34m==\u001b[0m \u001b[0;36m1\u001b[0m\u001b[0;34m\u001b[0m\u001b[0;34m\u001b[0m\u001b[0m\n\u001b[0m",
      "\u001b[0;32m~/opt/anaconda3/lib/python3.7/site-packages/pandas/core/generic.py\u001b[0m in \u001b[0;36m__nonzero__\u001b[0;34m(self)\u001b[0m\n\u001b[1;32m   1553\u001b[0m             \u001b[0;34m\"The truth value of a {0} is ambiguous. \"\u001b[0m\u001b[0;34m\u001b[0m\u001b[0;34m\u001b[0m\u001b[0m\n\u001b[1;32m   1554\u001b[0m             \"Use a.empty, a.bool(), a.item(), a.any() or a.all().\".format(\n\u001b[0;32m-> 1555\u001b[0;31m                 \u001b[0mself\u001b[0m\u001b[0;34m.\u001b[0m\u001b[0m__class__\u001b[0m\u001b[0;34m.\u001b[0m\u001b[0m__name__\u001b[0m\u001b[0;34m\u001b[0m\u001b[0;34m\u001b[0m\u001b[0m\n\u001b[0m\u001b[1;32m   1556\u001b[0m             )\n\u001b[1;32m   1557\u001b[0m         )\n",
      "\u001b[0;31mValueError\u001b[0m: The truth value of a Series is ambiguous. Use a.empty, a.bool(), a.item(), a.any() or a.all()."
     ]
    }
   ],
   "source": [
    "test_cm()"
   ]
  },
  {
   "cell_type": "code",
   "execution_count": 18,
   "metadata": {},
   "outputs": [
    {
     "data": {
      "text/html": [
       "<div>\n",
       "<style scoped>\n",
       "    .dataframe tbody tr th:only-of-type {\n",
       "        vertical-align: middle;\n",
       "    }\n",
       "\n",
       "    .dataframe tbody tr th {\n",
       "        vertical-align: top;\n",
       "    }\n",
       "\n",
       "    .dataframe thead th {\n",
       "        text-align: right;\n",
       "    }\n",
       "</style>\n",
       "<table border=\"1\" class=\"dataframe\">\n",
       "  <thead>\n",
       "    <tr style=\"text-align: right;\">\n",
       "      <th></th>\n",
       "      <th>patient_id</th>\n",
       "      <th>given_name</th>\n",
       "      <th>surname</th>\n",
       "      <th>street_number</th>\n",
       "      <th>address_1</th>\n",
       "      <th>suburb</th>\n",
       "      <th>postcode</th>\n",
       "      <th>state</th>\n",
       "      <th>date_of_birth</th>\n",
       "      <th>age</th>\n",
       "      <th>phone_number</th>\n",
       "      <th>address_2</th>\n",
       "    </tr>\n",
       "  </thead>\n",
       "  <tbody>\n",
       "    <tr>\n",
       "      <th>0</th>\n",
       "      <td>221958</td>\n",
       "      <td>matisse</td>\n",
       "      <td>clarke</td>\n",
       "      <td>13.0</td>\n",
       "      <td>rene street</td>\n",
       "      <td>ellenbrook</td>\n",
       "      <td>2527</td>\n",
       "      <td>wa</td>\n",
       "      <td>19710708.0</td>\n",
       "      <td>32.0</td>\n",
       "      <td>08 86018809</td>\n",
       "      <td>westella</td>\n",
       "    </tr>\n",
       "    <tr>\n",
       "      <th>1</th>\n",
       "      <td>771155</td>\n",
       "      <td>joshua</td>\n",
       "      <td>elrick</td>\n",
       "      <td>23.0</td>\n",
       "      <td>andrea place</td>\n",
       "      <td>east preston</td>\n",
       "      <td>2074</td>\n",
       "      <td>nsw</td>\n",
       "      <td>19120921.0</td>\n",
       "      <td>34.0</td>\n",
       "      <td>02 97793152</td>\n",
       "      <td>foxdown</td>\n",
       "    </tr>\n",
       "    <tr>\n",
       "      <th>2</th>\n",
       "      <td>231932</td>\n",
       "      <td>alice</td>\n",
       "      <td>conboy</td>\n",
       "      <td>35.0</td>\n",
       "      <td>mountain circuit</td>\n",
       "      <td>prospect</td>\n",
       "      <td>2305</td>\n",
       "      <td>nsw</td>\n",
       "      <td>19810905.0</td>\n",
       "      <td>22.0</td>\n",
       "      <td>02 20403934</td>\n",
       "      <td>None</td>\n",
       "    </tr>\n",
       "    <tr>\n",
       "      <th>3</th>\n",
       "      <td>465838</td>\n",
       "      <td>sienna</td>\n",
       "      <td>craswell</td>\n",
       "      <td>39.0</td>\n",
       "      <td>cumberlegeicrescent</td>\n",
       "      <td>henty</td>\n",
       "      <td>3620</td>\n",
       "      <td>wa</td>\n",
       "      <td>19840809.0</td>\n",
       "      <td>30.0</td>\n",
       "      <td>02 62832318</td>\n",
       "      <td>jodane</td>\n",
       "    </tr>\n",
       "    <tr>\n",
       "      <th>4</th>\n",
       "      <td>359178</td>\n",
       "      <td>joshua</td>\n",
       "      <td>bastiaans</td>\n",
       "      <td>144.0</td>\n",
       "      <td>lowrie street</td>\n",
       "      <td>campbell town</td>\n",
       "      <td>4051</td>\n",
       "      <td>nsw</td>\n",
       "      <td>19340430.0</td>\n",
       "      <td>31.0</td>\n",
       "      <td>03 69359594</td>\n",
       "      <td>None</td>\n",
       "    </tr>\n",
       "    <tr>\n",
       "      <th>...</th>\n",
       "      <td>...</td>\n",
       "      <td>...</td>\n",
       "      <td>...</td>\n",
       "      <td>...</td>\n",
       "      <td>...</td>\n",
       "      <td>...</td>\n",
       "      <td>...</td>\n",
       "      <td>...</td>\n",
       "      <td>...</td>\n",
       "      <td>...</td>\n",
       "      <td>...</td>\n",
       "      <td>...</td>\n",
       "    </tr>\n",
       "    <tr>\n",
       "      <th>19995</th>\n",
       "      <td>368617</td>\n",
       "      <td>abby</td>\n",
       "      <td>None</td>\n",
       "      <td>19.0</td>\n",
       "      <td>john cleland crescent</td>\n",
       "      <td>boyne island</td>\n",
       "      <td>2290</td>\n",
       "      <td>nsw</td>\n",
       "      <td>19570210.0</td>\n",
       "      <td>NaN</td>\n",
       "      <td>02 92489054</td>\n",
       "      <td>glenmore</td>\n",
       "    </tr>\n",
       "    <tr>\n",
       "      <th>19996</th>\n",
       "      <td>796658</td>\n",
       "      <td>dale</td>\n",
       "      <td>priest</td>\n",
       "      <td>19.0</td>\n",
       "      <td>bellchambers crescent</td>\n",
       "      <td>hoppers crossing</td>\n",
       "      <td>3033</td>\n",
       "      <td>wa</td>\n",
       "      <td>19590619.0</td>\n",
       "      <td>31.0</td>\n",
       "      <td>07 20549476</td>\n",
       "      <td>None</td>\n",
       "    </tr>\n",
       "    <tr>\n",
       "      <th>19997</th>\n",
       "      <td>511885</td>\n",
       "      <td>alessia</td>\n",
       "      <td>mawlai</td>\n",
       "      <td>4.0</td>\n",
       "      <td>miller street</td>\n",
       "      <td>smithfield</td>\n",
       "      <td>3616</td>\n",
       "      <td>tas</td>\n",
       "      <td>NaN</td>\n",
       "      <td>26.0</td>\n",
       "      <td>03 83466737</td>\n",
       "      <td>None</td>\n",
       "    </tr>\n",
       "    <tr>\n",
       "      <th>19998</th>\n",
       "      <td>985932</td>\n",
       "      <td>hannah</td>\n",
       "      <td>mason</td>\n",
       "      <td>1.0</td>\n",
       "      <td>halligan place</td>\n",
       "      <td>beaumaris</td>\n",
       "      <td>2443</td>\n",
       "      <td>wa</td>\n",
       "      <td>19140304.0</td>\n",
       "      <td>25.0</td>\n",
       "      <td>04 41125514</td>\n",
       "      <td>None</td>\n",
       "    </tr>\n",
       "    <tr>\n",
       "      <th>19999</th>\n",
       "      <td>925217</td>\n",
       "      <td>jack</td>\n",
       "      <td>mcveigh</td>\n",
       "      <td>5.0</td>\n",
       "      <td>alinda place</td>\n",
       "      <td>thornlands</td>\n",
       "      <td>4350</td>\n",
       "      <td>nsw</td>\n",
       "      <td>19230521.0</td>\n",
       "      <td>26.0</td>\n",
       "      <td>07 52535106</td>\n",
       "      <td>None</td>\n",
       "    </tr>\n",
       "  </tbody>\n",
       "</table>\n",
       "<p>20000 rows × 12 columns</p>\n",
       "</div>"
      ],
      "text/plain": [
       "       patient_id given_name    surname  street_number              address_1  \\\n",
       "0          221958    matisse     clarke           13.0            rene street   \n",
       "1          771155     joshua     elrick           23.0           andrea place   \n",
       "2          231932      alice     conboy           35.0       mountain circuit   \n",
       "3          465838     sienna   craswell           39.0    cumberlegeicrescent   \n",
       "4          359178     joshua  bastiaans          144.0          lowrie street   \n",
       "...           ...        ...        ...            ...                    ...   \n",
       "19995      368617       abby       None           19.0  john cleland crescent   \n",
       "19996      796658       dale     priest           19.0  bellchambers crescent   \n",
       "19997      511885    alessia     mawlai            4.0          miller street   \n",
       "19998      985932     hannah      mason            1.0         halligan place   \n",
       "19999      925217       jack    mcveigh            5.0           alinda place   \n",
       "\n",
       "                 suburb postcode state  date_of_birth   age phone_number  \\\n",
       "0            ellenbrook     2527    wa     19710708.0  32.0  08 86018809   \n",
       "1          east preston     2074   nsw     19120921.0  34.0  02 97793152   \n",
       "2              prospect     2305   nsw     19810905.0  22.0  02 20403934   \n",
       "3                 henty     3620    wa     19840809.0  30.0  02 62832318   \n",
       "4         campbell town     4051   nsw     19340430.0  31.0  03 69359594   \n",
       "...                 ...      ...   ...            ...   ...          ...   \n",
       "19995      boyne island     2290   nsw     19570210.0   NaN  02 92489054   \n",
       "19996  hoppers crossing     3033    wa     19590619.0  31.0  07 20549476   \n",
       "19997        smithfield     3616   tas            NaN  26.0  03 83466737   \n",
       "19998         beaumaris     2443    wa     19140304.0  25.0  04 41125514   \n",
       "19999        thornlands     4350   nsw     19230521.0  26.0  07 52535106   \n",
       "\n",
       "      address_2  \n",
       "0      westella  \n",
       "1       foxdown  \n",
       "2          None  \n",
       "3        jodane  \n",
       "4          None  \n",
       "...         ...  \n",
       "19995  glenmore  \n",
       "19996      None  \n",
       "19997      None  \n",
       "19998      None  \n",
       "19999      None  \n",
       "\n",
       "[20000 rows x 12 columns]"
      ]
     },
     "execution_count": 18,
     "metadata": {},
     "output_type": "execute_result"
    }
   ],
   "source": [
    "def test_removed():\n",
    "    assert d.removed"
   ]
  },
  {
   "cell_type": "code",
   "execution_count": 7,
   "metadata": {},
   "outputs": [
    {
     "ename": "TypeError",
     "evalue": "__init__() missing 4 required positional arguments: 'var_threshold', 'var_similarity', 'variable_testing', and 'df_pcr'",
     "output_type": "error",
     "traceback": [
      "\u001b[0;31m---------------------------------------------------------------------------\u001b[0m",
      "\u001b[0;31mTypeError\u001b[0m                                 Traceback (most recent call last)",
      "\u001b[0;32m<ipython-input-7-51fa1e707d7f>\u001b[0m in \u001b[0;36m<module>\u001b[0;34m\u001b[0m\n\u001b[0;32m----> 1\u001b[0;31m \u001b[0mDuplication\u001b[0m\u001b[0;34m(\u001b[0m\u001b[0;34m)\u001b[0m\u001b[0;34m\u001b[0m\u001b[0;34m\u001b[0m\u001b[0m\n\u001b[0m",
      "\u001b[0;31mTypeError\u001b[0m: __init__() missing 4 required positional arguments: 'var_threshold', 'var_similarity', 'variable_testing', and 'df_pcr'"
     ]
    }
   ],
   "source": [
    "Duplication()"
   ]
  }
 ],
 "metadata": {
  "kernelspec": {
   "display_name": "Python 3",
   "language": "python",
   "name": "python3"
  },
  "language_info": {
   "codemirror_mode": {
    "name": "ipython",
    "version": 3
   },
   "file_extension": ".py",
   "mimetype": "text/x-python",
   "name": "python",
   "nbconvert_exporter": "python",
   "pygments_lexer": "ipython3",
   "version": "3.7.4"
  },
  "toc": {
   "base_numbering": 1,
   "nav_menu": {},
   "number_sections": true,
   "sideBar": true,
   "skip_h1_title": false,
   "title_cell": "Table of Contents",
   "title_sidebar": "Contents",
   "toc_cell": false,
   "toc_position": {},
   "toc_section_display": true,
   "toc_window_display": false
  },
  "varInspector": {
   "cols": {
    "lenName": 16,
    "lenType": 16,
    "lenVar": 40
   },
   "kernels_config": {
    "python": {
     "delete_cmd_postfix": "",
     "delete_cmd_prefix": "del ",
     "library": "var_list.py",
     "varRefreshCmd": "print(var_dic_list())"
    },
    "r": {
     "delete_cmd_postfix": ") ",
     "delete_cmd_prefix": "rm(",
     "library": "var_list.r",
     "varRefreshCmd": "cat(var_dic_list()) "
    }
   },
   "types_to_exclude": [
    "module",
    "function",
    "builtin_function_or_method",
    "instance",
    "_Feature"
   ],
   "window_display": false
  }
 },
 "nbformat": 4,
 "nbformat_minor": 2
}
