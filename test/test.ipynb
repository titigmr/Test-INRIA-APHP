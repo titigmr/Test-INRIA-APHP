{
 "cells": [
  {
   "cell_type": "code",
   "execution_count": 1,
   "metadata": {},
   "outputs": [],
   "source": [
    "import sys\n",
    "sys.path.append(\"..\")\n",
    "from utils.deduplicate import Duplication\n",
    "import pandas as pd\n",
    "from sqlalchemy import create_engine\n",
    "\n",
    "engine = create_engine('sqlite:///../data.db', echo=False)\n",
    "con = engine.connect()\n",
    "df_patient = pd.read_sql('select * from patient', con=con)\n",
    "df_pcr = pd.read_sql('select * from test', con=con)\n",
    "con.close()"
   ]
  },
  {
   "cell_type": "code",
   "execution_count": 11,
   "metadata": {},
   "outputs": [],
   "source": [
    "def test_removed_one():\n",
    "    df = pd.DataFrame({'given_name': ['josjua', 'joshua', 'vanessa', 'thierry'],\n",
    "                       'surname': [\"whiite\", \"white\", 'bristow', 'ekers'],\n",
    "                       'state': [\"nsw\", 'nsw', 'qld', 'nsw']})\n",
    "\n",
    "    dupli = Duplication()\n",
    "    dupli.detect_duplicates(df)\n",
    "    assert dupli.removed == 0.25"
   ]
  },
  {
   "cell_type": "code",
   "execution_count": 12,
   "metadata": {
    "scrolled": false
   },
   "outputs": [
    {
     "name": "stdout",
     "output_type": "stream",
     "text": [
      "given_name : 0 lines removed\n",
      "surname : 0 lines removed\n",
      "state : 1 lines removed\n"
     ]
    }
   ],
   "source": [
    "test_removed_one()"
   ]
  },
  {
   "cell_type": "code",
   "execution_count": 9,
   "metadata": {},
   "outputs": [],
   "source": [
    "def test_no_removed():\n",
    "    df = pd.DataFrame({'given_name': {1: 'joshua', 2: 'alice', 3: 'sienna', 4: 'joshua', 5: 'ky'},\n",
    "                       'surname': {1: 'elrick', 2: 'conboy', 3: 'craswell', 4: 'bastiaans', 5: 'laing'},\n",
    "                       'address_1': {1: 'andrea place', 2: 'mountain circuit', 3: 'cumberlegeicrescent', 4: 'lowrie street', 5: 'nyawi place'},\n",
    "                       'state': {1: 'nsw', 2: 'nsw', 3: 'wa', 4: 'nsw', 5: 'qld'}})\n",
    "\n",
    "    dupli = Duplication()\n",
    "    dupli.detect_duplicates(df)\n",
    "\n",
    "    assert dupli.removed == 0"
   ]
  },
  {
   "cell_type": "code",
   "execution_count": 10,
   "metadata": {
    "scrolled": false
   },
   "outputs": [
    {
     "name": "stdout",
     "output_type": "stream",
     "text": [
      "given_name : 0 lines removed\n",
      "surname : 0 lines removed\n",
      "address_1 : 0 lines removed\n",
      "state : 0 lines removed\n"
     ]
    }
   ],
   "source": [
    "test_no_removed()"
   ]
  }
 ],
 "metadata": {
  "kernelspec": {
   "display_name": "Python 3",
   "language": "python",
   "name": "python3"
  },
  "language_info": {
   "codemirror_mode": {
    "name": "ipython",
    "version": 3
   },
   "file_extension": ".py",
   "mimetype": "text/x-python",
   "name": "python",
   "nbconvert_exporter": "python",
   "pygments_lexer": "ipython3",
   "version": "3.7.4"
  },
  "toc": {
   "base_numbering": 1,
   "nav_menu": {},
   "number_sections": true,
   "sideBar": true,
   "skip_h1_title": false,
   "title_cell": "Table of Contents",
   "title_sidebar": "Contents",
   "toc_cell": false,
   "toc_position": {},
   "toc_section_display": true,
   "toc_window_display": false
  },
  "varInspector": {
   "cols": {
    "lenName": 16,
    "lenType": 16,
    "lenVar": 40
   },
   "kernels_config": {
    "python": {
     "delete_cmd_postfix": "",
     "delete_cmd_prefix": "del ",
     "library": "var_list.py",
     "varRefreshCmd": "print(var_dic_list())"
    },
    "r": {
     "delete_cmd_postfix": ") ",
     "delete_cmd_prefix": "rm(",
     "library": "var_list.r",
     "varRefreshCmd": "cat(var_dic_list()) "
    }
   },
   "types_to_exclude": [
    "module",
    "function",
    "builtin_function_or_method",
    "instance",
    "_Feature"
   ],
   "window_display": false
  }
 },
 "nbformat": 4,
 "nbformat_minor": 2
}
