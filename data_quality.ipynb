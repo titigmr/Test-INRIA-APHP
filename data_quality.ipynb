{
 "cells": [
  {
   "cell_type": "markdown",
   "metadata": {},
   "source": [
    "# Mise en qualité des données"
   ]
  },
  {
   "cell_type": "markdown",
   "metadata": {},
   "source": [
    "L'objectif de cette première partie est de mettre en évidence les **problèmes de qualité de données** (données incohérentes, données manquantes données dupliquées, etc.). Les données sont synthétiques et correspondent à la géographie de l'Australie.\n",
    "\n"
   ]
  },
  {
   "cell_type": "markdown",
   "metadata": {},
   "source": [
    "**1 – Importation des modules**"
   ]
  },
  {
   "cell_type": "code",
   "execution_count": 1,
   "metadata": {},
   "outputs": [],
   "source": [
    "import pandas as pd\n",
    "import numpy as np\n",
    "import matplotlib.pyplot as plt\n",
    "\n",
    "from utils.coherence import convert_to_date, calculate_age, correct_typo, postcode_coherence\n",
    "from utils.coherence import find_best_similar, find_best_similar_levenstein, gestalt_pattern_matching\n",
    "from utils.coherence import apply_coherence\n",
    "\n",
    "from utils.data import get_postcode, get_states\n",
    "from utils.deduplicate import Duplication, prepare_patient, prepare_pcr\n",
    "from utils.getting_started import df_patient, df_pcr\n",
    "\n",
    "from jellyfish import jaro_winkler_similarity"
   ]
  },
  {
   "cell_type": "markdown",
   "metadata": {},
   "source": [
    "**2 – Spécification des paramètres**"
   ]
  },
  {
   "cell_type": "code",
   "execution_count": 2,
   "metadata": {},
   "outputs": [],
   "source": [
    "color = (0.1,0.2,0.6)\n",
    "plt.style.use('seaborn-whitegrid')"
   ]
  },
  {
   "cell_type": "markdown",
   "metadata": {},
   "source": [
    "## Observation de la base de données"
   ]
  },
  {
   "cell_type": "markdown",
   "metadata": {},
   "source": [
    "Une première étape consiste à afficher un extrait des données. On peut également observer les dimensions de chacune des tables."
   ]
  },
  {
   "cell_type": "code",
   "execution_count": 3,
   "metadata": {
    "scrolled": true
   },
   "outputs": [
    {
     "data": {
      "text/html": [
       "<div>\n",
       "<style scoped>\n",
       "    .dataframe tbody tr th:only-of-type {\n",
       "        vertical-align: middle;\n",
       "    }\n",
       "\n",
       "    .dataframe tbody tr th {\n",
       "        vertical-align: top;\n",
       "    }\n",
       "\n",
       "    .dataframe thead th {\n",
       "        text-align: right;\n",
       "    }\n",
       "</style>\n",
       "<table border=\"1\" class=\"dataframe\">\n",
       "  <thead>\n",
       "    <tr style=\"text-align: right;\">\n",
       "      <th></th>\n",
       "      <th>patient_id</th>\n",
       "      <th>given_name</th>\n",
       "      <th>surname</th>\n",
       "      <th>street_number</th>\n",
       "      <th>address_1</th>\n",
       "      <th>suburb</th>\n",
       "      <th>postcode</th>\n",
       "      <th>state</th>\n",
       "      <th>date_of_birth</th>\n",
       "      <th>age</th>\n",
       "      <th>phone_number</th>\n",
       "      <th>address_2</th>\n",
       "    </tr>\n",
       "  </thead>\n",
       "  <tbody>\n",
       "    <tr>\n",
       "      <th>0</th>\n",
       "      <td>221958</td>\n",
       "      <td>matisse</td>\n",
       "      <td>clarke</td>\n",
       "      <td>13.0</td>\n",
       "      <td>rene street</td>\n",
       "      <td>ellenbrook</td>\n",
       "      <td>2527</td>\n",
       "      <td>wa</td>\n",
       "      <td>19710708.0</td>\n",
       "      <td>32.0</td>\n",
       "      <td>08 86018809</td>\n",
       "      <td>westella</td>\n",
       "    </tr>\n",
       "    <tr>\n",
       "      <th>1</th>\n",
       "      <td>771155</td>\n",
       "      <td>joshua</td>\n",
       "      <td>elrick</td>\n",
       "      <td>23.0</td>\n",
       "      <td>andrea place</td>\n",
       "      <td>east preston</td>\n",
       "      <td>2074</td>\n",
       "      <td>nsw</td>\n",
       "      <td>19120921.0</td>\n",
       "      <td>34.0</td>\n",
       "      <td>02 97793152</td>\n",
       "      <td>foxdown</td>\n",
       "    </tr>\n",
       "    <tr>\n",
       "      <th>2</th>\n",
       "      <td>231932</td>\n",
       "      <td>alice</td>\n",
       "      <td>conboy</td>\n",
       "      <td>35.0</td>\n",
       "      <td>mountain circuit</td>\n",
       "      <td>prospect</td>\n",
       "      <td>2305</td>\n",
       "      <td>nsw</td>\n",
       "      <td>19810905.0</td>\n",
       "      <td>22.0</td>\n",
       "      <td>02 20403934</td>\n",
       "      <td>None</td>\n",
       "    </tr>\n",
       "    <tr>\n",
       "      <th>3</th>\n",
       "      <td>465838</td>\n",
       "      <td>sienna</td>\n",
       "      <td>craswell</td>\n",
       "      <td>39.0</td>\n",
       "      <td>cumberlegeicrescent</td>\n",
       "      <td>henty</td>\n",
       "      <td>3620</td>\n",
       "      <td>wa</td>\n",
       "      <td>19840809.0</td>\n",
       "      <td>30.0</td>\n",
       "      <td>02 62832318</td>\n",
       "      <td>jodane</td>\n",
       "    </tr>\n",
       "    <tr>\n",
       "      <th>4</th>\n",
       "      <td>359178</td>\n",
       "      <td>joshua</td>\n",
       "      <td>bastiaans</td>\n",
       "      <td>144.0</td>\n",
       "      <td>lowrie street</td>\n",
       "      <td>campbell town</td>\n",
       "      <td>4051</td>\n",
       "      <td>nsw</td>\n",
       "      <td>19340430.0</td>\n",
       "      <td>31.0</td>\n",
       "      <td>03 69359594</td>\n",
       "      <td>None</td>\n",
       "    </tr>\n",
       "  </tbody>\n",
       "</table>\n",
       "</div>"
      ],
      "text/plain": [
       "   patient_id given_name    surname  street_number            address_1  \\\n",
       "0      221958    matisse     clarke           13.0          rene street   \n",
       "1      771155     joshua     elrick           23.0         andrea place   \n",
       "2      231932      alice     conboy           35.0     mountain circuit   \n",
       "3      465838     sienna   craswell           39.0  cumberlegeicrescent   \n",
       "4      359178     joshua  bastiaans          144.0        lowrie street   \n",
       "\n",
       "          suburb postcode state  date_of_birth   age phone_number address_2  \n",
       "0     ellenbrook     2527    wa     19710708.0  32.0  08 86018809  westella  \n",
       "1   east preston     2074   nsw     19120921.0  34.0  02 97793152   foxdown  \n",
       "2       prospect     2305   nsw     19810905.0  22.0  02 20403934      None  \n",
       "3          henty     3620    wa     19840809.0  30.0  02 62832318    jodane  \n",
       "4  campbell town     4051   nsw     19340430.0  31.0  03 69359594      None  "
      ]
     },
     "execution_count": 3,
     "metadata": {},
     "output_type": "execute_result"
    }
   ],
   "source": [
    "df_patient.head()"
   ]
  },
  {
   "cell_type": "code",
   "execution_count": 4,
   "metadata": {},
   "outputs": [
    {
     "data": {
      "text/html": [
       "<div>\n",
       "<style scoped>\n",
       "    .dataframe tbody tr th:only-of-type {\n",
       "        vertical-align: middle;\n",
       "    }\n",
       "\n",
       "    .dataframe tbody tr th {\n",
       "        vertical-align: top;\n",
       "    }\n",
       "\n",
       "    .dataframe thead th {\n",
       "        text-align: right;\n",
       "    }\n",
       "</style>\n",
       "<table border=\"1\" class=\"dataframe\">\n",
       "  <thead>\n",
       "    <tr style=\"text-align: right;\">\n",
       "      <th></th>\n",
       "      <th>patient_id</th>\n",
       "      <th>pcr</th>\n",
       "    </tr>\n",
       "  </thead>\n",
       "  <tbody>\n",
       "    <tr>\n",
       "      <th>0</th>\n",
       "      <td>653091</td>\n",
       "      <td>N</td>\n",
       "    </tr>\n",
       "    <tr>\n",
       "      <th>1</th>\n",
       "      <td>347667</td>\n",
       "      <td>Negative</td>\n",
       "    </tr>\n",
       "    <tr>\n",
       "      <th>2</th>\n",
       "      <td>708481</td>\n",
       "      <td>Positive</td>\n",
       "    </tr>\n",
       "    <tr>\n",
       "      <th>3</th>\n",
       "      <td>148825</td>\n",
       "      <td>Negative</td>\n",
       "    </tr>\n",
       "    <tr>\n",
       "      <th>4</th>\n",
       "      <td>150081</td>\n",
       "      <td>Negative</td>\n",
       "    </tr>\n",
       "  </tbody>\n",
       "</table>\n",
       "</div>"
      ],
      "text/plain": [
       "   patient_id       pcr\n",
       "0      653091         N\n",
       "1      347667  Negative\n",
       "2      708481  Positive\n",
       "3      148825  Negative\n",
       "4      150081  Negative"
      ]
     },
     "execution_count": 4,
     "metadata": {},
     "output_type": "execute_result"
    }
   ],
   "source": [
    "df_pcr.head()"
   ]
  },
  {
   "cell_type": "code",
   "execution_count": 5,
   "metadata": {},
   "outputs": [
    {
     "name": "stdout",
     "output_type": "stream",
     "text": [
      "Patient : (20000, 12)\n",
      "pcr : (8800, 2)\n"
     ]
    }
   ],
   "source": [
    "print('Patient :', df_patient.shape)\n",
    "print('pcr :', df_pcr.shape)"
   ]
  },
  {
   "cell_type": "markdown",
   "metadata": {},
   "source": [
    "On commence par créer une copie du jeu de données."
   ]
  },
  {
   "cell_type": "code",
   "execution_count": 6,
   "metadata": {},
   "outputs": [],
   "source": [
    "df_patient_copy = df_patient.copy()"
   ]
  },
  {
   "cell_type": "markdown",
   "metadata": {},
   "source": [
    "## Comptage des valeurs manquantes"
   ]
  },
  {
   "cell_type": "markdown",
   "metadata": {},
   "source": [
    "Les données correspondent à des données (déclaratives ?) de personnes ayant effectuées un test pcr pour la Covid 19 en Australie. On remarque des variables telles que :\n",
    ">- nom, prénom, \n",
    ">- age, date de naissance, \n",
    ">- numéro de rue, adresse, région et code postal, \n",
    ">- numéro de téléphone \n",
    ">- une seconde adresse."
   ]
  },
  {
   "cell_type": "markdown",
   "metadata": {},
   "source": [
    "Une première étape pour juger de la qualité des données est de voir la part de valeurs manquantes (en %) pour chacune des variables."
   ]
  },
  {
   "cell_type": "code",
   "execution_count": 8,
   "metadata": {},
   "outputs": [
    {
     "data": {
      "image/png": "[encoded data removed]",
      "text/plain": [
       "<Figure size 864x576 with 1 Axes>"
      ]
     },
     "metadata": {},
     "output_type": "display_data"
    }
   ],
   "source": [
    "pourc_na = list(df_patient.isna().sum() / df_patient.shape[0] * 100)\n",
    "\n",
    "plt.figure(figsize=(12, 8))\n",
    "plt.title('Part des NA pour chaque variable – Table Patient')\n",
    "plt.barh(df_patient.columns, pourc_na,\n",
    "         color=color)\n",
    "plt.xlabel('Pourcentage de valeurs manquantes')\n",
    "plt.ylabel('Variables')\n",
    "\n",
    "for i, v in enumerate(pourc_na):\n",
    "    plt.text(v, i+0.2, \" \"+str(round(v, 2))+\"%\", color='blue', va='center')"
   ]
  },
  {
   "cell_type": "markdown",
   "metadata": {},
   "source": [
    "Pour la table `pcr` :"
   ]
  },
  {
   "cell_type": "code",
   "execution_count": 9,
   "metadata": {
    "scrolled": true
   },
   "outputs": [
    {
     "data": {
      "text/plain": [
       "patient_id    0\n",
       "pcr           0\n",
       "dtype: int64"
      ]
     },
     "execution_count": 9,
     "metadata": {},
     "output_type": "execute_result"
    }
   ],
   "source": [
    "df_pcr.isna().sum()"
   ]
  },
  {
   "cell_type": "markdown",
   "metadata": {},
   "source": [
    "Certaines valeurs sont manquantes dans la table `patient`. Notamment, pour la variable `adresse_2` avec 12 100 valeurs manquantes (60%) et `age` avec environ 4 000 valeurs manquantes (20%). On ne comptabilise aucune valeur manquante pour la table `pcr`."
   ]
  },
  {
   "cell_type": "markdown",
   "metadata": {},
   "source": [
    "## Table PCR : Cohérence des variables"
   ]
  },
  {
   "cell_type": "markdown",
   "metadata": {},
   "source": [
    "Pour la variable `pcr`, on remarque que les modalités sont différentes. On peut harmoniser les modalités en ne conservant qu'une seule nomenclature."
   ]
  },
  {
   "cell_type": "code",
   "execution_count": 10,
   "metadata": {},
   "outputs": [
    {
     "data": {
      "text/plain": [
       "N           3482\n",
       "Negative    3134\n",
       "Positive    1283\n",
       "P            901\n",
       "Name: pcr, dtype: int64"
      ]
     },
     "execution_count": 10,
     "metadata": {},
     "output_type": "execute_result"
    }
   ],
   "source": [
    "df_pcr.pcr.value_counts()"
   ]
  },
  {
   "cell_type": "code",
   "execution_count": 11,
   "metadata": {},
   "outputs": [],
   "source": [
    "df_pcr.pcr = df_pcr.pcr.replace({'Negative': 'N', 'Positive': 'P'})"
   ]
  },
  {
   "cell_type": "code",
   "execution_count": 12,
   "metadata": {},
   "outputs": [
    {
     "data": {
      "text/plain": [
       "N    6616\n",
       "P    2184\n",
       "Name: pcr, dtype: int64"
      ]
     },
     "execution_count": 12,
     "metadata": {},
     "output_type": "execute_result"
    }
   ],
   "source": [
    "df_pcr.pcr.value_counts()"
   ]
  },
  {
   "cell_type": "markdown",
   "metadata": {},
   "source": [
    "Pour la variable `patient_id`, on remarque que 70 valeurs sont dupliquées"
   ]
  },
  {
   "cell_type": "code",
   "execution_count": 13,
   "metadata": {},
   "outputs": [
    {
     "data": {
      "text/plain": [
       "70"
      ]
     },
     "execution_count": 13,
     "metadata": {},
     "output_type": "execute_result"
    }
   ],
   "source": [
    "all_pcr_duplicated = df_pcr.patient_id[df_pcr.patient_id.duplicated(False)]\n",
    "len(all_pcr_duplicated)"
   ]
  },
  {
   "cell_type": "markdown",
   "metadata": {},
   "source": [
    "On va considérer comme valeur dupliquées lorsque **l'identifiant du patient et son test sont identiques**. On pourrait supposer qu'un individu se fasse tester deux fois, mais on ne possède pas d'indications pour différencier les deux tests (par exemple une date). Il s'agit donc ici de véritables données dupliquées qui peuvent être retirés."
   ]
  },
  {
   "cell_type": "code",
   "execution_count": 14,
   "metadata": {},
   "outputs": [
    {
     "data": {
      "text/plain": [
       "42"
      ]
     },
     "execution_count": 14,
     "metadata": {},
     "output_type": "execute_result"
    }
   ],
   "source": [
    "dupli_pcr_test = df_pcr[df_pcr.duplicated(subset=[\"patient_id\",\"pcr\"], keep=False)]\n",
    "len(dupli_pcr_test)"
   ]
  },
  {
   "cell_type": "code",
   "execution_count": 15,
   "metadata": {},
   "outputs": [],
   "source": [
    "not_dupli_pcr = df_pcr[df_pcr.duplicated(subset=[\"patient_id\",\"pcr\"], keep='first')]"
   ]
  },
  {
   "cell_type": "markdown",
   "metadata": {},
   "source": [
    "Les valeurs restantes sont celles qui ont un **identifiant identique**, mais un résultat **pcr différent**."
   ]
  },
  {
   "cell_type": "code",
   "execution_count": 16,
   "metadata": {
    "scrolled": true
   },
   "outputs": [
    {
     "data": {
      "text/plain": [
       "28"
      ]
     },
     "execution_count": 16,
     "metadata": {},
     "output_type": "execute_result"
    }
   ],
   "source": [
    "dupli_pcr_testdiff = df_pcr.iloc[np.setdiff1d(all_pcr_duplicated.index, dupli_pcr_test.index)]\n",
    "len(dupli_pcr_testdiff)"
   ]
  },
  {
   "cell_type": "markdown",
   "metadata": {},
   "source": [
    "L'objet de l'exercice étant l'analyse de la prévalence de la maladie dans la population, on peut considérer qu'un test positif est plus important qu'un test négatif, dans le cas d'un même patient."
   ]
  },
  {
   "cell_type": "code",
   "execution_count": 17,
   "metadata": {},
   "outputs": [],
   "source": [
    "positive_pi = dupli_pcr_testdiff[dupli_pcr_testdiff.pcr == 'P']"
   ]
  },
  {
   "cell_type": "markdown",
   "metadata": {},
   "source": [
    "## Table Patient : Cohérence des variables"
   ]
  },
  {
   "cell_type": "markdown",
   "metadata": {},
   "source": [
    "Focalisons nous sur les variables de la table patient :  \n",
    "- `date_of_birth` et `age` : ces deux variables sont assez redondantes car fournissent la même information. Un premier moyen de juger de la cohérence de ce jeu de données et de vérifier si **l'age et la date de naissance corroborent**.\n",
    "\n",
    "\n",
    "- `postcode` et `state` : on peut vérifier si les informations de localisation sont **cohérents entre eux** (le code postal appartient bien à l'état) et au **sein des modalités possibles** (les codes postaux sont bien des nombres, les états renseignés existent).\n",
    "\n",
    "\n",
    "- `surburb` et `adresss` : on peut **corriger les petites erreurs typographiques** quand la valeur ressemblent beaucoup à une valeur déjà présente dans le jeu de données (avec une confiance très élevée pour éviter une mauvaise transformation).\n",
    "\n",
    "\n",
    "- `id` : il s'agit d'un identifiant unique, on peut donc vérifier la présence de **doublons** si deux `id` sont identiques."
   ]
  },
  {
   "cell_type": "markdown",
   "metadata": {},
   "source": [
    "### La date de naissance et l'âge"
   ]
  },
  {
   "cell_type": "markdown",
   "metadata": {},
   "source": [
    "La première étape consiste à convertir les `dates` dans un format lisible. "
   ]
  },
  {
   "cell_type": "code",
   "execution_count": 18,
   "metadata": {
    "scrolled": true
   },
   "outputs": [],
   "source": [
    "col_date = df_patient.date_of_birth.apply(convert_to_date)"
   ]
  },
  {
   "cell_type": "markdown",
   "metadata": {},
   "source": [
    "En vérifiant les dates qui n'ont pas pu être converties (en dehors des NA), on observe que certaines dates sont invraisemblables au niveau des mois (donc ne sont pas convertibles). Par exemple : $1903/05/39$, $1954/12/42$ ou $1999/03/53$. \n",
    "\n",
    "174 observatiosn sont dans ce cas. "
   ]
  },
  {
   "cell_type": "code",
   "execution_count": 19,
   "metadata": {},
   "outputs": [],
   "source": [
    "date_noconvert = col_date[[isinstance(value, str) for value in col_date]]"
   ]
  },
  {
   "cell_type": "code",
   "execution_count": 20,
   "metadata": {},
   "outputs": [
    {
     "name": "stdout",
     "output_type": "stream",
     "text": [
      "174\n"
     ]
    },
    {
     "data": {
      "text/html": [
       "<div>\n",
       "<style scoped>\n",
       "    .dataframe tbody tr th:only-of-type {\n",
       "        vertical-align: middle;\n",
       "    }\n",
       "\n",
       "    .dataframe tbody tr th {\n",
       "        vertical-align: top;\n",
       "    }\n",
       "\n",
       "    .dataframe thead th {\n",
       "        text-align: right;\n",
       "    }\n",
       "</style>\n",
       "<table border=\"1\" class=\"dataframe\">\n",
       "  <thead>\n",
       "    <tr style=\"text-align: right;\">\n",
       "      <th></th>\n",
       "      <th>age</th>\n",
       "      <th>date_of_birth</th>\n",
       "    </tr>\n",
       "  </thead>\n",
       "  <tbody>\n",
       "    <tr>\n",
       "      <th>40</th>\n",
       "      <td>36</td>\n",
       "      <td>19030539</td>\n",
       "    </tr>\n",
       "    <tr>\n",
       "      <th>145</th>\n",
       "      <td>24</td>\n",
       "      <td>19179318</td>\n",
       "    </tr>\n",
       "    <tr>\n",
       "      <th>244</th>\n",
       "      <td>39</td>\n",
       "      <td>19541242</td>\n",
       "    </tr>\n",
       "    <tr>\n",
       "      <th>481</th>\n",
       "      <td>NaN</td>\n",
       "      <td>19990353</td>\n",
       "    </tr>\n",
       "    <tr>\n",
       "      <th>539</th>\n",
       "      <td>39</td>\n",
       "      <td>19328814</td>\n",
       "    </tr>\n",
       "  </tbody>\n",
       "</table>\n",
       "</div>"
      ],
      "text/plain": [
       "     age date_of_birth\n",
       "40    36      19030539\n",
       "145   24      19179318\n",
       "244   39      19541242\n",
       "481  NaN      19990353\n",
       "539   39      19328814"
      ]
     },
     "execution_count": 20,
     "metadata": {},
     "output_type": "execute_result"
    }
   ],
   "source": [
    "compare_date = pd.DataFrame([df_patient.age[date_noconvert.index],date_noconvert]).T\n",
    "print(len(compare_date))\n",
    "compare_date.head()"
   ]
  },
  {
   "cell_type": "markdown",
   "metadata": {},
   "source": [
    "En pratique, le mois et le jour de naissance ne nous sont pas utiles. On peut donc seulement retenir l'année de naissance. "
   ]
  },
  {
   "cell_type": "markdown",
   "metadata": {},
   "source": [
    "Pour vérifier la cohérence entre l'age et la date de naissance, on peut observer si l'age correspond à la date de naissance du patient."
   ]
  },
  {
   "cell_type": "code",
   "execution_count": 21,
   "metadata": {},
   "outputs": [
    {
     "name": "stdout",
     "output_type": "stream",
     "text": [
      "2019 : 121\n",
      "2020 : 106\n",
      "2021 : 119\n",
      "Total matching : 1.73%\n"
     ]
    }
   ],
   "source": [
    "list_matching = []\n",
    "\n",
    "for i in range(2019, 2022):\n",
    "    df_patient[\"age_calculate\"] = calculate_age(df_patient.date_of_birth, i)\n",
    "    matching = df_patient[df_patient.age_calculate == df_patient.age].shape[0]\n",
    "    print(f\"{i} :\", matching)\n",
    "    list_matching.append(matching)\n",
    "print(f\"Total matching : {(sum(list_matching) / df_patient.shape[0]) * 100}%\")"
   ]
  },
  {
   "cell_type": "markdown",
   "metadata": {},
   "source": [
    "On remarque que pour la plupart des dates de naissance renseignés, l'année de naissance par rapport à 2020 ne correspond pas avec l'âge renseigné par le patient. Si nous considérons une marge d'erreur de +/- 1 an, les résultats ne correspondent pas également. On constate donc de nombreuses erreurs de cohérences avec seulement 1,73% de valeur qui correpondent."
   ]
  },
  {
   "cell_type": "markdown",
   "metadata": {},
   "source": [
    "### State"
   ]
  },
  {
   "cell_type": "markdown",
   "metadata": {},
   "source": [
    "Pour la variable `state`, on constate qu'il y a 102 codes différents dans la base, alors qu'il n'y a que 6 états en Australie. On peut ajouter deux états supplémentaires qui sont des territoires intérieurs (cf. [Wikipédia](https://fr.wikipedia.org/wiki/États_et_territoires_de_l%27Australie)). Les valeurs les plus représentées concernent bien les états en question, toutefois, on remarque des erreurs de typographies."
   ]
  },
  {
   "cell_type": "code",
   "execution_count": 22,
   "metadata": {},
   "outputs": [
    {
     "data": {
      "text/plain": [
       "nsw    6143\n",
       "vic    4352\n",
       "qld    3516\n",
       "wa     1580\n",
       "sa     1391\n",
       "tas     507\n",
       "act     250\n",
       "nt      132\n",
       "nss       7\n",
       "ns        6\n",
       "ws        6\n",
       "ql        5\n",
       "nsq       4\n",
       "nsa       3\n",
       "nse       3\n",
       "Name: state, dtype: int64"
      ]
     },
     "execution_count": 22,
     "metadata": {},
     "output_type": "execute_result"
    }
   ],
   "source": [
    "df_patient.state.value_counts().head(15)"
   ]
  },
  {
   "cell_type": "markdown",
   "metadata": {},
   "source": [
    "Une méthode pouvant être utilisée pour mettre en qualité cette colonne est de comparer le **degré de similitude entre deux chaînes de caractère**. \n",
    "\n",
    "On peut pour cela utiliser l'algorithme **Gestalt Pattern Matching** (Ratcliff et Obershelp) ou la similitude de **Jaro Winkler**. Il s'agit d'un ratio de similitude, où la valeur 1 entre deux chaînes de caractère indique une similitude parfaite. Il existe d'autre mesures, mais ces deux dernières sont les plus appliquées pour les erreurs de typographies."
   ]
  },
  {
   "cell_type": "code",
   "execution_count": 23,
   "metadata": {},
   "outputs": [],
   "source": [
    "states = get_states()"
   ]
  },
  {
   "cell_type": "markdown",
   "metadata": {},
   "source": [
    "On applique ensuite cet algorithme **(Gestalt Pattern Matching*)** sur l'ensemble de nos données pour corriger les différentes erreurs de typographie. On peut noter que cette méthode peut possiblement entraîner des erreurs, mais il s'agit d'une des seules méthodes pouvant prendre en compte les erreurs typographiques. "
   ]
  },
  {
   "cell_type": "code",
   "execution_count": 24,
   "metadata": {
    "scrolled": true
   },
   "outputs": [
    {
     "data": {
      "text/plain": [
       "NSW    6191\n",
       "VIC    4382\n",
       "QLD    3543\n",
       "WA     1597\n",
       "SA     1398\n",
       "TAS     512\n",
       "ACT     250\n",
       "NT      137\n",
       "Name: corrected_state, dtype: int64"
      ]
     },
     "execution_count": 24,
     "metadata": {},
     "output_type": "execute_result"
    }
   ],
   "source": [
    "df_patient[\"corrected_state\"] = find_best_similar(\n",
    "    serie=df_patient.state, dict_ref=states, similarity=gestalt_pattern_matching)\n",
    "df_patient.corrected_state.value_counts()"
   ]
  },
  {
   "cell_type": "markdown",
   "metadata": {},
   "source": [
    "---"
   ]
  },
  {
   "cell_type": "markdown",
   "metadata": {},
   "source": [
    "> **Comparaison des résultats des différents algorithme de matching**"
   ]
  },
  {
   "cell_type": "code",
   "execution_count": 25,
   "metadata": {},
   "outputs": [],
   "source": [
    "gpm = find_best_similar(df_patient.state, states, similarity=gestalt_pattern_matching, apply=False)\n",
    "jw = find_best_similar(df_patient.state, states, similarity=jaro_winkler_similarity, apply=False)\n",
    "lv = find_best_similar_levenstein(df_patient.state, states)"
   ]
  },
  {
   "cell_type": "code",
   "execution_count": 26,
   "metadata": {},
   "outputs": [
    {
     "name": "stdout",
     "output_type": "stream",
     "text": [
      "nwx : \t gpm NSW \t jw NT  \t lv NSW\n",
      "nsa : \t gpm SA \t jw NSW  \t lv SA\n",
      "vc : \t gpm VIC \t jw ACT  \t lv VIC\n",
      "a : \t gpm WA \t jw ACT  \t lv SA\n",
      "ws : \t gpm WA \t jw WA  \t lv SA\n",
      "nsza : \t gpm SA \t jw NSW  \t lv SA\n",
      "nwd : \t gpm NSW \t jw NT  \t lv NSW\n",
      "ai : \t gpm WA \t jw ACT  \t lv SA\n",
      "ic : \t gpm VIC \t jw ACT  \t lv VIC\n"
     ]
    }
   ],
   "source": [
    "for (i1,i2),(i3,i4),(i5,i6) in zip(gpm.items(), jw.items(), lv.items()):\n",
    "    if not(i2 == i4 == i6):\n",
    "        print(f\"{i1} : \\t gpm {i2} \\t jw {i4}  \\t lv {i6}\")"
   ]
  },
  {
   "cell_type": "markdown",
   "metadata": {},
   "source": [
    "---"
   ]
  },
  {
   "cell_type": "markdown",
   "metadata": {},
   "source": [
    "### Code postaux"
   ]
  },
  {
   "cell_type": "markdown",
   "metadata": {},
   "source": [
    "Comme pour le cas des dates de naissance et de l'age on peut vérifier si les codes postaux correspondent aux états correspondants ([Postcodes in Australia](https://en.wikipedia.org/wiki/Postcodes_in_Australia)). La première étape consiste à vérifier l'ensemble des modalités possibles, si elles correpondent bien à un code postal. "
   ]
  },
  {
   "cell_type": "code",
   "execution_count": 27,
   "metadata": {},
   "outputs": [
    {
     "data": {
      "text/plain": [
       "['port noarlunga south',\n",
       " 'naremburn',\n",
       " 'toowoobma',\n",
       " 'brighton',\n",
       " 'oraneg',\n",
       " 'blacktown',\n",
       " 'forest hill',\n",
       " 'port lincoln',\n",
       " 'ashfield',\n",
       " 'forest hill',\n",
       " 'toowoomba',\n",
       " 'regents park',\n",
       " 'kelmscott',\n",
       " 'donnybrook']"
      ]
     },
     "execution_count": 27,
     "metadata": {},
     "output_type": "execute_result"
    }
   ],
   "source": [
    "str_postcode = []\n",
    "df_patient.postcode.fillna(0, inplace=True)\n",
    "\n",
    "for i in df_patient.postcode:\n",
    "    try : \n",
    "        int(i)\n",
    "    except :\n",
    "        str_postcode.append(i)\n",
    "\n",
    "str_postcode"
   ]
  },
  {
   "cell_type": "markdown",
   "metadata": {},
   "source": [
    "Pour ces valeurs, sont directement renseigné la ville, et non un code postal. Il est possible de chercher la position de la ville, cependant, certaines villes peuvent apparaître dans différents états, on ne peut donc pas être certain de leur position. \n",
    "\n",
    "Toutefois, pour chacune des villes on peut vérifier la cohérence selon la variable `state` et `suburb`. Pour notre exercice, nous allons seulement remplacer ces valeurs par `None`."
   ]
  },
  {
   "cell_type": "markdown",
   "metadata": {},
   "source": [
    "On observe que seulement 4099 lignes sont concordantes (le code postal fait bien partie de l'état estimé)"
   ]
  },
  {
   "cell_type": "code",
   "execution_count": 28,
   "metadata": {
    "scrolled": false
   },
   "outputs": [],
   "source": [
    "ref_postcode = get_postcode()\n",
    "\n",
    "df_patient[\"state_by_PC\"] = postcode_coherence(\n",
    "    df_patient.postcode, ref_postcode, str_postcode)"
   ]
  },
  {
   "cell_type": "code",
   "execution_count": 29,
   "metadata": {},
   "outputs": [
    {
     "data": {
      "text/plain": [
       "4099"
      ]
     },
     "execution_count": 29,
     "metadata": {},
     "output_type": "execute_result"
    }
   ],
   "source": [
    "diff_states = df_patient.state_by_PC == df_patient.corrected_state\n",
    "sum(diff_states)"
   ]
  },
  {
   "cell_type": "markdown",
   "metadata": {},
   "source": [
    "On peut ensuite vérifier un échantillon de valeur pour avoir l'ensemble de l'information. La prédiction de la typographie la plus proche sans bien prédire le bon état, mais le code postal ne fait pas partie du bon état."
   ]
  },
  {
   "cell_type": "code",
   "execution_count": 30,
   "metadata": {
    "scrolled": false
   },
   "outputs": [
    {
     "data": {
      "text/html": [
       "<div>\n",
       "<style scoped>\n",
       "    .dataframe tbody tr th:only-of-type {\n",
       "        vertical-align: middle;\n",
       "    }\n",
       "\n",
       "    .dataframe tbody tr th {\n",
       "        vertical-align: top;\n",
       "    }\n",
       "\n",
       "    .dataframe thead th {\n",
       "        text-align: right;\n",
       "    }\n",
       "</style>\n",
       "<table border=\"1\" class=\"dataframe\">\n",
       "  <thead>\n",
       "    <tr style=\"text-align: right;\">\n",
       "      <th></th>\n",
       "      <th>patient_id</th>\n",
       "      <th>given_name</th>\n",
       "      <th>surname</th>\n",
       "      <th>street_number</th>\n",
       "      <th>address_1</th>\n",
       "      <th>suburb</th>\n",
       "      <th>postcode</th>\n",
       "      <th>state</th>\n",
       "      <th>date_of_birth</th>\n",
       "      <th>age</th>\n",
       "      <th>phone_number</th>\n",
       "      <th>address_2</th>\n",
       "      <th>age_calculate</th>\n",
       "      <th>corrected_state</th>\n",
       "      <th>state_by_PC</th>\n",
       "    </tr>\n",
       "  </thead>\n",
       "  <tbody>\n",
       "    <tr>\n",
       "      <th>1773</th>\n",
       "      <td>982875</td>\n",
       "      <td>helena</td>\n",
       "      <td>bishop</td>\n",
       "      <td>7.0</td>\n",
       "      <td>callister crescent</td>\n",
       "      <td>st albans</td>\n",
       "      <td>2795</td>\n",
       "      <td>vic</td>\n",
       "      <td>19861126.0</td>\n",
       "      <td>23.0</td>\n",
       "      <td>04 23720810</td>\n",
       "      <td>lakehaven est</td>\n",
       "      <td>35</td>\n",
       "      <td>VIC</td>\n",
       "      <td>NSW</td>\n",
       "    </tr>\n",
       "    <tr>\n",
       "      <th>1527</th>\n",
       "      <td>572327</td>\n",
       "      <td>sophie</td>\n",
       "      <td>magazin</td>\n",
       "      <td>16.0</td>\n",
       "      <td>sturgess place</td>\n",
       "      <td>ellendale</td>\n",
       "      <td>4575</td>\n",
       "      <td>nsw</td>\n",
       "      <td>0.0</td>\n",
       "      <td>20.0</td>\n",
       "      <td>None</td>\n",
       "      <td>summit cottage</td>\n",
       "      <td>NaN</td>\n",
       "      <td>NSW</td>\n",
       "      <td>QLD</td>\n",
       "    </tr>\n",
       "    <tr>\n",
       "      <th>1251</th>\n",
       "      <td>486594</td>\n",
       "      <td>lara</td>\n",
       "      <td>belperio</td>\n",
       "      <td>94.0</td>\n",
       "      <td>hagen place</td>\n",
       "      <td>chillingham</td>\n",
       "      <td>3073</td>\n",
       "      <td>sa</td>\n",
       "      <td>19570107.0</td>\n",
       "      <td>28.0</td>\n",
       "      <td>08 91641804</td>\n",
       "      <td>None</td>\n",
       "      <td>64</td>\n",
       "      <td>SA</td>\n",
       "      <td>VIC</td>\n",
       "    </tr>\n",
       "    <tr>\n",
       "      <th>1536</th>\n",
       "      <td>112175</td>\n",
       "      <td>william</td>\n",
       "      <td>ryan</td>\n",
       "      <td>145.0</td>\n",
       "      <td>william webb drive</td>\n",
       "      <td>enoggera</td>\n",
       "      <td>5008</td>\n",
       "      <td>wa</td>\n",
       "      <td>19800711.0</td>\n",
       "      <td>34.0</td>\n",
       "      <td>03 75564840</td>\n",
       "      <td>None</td>\n",
       "      <td>41</td>\n",
       "      <td>WA</td>\n",
       "      <td>SA</td>\n",
       "    </tr>\n",
       "    <tr>\n",
       "      <th>3064</th>\n",
       "      <td>970020</td>\n",
       "      <td>channing</td>\n",
       "      <td>wessel</td>\n",
       "      <td>38.0</td>\n",
       "      <td>gilruth street</td>\n",
       "      <td>eastern heights</td>\n",
       "      <td>2076</td>\n",
       "      <td>qld</td>\n",
       "      <td>19841203.0</td>\n",
       "      <td>31.0</td>\n",
       "      <td>02 52357146</td>\n",
       "      <td>tycannah station</td>\n",
       "      <td>37</td>\n",
       "      <td>QLD</td>\n",
       "      <td>NSW</td>\n",
       "    </tr>\n",
       "  </tbody>\n",
       "</table>\n",
       "</div>"
      ],
      "text/plain": [
       "      patient_id given_name   surname  street_number           address_1  \\\n",
       "1773      982875     helena    bishop            7.0  callister crescent   \n",
       "1527      572327     sophie   magazin           16.0      sturgess place   \n",
       "1251      486594       lara  belperio           94.0         hagen place   \n",
       "1536      112175    william      ryan          145.0  william webb drive   \n",
       "3064      970020   channing    wessel           38.0      gilruth street   \n",
       "\n",
       "               suburb postcode state  date_of_birth   age phone_number  \\\n",
       "1773        st albans     2795   vic     19861126.0  23.0  04 23720810   \n",
       "1527        ellendale     4575   nsw            0.0  20.0         None   \n",
       "1251      chillingham     3073    sa     19570107.0  28.0  08 91641804   \n",
       "1536         enoggera     5008    wa     19800711.0  34.0  03 75564840   \n",
       "3064  eastern heights     2076   qld     19841203.0  31.0  02 52357146   \n",
       "\n",
       "             address_2 age_calculate corrected_state state_by_PC  \n",
       "1773     lakehaven est            35             VIC         NSW  \n",
       "1527    summit cottage           NaN             NSW         QLD  \n",
       "1251              None            64              SA         VIC  \n",
       "1536              None            41              WA          SA  \n",
       "3064  tycannah station            37             QLD         NSW  "
      ]
     },
     "execution_count": 30,
     "metadata": {},
     "output_type": "execute_result"
    }
   ],
   "source": [
    "df_patient[~diff_states].sample(5)"
   ]
  },
  {
   "cell_type": "markdown",
   "metadata": {},
   "source": [
    "### Suburb and adress"
   ]
  },
  {
   "cell_type": "markdown",
   "metadata": {},
   "source": [
    "Pour les dernières variables de localisation, on peut effectuer la même démarche que pour l'état, mais cette fois, on constate de nombreuses banlieues/adresses différentes. \n",
    "\n",
    "Une correction possible est d'utiliser toutes les banlieues/adresses référencées qu'une seule fois et de les comparer à celles qui sont référencées plus d'une fois dans le jeu de données."
   ]
  },
  {
   "cell_type": "markdown",
   "metadata": {},
   "source": [
    "Si une des banlieues/adresses unique correspond à plus de 90% à celle d'une banlieue/adresse déjà référencés, celle-ci est corrigé."
   ]
  },
  {
   "cell_type": "code",
   "execution_count": 31,
   "metadata": {},
   "outputs": [
    {
     "data": {
      "text/plain": [
       "105"
      ]
     },
     "execution_count": 31,
     "metadata": {},
     "output_type": "execute_result"
    }
   ],
   "source": [
    "corrected_adress = correct_typo(df_patient.address_1)\n",
    "len(corrected_adress)"
   ]
  },
  {
   "cell_type": "code",
   "execution_count": 32,
   "metadata": {},
   "outputs": [
    {
     "data": {
      "text/plain": [
       "111"
      ]
     },
     "execution_count": 32,
     "metadata": {},
     "output_type": "execute_result"
    }
   ],
   "source": [
    "corrected_suburb = correct_typo(df_patient.suburb)\n",
    "len(corrected_suburb)"
   ]
  },
  {
   "cell_type": "code",
   "execution_count": 33,
   "metadata": {},
   "outputs": [],
   "source": [
    "df_patient[\"corrected_adress\"] = df_patient.address_1.replace(corrected_adress)\n",
    "df_patient[\"corrected_suburb\"] = df_patient.suburb.replace(corrected_suburb)"
   ]
  },
  {
   "cell_type": "markdown",
   "metadata": {},
   "source": [
    "À un seuil de 90% de similarité, seulement les erreurs typographiques sont corrigés. Ceci permet de diminuer le nombre de valeurs qui sont pas indentique, mais qui devrait l'être."
   ]
  },
  {
   "cell_type": "markdown",
   "metadata": {},
   "source": [
    "... Pour consolider les valeurs il faudrait matcher l'ensemble des valeurs de positions (banlieu, code postal, adresse et état) et de voir la valeur dominante..."
   ]
  },
  {
   "cell_type": "markdown",
   "metadata": {},
   "source": [
    "### Identifiant"
   ]
  },
  {
   "cell_type": "markdown",
   "metadata": {},
   "source": [
    "On comptabilise 403 élements dupliqués."
   ]
  },
  {
   "cell_type": "code",
   "execution_count": 34,
   "metadata": {},
   "outputs": [
    {
     "data": {
      "text/plain": [
       "403"
      ]
     },
     "execution_count": 34,
     "metadata": {},
     "output_type": "execute_result"
    }
   ],
   "source": [
    "id_duplicated = df_patient.patient_id[df_patient[\"patient_id\"].duplicated(\n",
    "    False)]\n",
    "len(id_duplicated)"
   ]
  },
  {
   "cell_type": "markdown",
   "metadata": {},
   "source": [
    "On peut prendre l'exemple d'un doublon : "
   ]
  },
  {
   "cell_type": "code",
   "execution_count": 35,
   "metadata": {
    "scrolled": false
   },
   "outputs": [
    {
     "data": {
      "text/html": [
       "<div>\n",
       "<style scoped>\n",
       "    .dataframe tbody tr th:only-of-type {\n",
       "        vertical-align: middle;\n",
       "    }\n",
       "\n",
       "    .dataframe tbody tr th {\n",
       "        vertical-align: top;\n",
       "    }\n",
       "\n",
       "    .dataframe thead th {\n",
       "        text-align: right;\n",
       "    }\n",
       "</style>\n",
       "<table border=\"1\" class=\"dataframe\">\n",
       "  <thead>\n",
       "    <tr style=\"text-align: right;\">\n",
       "      <th></th>\n",
       "      <th>patient_id</th>\n",
       "      <th>given_name</th>\n",
       "      <th>surname</th>\n",
       "      <th>street_number</th>\n",
       "      <th>address_1</th>\n",
       "      <th>suburb</th>\n",
       "      <th>postcode</th>\n",
       "      <th>state</th>\n",
       "      <th>date_of_birth</th>\n",
       "      <th>age</th>\n",
       "      <th>phone_number</th>\n",
       "      <th>address_2</th>\n",
       "      <th>age_calculate</th>\n",
       "      <th>corrected_state</th>\n",
       "      <th>state_by_PC</th>\n",
       "      <th>corrected_adress</th>\n",
       "      <th>corrected_suburb</th>\n",
       "    </tr>\n",
       "  </thead>\n",
       "  <tbody>\n",
       "    <tr>\n",
       "      <th>1456</th>\n",
       "      <td>119816</td>\n",
       "      <td>jed</td>\n",
       "      <td>rollins</td>\n",
       "      <td>63.0</td>\n",
       "      <td>mauldon street</td>\n",
       "      <td>macquarie fields</td>\n",
       "      <td>4169</td>\n",
       "      <td>nsw</td>\n",
       "      <td>19010805.0</td>\n",
       "      <td>NaN</td>\n",
       "      <td>07 73786737</td>\n",
       "      <td>None</td>\n",
       "      <td>120</td>\n",
       "      <td>NSW</td>\n",
       "      <td>QLD</td>\n",
       "      <td>mauldon street</td>\n",
       "      <td>macquarie fields</td>\n",
       "    </tr>\n",
       "    <tr>\n",
       "      <th>2377</th>\n",
       "      <td>119816</td>\n",
       "      <td>sam</td>\n",
       "      <td>iasenzaniro</td>\n",
       "      <td>12.0</td>\n",
       "      <td>booroondara street</td>\n",
       "      <td>brighton</td>\n",
       "      <td>6153</td>\n",
       "      <td>sa</td>\n",
       "      <td>19621207.0</td>\n",
       "      <td>NaN</td>\n",
       "      <td>03 90915909</td>\n",
       "      <td>None</td>\n",
       "      <td>59</td>\n",
       "      <td>SA</td>\n",
       "      <td>WA</td>\n",
       "      <td>booroondara street</td>\n",
       "      <td>brighton</td>\n",
       "    </tr>\n",
       "  </tbody>\n",
       "</table>\n",
       "</div>"
      ],
      "text/plain": [
       "      patient_id given_name      surname  street_number           address_1  \\\n",
       "1456      119816        jed      rollins           63.0      mauldon street   \n",
       "2377      119816        sam  iasenzaniro           12.0  booroondara street   \n",
       "\n",
       "                suburb postcode state  date_of_birth  age phone_number  \\\n",
       "1456  macquarie fields     4169   nsw     19010805.0  NaN  07 73786737   \n",
       "2377          brighton     6153    sa     19621207.0  NaN  03 90915909   \n",
       "\n",
       "     address_2 age_calculate corrected_state state_by_PC    corrected_adress  \\\n",
       "1456      None           120             NSW         QLD      mauldon street   \n",
       "2377      None            59              SA          WA  booroondara street   \n",
       "\n",
       "      corrected_suburb  \n",
       "1456  macquarie fields  \n",
       "2377          brighton  "
      ]
     },
     "execution_count": 35,
     "metadata": {},
     "output_type": "execute_result"
    }
   ],
   "source": [
    "df_patient[df_patient.patient_id == 119816]"
   ]
  },
  {
   "cell_type": "code",
   "execution_count": 36,
   "metadata": {},
   "outputs": [
    {
     "data": {
      "text/html": [
       "<div>\n",
       "<style scoped>\n",
       "    .dataframe tbody tr th:only-of-type {\n",
       "        vertical-align: middle;\n",
       "    }\n",
       "\n",
       "    .dataframe tbody tr th {\n",
       "        vertical-align: top;\n",
       "    }\n",
       "\n",
       "    .dataframe thead th {\n",
       "        text-align: right;\n",
       "    }\n",
       "</style>\n",
       "<table border=\"1\" class=\"dataframe\">\n",
       "  <thead>\n",
       "    <tr style=\"text-align: right;\">\n",
       "      <th></th>\n",
       "      <th>patient_id</th>\n",
       "      <th>pcr</th>\n",
       "    </tr>\n",
       "  </thead>\n",
       "  <tbody>\n",
       "    <tr>\n",
       "      <th>7602</th>\n",
       "      <td>119816</td>\n",
       "      <td>N</td>\n",
       "    </tr>\n",
       "  </tbody>\n",
       "</table>\n",
       "</div>"
      ],
      "text/plain": [
       "      patient_id pcr\n",
       "7602      119816   N"
      ]
     },
     "execution_count": 36,
     "metadata": {},
     "output_type": "execute_result"
    }
   ],
   "source": [
    "df_pcr[df_pcr.patient_id == 119816]"
   ]
  },
  {
   "cell_type": "markdown",
   "metadata": {},
   "source": [
    "La seule valeur **identique** est l'identifiant unique, tandis que les autres valeurs sont différentes. On ne peut pas savoir à quel patient appartient le test."
   ]
  },
  {
   "cell_type": "markdown",
   "metadata": {},
   "source": [
    "On peut suppposer qu'il s'agit d'une erreur de typographie et que le numéro id du patient est faux pour l'un des deux. Touefois, il est impossible de retrouver à qui appartient l'id sans une information supplémentaire dans la table pcr pour démarquer les deux patients. Nous devons donc retirer ces données pour ne pas fausser les analyses lors de l'EDA."
   ]
  },
  {
   "cell_type": "markdown",
   "metadata": {},
   "source": [
    "# Traitement des doublons "
   ]
  },
  {
   "cell_type": "markdown",
   "metadata": {},
   "source": [
    "Ecrire une fonction python `detect_duplicates` qui prend en parametère le dataframe `df_patient` et qui renvoit un nouveau dataframe après suppression des doublons. \n",
    "\n",
    "On estimera le pourcentage de données dupliquées. \n",
    "\n",
    "*Attention, les données dupliquées ne sont pas identiques. Il faut imaginer des problèmes de saisies de données (typos, information manquante etc.)*"
   ]
  },
  {
   "cell_type": "markdown",
   "metadata": {},
   "source": [
    "## Procédé pour le traitement des doublons"
   ]
  },
  {
   "cell_type": "markdown",
   "metadata": {},
   "source": [
    "Les étapes pour essayer de supprimer les doublons sont les suivantes : "
   ]
  },
  {
   "cell_type": "markdown",
   "metadata": {},
   "source": [
    "   > Retenir tous les doublons selon **une variable permettant au mieux d'identifier un individu de manière unique** (on peut considérer un numéro de téléphone comme unique, sauf dans le cas d'un téléphone fixe, un nom et prénom, ou une adresse complète par exemple)."
   ]
  },
  {
   "cell_type": "markdown",
   "metadata": {},
   "source": [
    "> Sachant que l'objectif de l'exercice et de mettre en avant la prévalence de la maladie dans la population, il faut donc vérifier si l'une des observations de chaque cluster de doublon **selon la variable choisie** fait partie des patients testés (pour ne pas retirer des observations utiles pour l'EDA ensuite)."
   ]
  },
  {
   "cell_type": "markdown",
   "metadata": {},
   "source": [
    "- Si l'une des observations du cluster fait partie de la table `pcr`, il s'agit de l'individu référence.\n",
    "- Si aucune observation du cluster ne fait partie de la table `pcr`, on peut choisir n'importe quel patient comme référence, cela n'aura pas d'importance.\n",
    "- Si deux observations du cluster font partie de la table `pcr`, nous allons choisir de préférence une personne positive à la Covid 19. Sinon, on peut chosir n'importe quel patient."
   ]
  },
  {
   "cell_type": "markdown",
   "metadata": {},
   "source": [
    "> Pour chacun des clusters de doublons, observer quels sont ceux qui sont réellement des doublons à partir des autres variables selon l'individu de référence."
   ]
  },
  {
   "cell_type": "markdown",
   "metadata": {},
   "source": [
    "- Si l'individu de référence à beaucoup de valeurs en communes avec un autre individu (selon un seuil ajustable), on considère alors qu'il s'agit d'un doublon (selon les variables telles que le nom, le prénom, l'age, la date de naissance, l'adresse, le code postal, la banlieue ou la seconde adresse)."
   ]
  },
  {
   "cell_type": "markdown",
   "metadata": {},
   "source": [
    "**Important** : le cas des personnes faisant partie d'une même famille semble être difficile à détecter, car il faut trouver un seuil acceptable pour ne pas retirer des doublons alors qu'ils n'en sont pas. Des homonymes parfaits (même ville et même nom et prénom)."
   ]
  },
  {
   "cell_type": "markdown",
   "metadata": {},
   "source": [
    "- Pour éviter de comparer des valeurs avec des erreurs typographiques, qui renverront une valeur False, on testera en amont la similarité textuelle de chaque valeur pour un nombre de variable choisit à l'avance. Si cette similarité est supérieure à un certain seuil (90% semble être un bon seuil), alors on considère que les deux valeurs sont identiques et qu'il s'agit d'une erreur typographique."
   ]
  },
  {
   "cell_type": "markdown",
   "metadata": {},
   "source": [
    "> Retenir la nouvelle base de données selon la liste de valeurs les indices des observations qui ne sont pas des doublons, et recommencer le processus avec une autre **variable**. On retournera à chaque étape la part de données dupliquées retirées et sa valeur finale."
   ]
  },
  {
   "cell_type": "markdown",
   "metadata": {},
   "source": [
    "> Enfin, avant de terminer l'étape de déduplication, il faut vérifier s'il n'existe pas de patient avec le même id, car il ne pourront pas être merger avec la table `pcr`. En effet, on ne peut pas savoir à qui est attribué le test, donc ils doivent être également retirés."
   ]
  },
  {
   "cell_type": "markdown",
   "metadata": {},
   "source": [
    "**Limite** : le cas d'une erreur sur un numéro de téléphone et le nom et prénom, test si nom et prénom inversé ?,  correction des erreurs non faites (il faudrait prendre le mode des cluster de duplicate et prendre la plus souvent renseigné pour une variable)"
   ]
  },
  {
   "cell_type": "markdown",
   "metadata": {},
   "source": [
    "## Retrait des observations dupliquées "
   ]
  },
  {
   "cell_type": "markdown",
   "metadata": {},
   "source": [
    "Nous commencençons par préparer la table des patients en créant de nouvelles variables (adresse complète, nom complet, localisation exacte et date de naissance avec l'âge associé) et transformer les NA en valeurs vides pour permettre la comparaison par la suite."
   ]
  },
  {
   "cell_type": "code",
   "execution_count": 38,
   "metadata": {},
   "outputs": [],
   "source": [
    "df_patient = prepare_patient(df_patient_copy)\n",
    "df_pcr = apply_coherence(df_pcr, 'pcr')"
   ]
  },
  {
   "cell_type": "code",
   "execution_count": 39,
   "metadata": {},
   "outputs": [],
   "source": [
    "var_threshold = ['phone_number','born_age', 'full_address', 'full_name', 'localisation']\n",
    "var_similarity = ['localisation', 'full_name', 'full_address', 'born_age']"
   ]
  },
  {
   "cell_type": "markdown",
   "metadata": {},
   "source": [
    "On sélectionne ensuite les variables qui vont nous servir : \n",
    "- à tester les doublons selon l'individu de référence\n",
    "- à tester pour éviter les erreurs de typographie et donner un seuil de confiance pour la similarité"
   ]
  },
  {
   "cell_type": "markdown",
   "metadata": {},
   "source": [
    "On fixe ensuite les différents paramètre pour notre dé-duplication des valeurs (seuil de confiance entre deux chaîne de caratère, seuil pour considérer deux observations comme identique, et les variables sur lesquels se baser lors de la déduplication)."
   ]
  },
  {
   "cell_type": "markdown",
   "metadata": {},
   "source": [
    "Nous préférons selectionner un seuil plus bas, pour éliminer davantage de doublons qui n'en sont potentiellement pas que d'être très sélectif et potentiellement gaeder quelques doublons"
   ]
  },
  {
   "cell_type": "code",
   "execution_count": 5,
   "metadata": {},
   "outputs": [],
   "source": [
    "duplication = Duplication(var_threshold=var_threshold,\n",
    "                          var_similarity=var_similarity,\n",
    "                          df_pcr=df_pcr,\n",
    "                          variable_testing=['born_age', 'phone_number',\n",
    "                                            'full_name', 'full_address'],\n",
    "                          threshold=0.4,\n",
    "                          confidence=0.8)"
   ]
  },
  {
   "cell_type": "code",
   "execution_count": 6,
   "metadata": {
    "scrolled": true
   },
   "outputs": [
    {
     "name": "stdout",
     "output_type": "stream",
     "text": [
      "born_age : 2177 lines removed\n",
      "phone_number : 1194 lines removed\n",
      "full_name : 215 lines removed\n",
      "full_address : 293 lines removed\n",
      "patient_id : 274 lines removed\n"
     ]
    }
   ],
   "source": [
    "df_deduplicate = duplication.detect_duplicates(df_patient)"
   ]
  },
  {
   "cell_type": "markdown",
   "metadata": {},
   "source": [
    "La cellule ci-dessous permet d'afficher la part en pourcentage de NA retirées à partir du jeu de la table initial."
   ]
  },
  {
   "cell_type": "code",
   "execution_count": 7,
   "metadata": {
    "scrolled": false
   },
   "outputs": [
    {
     "data": {
      "text/plain": [
       "0.21"
      ]
     },
     "execution_count": 7,
     "metadata": {},
     "output_type": "execute_result"
    }
   ],
   "source": [
    "duplication.removed"
   ]
  },
  {
   "cell_type": "markdown",
   "metadata": {},
   "source": [
    "# Jointure des tables "
   ]
  },
  {
   "cell_type": "markdown",
   "metadata": {},
   "source": [
    "La dernière étape consiste à faire la jointure des deux tables pour en effectuer une analyse exploratoire par la suite. Toutefois, il faut d'abord gérer certains doublons dans la table pcr en amont."
   ]
  },
  {
   "cell_type": "code",
   "execution_count": 56,
   "metadata": {},
   "outputs": [],
   "source": [
    "df_pcr = prepare_pcr(df_pcr, positive_pi, not_dupli_pcr)"
   ]
  },
  {
   "cell_type": "code",
   "execution_count": 59,
   "metadata": {},
   "outputs": [],
   "source": [
    "df_merged = df_pcr.merge(df_deduplicate)"
   ]
  },
  {
   "cell_type": "code",
   "execution_count": 61,
   "metadata": {},
   "outputs": [],
   "source": [
    "df_merged.to_csv(\"df_patient_pcr.csv\", index=False)"
   ]
  }
 ],
 "metadata": {
  "kernelspec": {
   "display_name": "Python 3",
   "language": "python",
   "name": "python3"
  },
  "language_info": {
   "codemirror_mode": {
    "name": "ipython",
    "version": 3
   },
   "file_extension": ".py",
   "mimetype": "text/x-python",
   "name": "python",
   "nbconvert_exporter": "python",
   "pygments_lexer": "ipython3",
   "version": "3.7.4"
  },
  "toc": {
   "base_numbering": 1,
   "nav_menu": {
    "height": "214px",
    "width": "302px"
   },
   "number_sections": true,
   "sideBar": true,
   "skip_h1_title": false,
   "title_cell": "Table of Contents",
   "title_sidebar": "Contents",
   "toc_cell": false,
   "toc_position": {
    "height": "calc(100% - 180px)",
    "left": "10px",
    "top": "150px",
    "width": "165px"
   },
   "toc_section_display": true,
   "toc_window_display": false
  },
  "varInspector": {
   "cols": {
    "lenName": 16,
    "lenType": 16,
    "lenVar": 40
   },
   "kernels_config": {
    "python": {
     "delete_cmd_postfix": "",
     "delete_cmd_prefix": "del ",
     "library": "var_list.py",
     "varRefreshCmd": "print(var_dic_list())"
    },
    "r": {
     "delete_cmd_postfix": ") ",
     "delete_cmd_prefix": "rm(",
     "library": "var_list.r",
     "varRefreshCmd": "cat(var_dic_list()) "
    }
   },
   "types_to_exclude": [
    "module",
    "function",
    "builtin_function_or_method",
    "instance",
    "_Feature"
   ],
   "window_display": false
  }
 },
 "nbformat": 4,
 "nbformat_minor": 2
}
