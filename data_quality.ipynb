{
 "cells": [
  {
   "cell_type": "markdown",
   "metadata": {},
   "source": [
    "# Mise en qualité des données"
   ]
  },
  {
   "cell_type": "markdown",
   "metadata": {},
   "source": [
    "L'objectif de cette première partie est de mettre en évidence les **problèmes de qualité de données** (données incohérentes, données manquantes données dupliquées, etc.). Les données sont synthétiques et correspondent à la géographie de l'Australie.\n",
    "\n"
   ]
  },
  {
   "cell_type": "markdown",
   "metadata": {},
   "source": [
    "**1 – Importation des modules**"
   ]
  },
  {
   "cell_type": "code",
   "execution_count": 1,
   "metadata": {},
   "outputs": [],
   "source": [
    "import pandas as pd\n",
    "import numpy as np\n",
    "import matplotlib.pyplot as plt\n",
    "\n",
    "from sqlalchemy import create_engine"
   ]
  },
  {
   "cell_type": "markdown",
   "metadata": {},
   "source": [
    "**2 – Spécification des paramètres**"
   ]
  },
  {
   "cell_type": "code",
   "execution_count": 18,
   "metadata": {},
   "outputs": [],
   "source": [
    "color = (0.1,0.2,0.6)\n",
    "plt.style.use('seaborn-whitegrid')"
   ]
  },
  {
   "cell_type": "markdown",
   "metadata": {},
   "source": [
    "**3 – Lecture des données**"
   ]
  },
  {
   "cell_type": "code",
   "execution_count": 2,
   "metadata": {},
   "outputs": [],
   "source": [
    "engine = create_engine('sqlite:///data.db', echo=False)\n",
    "con = engine.connect()\n",
    "\n",
    "df_patient = pd.read_sql('select * from patient', con=con)\n",
    "df_pcr = pd.read_sql('select * from test', con=con)\n",
    "\n",
    "con.close()"
   ]
  },
  {
   "cell_type": "markdown",
   "metadata": {},
   "source": [
    "## Observation de la base de données"
   ]
  },
  {
   "cell_type": "markdown",
   "metadata": {},
   "source": [
    "Une première étape consiste à afficher un extrait des données. On peut également observer les dimensions de chacune des tables."
   ]
  },
  {
   "cell_type": "code",
   "execution_count": 3,
   "metadata": {
    "scrolled": false
   },
   "outputs": [
    {
     "data": {
      "text/html": [
       "<div>\n",
       "<style scoped>\n",
       "    .dataframe tbody tr th:only-of-type {\n",
       "        vertical-align: middle;\n",
       "    }\n",
       "\n",
       "    .dataframe tbody tr th {\n",
       "        vertical-align: top;\n",
       "    }\n",
       "\n",
       "    .dataframe thead th {\n",
       "        text-align: right;\n",
       "    }\n",
       "</style>\n",
       "<table border=\"1\" class=\"dataframe\">\n",
       "  <thead>\n",
       "    <tr style=\"text-align: right;\">\n",
       "      <th></th>\n",
       "      <th>patient_id</th>\n",
       "      <th>given_name</th>\n",
       "      <th>surname</th>\n",
       "      <th>street_number</th>\n",
       "      <th>address_1</th>\n",
       "      <th>suburb</th>\n",
       "      <th>postcode</th>\n",
       "      <th>state</th>\n",
       "      <th>date_of_birth</th>\n",
       "      <th>age</th>\n",
       "      <th>phone_number</th>\n",
       "      <th>address_2</th>\n",
       "    </tr>\n",
       "  </thead>\n",
       "  <tbody>\n",
       "    <tr>\n",
       "      <th>0</th>\n",
       "      <td>221958</td>\n",
       "      <td>matisse</td>\n",
       "      <td>clarke</td>\n",
       "      <td>13.0</td>\n",
       "      <td>rene street</td>\n",
       "      <td>ellenbrook</td>\n",
       "      <td>2527</td>\n",
       "      <td>wa</td>\n",
       "      <td>19710708.0</td>\n",
       "      <td>32.0</td>\n",
       "      <td>08 86018809</td>\n",
       "      <td>westella</td>\n",
       "    </tr>\n",
       "    <tr>\n",
       "      <th>1</th>\n",
       "      <td>771155</td>\n",
       "      <td>joshua</td>\n",
       "      <td>elrick</td>\n",
       "      <td>23.0</td>\n",
       "      <td>andrea place</td>\n",
       "      <td>east preston</td>\n",
       "      <td>2074</td>\n",
       "      <td>nsw</td>\n",
       "      <td>19120921.0</td>\n",
       "      <td>34.0</td>\n",
       "      <td>02 97793152</td>\n",
       "      <td>foxdown</td>\n",
       "    </tr>\n",
       "    <tr>\n",
       "      <th>2</th>\n",
       "      <td>231932</td>\n",
       "      <td>alice</td>\n",
       "      <td>conboy</td>\n",
       "      <td>35.0</td>\n",
       "      <td>mountain circuit</td>\n",
       "      <td>prospect</td>\n",
       "      <td>2305</td>\n",
       "      <td>nsw</td>\n",
       "      <td>19810905.0</td>\n",
       "      <td>22.0</td>\n",
       "      <td>02 20403934</td>\n",
       "      <td>None</td>\n",
       "    </tr>\n",
       "    <tr>\n",
       "      <th>3</th>\n",
       "      <td>465838</td>\n",
       "      <td>sienna</td>\n",
       "      <td>craswell</td>\n",
       "      <td>39.0</td>\n",
       "      <td>cumberlegeicrescent</td>\n",
       "      <td>henty</td>\n",
       "      <td>3620</td>\n",
       "      <td>wa</td>\n",
       "      <td>19840809.0</td>\n",
       "      <td>30.0</td>\n",
       "      <td>02 62832318</td>\n",
       "      <td>jodane</td>\n",
       "    </tr>\n",
       "    <tr>\n",
       "      <th>4</th>\n",
       "      <td>359178</td>\n",
       "      <td>joshua</td>\n",
       "      <td>bastiaans</td>\n",
       "      <td>144.0</td>\n",
       "      <td>lowrie street</td>\n",
       "      <td>campbell town</td>\n",
       "      <td>4051</td>\n",
       "      <td>nsw</td>\n",
       "      <td>19340430.0</td>\n",
       "      <td>31.0</td>\n",
       "      <td>03 69359594</td>\n",
       "      <td>None</td>\n",
       "    </tr>\n",
       "  </tbody>\n",
       "</table>\n",
       "</div>"
      ],
      "text/plain": [
       "   patient_id given_name    surname  street_number            address_1  \\\n",
       "0      221958    matisse     clarke           13.0          rene street   \n",
       "1      771155     joshua     elrick           23.0         andrea place   \n",
       "2      231932      alice     conboy           35.0     mountain circuit   \n",
       "3      465838     sienna   craswell           39.0  cumberlegeicrescent   \n",
       "4      359178     joshua  bastiaans          144.0        lowrie street   \n",
       "\n",
       "          suburb postcode state  date_of_birth   age phone_number address_2  \n",
       "0     ellenbrook     2527    wa     19710708.0  32.0  08 86018809  westella  \n",
       "1   east preston     2074   nsw     19120921.0  34.0  02 97793152   foxdown  \n",
       "2       prospect     2305   nsw     19810905.0  22.0  02 20403934      None  \n",
       "3          henty     3620    wa     19840809.0  30.0  02 62832318    jodane  \n",
       "4  campbell town     4051   nsw     19340430.0  31.0  03 69359594      None  "
      ]
     },
     "execution_count": 3,
     "metadata": {},
     "output_type": "execute_result"
    }
   ],
   "source": [
    "df_patient.head()"
   ]
  },
  {
   "cell_type": "code",
   "execution_count": 4,
   "metadata": {},
   "outputs": [
    {
     "data": {
      "text/html": [
       "<div>\n",
       "<style scoped>\n",
       "    .dataframe tbody tr th:only-of-type {\n",
       "        vertical-align: middle;\n",
       "    }\n",
       "\n",
       "    .dataframe tbody tr th {\n",
       "        vertical-align: top;\n",
       "    }\n",
       "\n",
       "    .dataframe thead th {\n",
       "        text-align: right;\n",
       "    }\n",
       "</style>\n",
       "<table border=\"1\" class=\"dataframe\">\n",
       "  <thead>\n",
       "    <tr style=\"text-align: right;\">\n",
       "      <th></th>\n",
       "      <th>patient_id</th>\n",
       "      <th>pcr</th>\n",
       "    </tr>\n",
       "  </thead>\n",
       "  <tbody>\n",
       "    <tr>\n",
       "      <th>0</th>\n",
       "      <td>653091</td>\n",
       "      <td>N</td>\n",
       "    </tr>\n",
       "    <tr>\n",
       "      <th>1</th>\n",
       "      <td>347667</td>\n",
       "      <td>Negative</td>\n",
       "    </tr>\n",
       "    <tr>\n",
       "      <th>2</th>\n",
       "      <td>708481</td>\n",
       "      <td>Positive</td>\n",
       "    </tr>\n",
       "    <tr>\n",
       "      <th>3</th>\n",
       "      <td>148825</td>\n",
       "      <td>Negative</td>\n",
       "    </tr>\n",
       "    <tr>\n",
       "      <th>4</th>\n",
       "      <td>150081</td>\n",
       "      <td>Negative</td>\n",
       "    </tr>\n",
       "  </tbody>\n",
       "</table>\n",
       "</div>"
      ],
      "text/plain": [
       "   patient_id       pcr\n",
       "0      653091         N\n",
       "1      347667  Negative\n",
       "2      708481  Positive\n",
       "3      148825  Negative\n",
       "4      150081  Negative"
      ]
     },
     "execution_count": 4,
     "metadata": {},
     "output_type": "execute_result"
    }
   ],
   "source": [
    "df_pcr.head()"
   ]
  },
  {
   "cell_type": "code",
   "execution_count": 16,
   "metadata": {},
   "outputs": [
    {
     "name": "stdout",
     "output_type": "stream",
     "text": [
      "Patient : (20000, 12)\n",
      "pcr : (8800, 2)\n"
     ]
    }
   ],
   "source": [
    "print('Patient :', df_patient.shape)\n",
    "print('pcr :', df_pcr.shape)"
   ]
  },
  {
   "cell_type": "markdown",
   "metadata": {},
   "source": [
    "## Comptage des valeurs manquantes"
   ]
  },
  {
   "cell_type": "markdown",
   "metadata": {},
   "source": [
    "Les données correspondent à des données (déclaratives ?) de personnes ayant effectués un test pcr pour le Covid 19 en Australie. On remarque des variables telles que : \n",
    ">- nom, prénom, \n",
    ">- age, date de naissance, \n",
    ">- numéro de rue, adresse, région et code postal, \n",
    ">- numéro de téléphone \n",
    ">- une seconde adresse."
   ]
  },
  {
   "cell_type": "markdown",
   "metadata": {},
   "source": [
    "Une première étape pour juger de la qualité des données est de voir la part de valeurs manquantes (en % pour chacune des variables)."
   ]
  },
  {
   "cell_type": "code",
   "execution_count": 184,
   "metadata": {},
   "outputs": [
    {
     "data": {
      "image/png": "[encoded data removed]",
      "text/plain": [
       "<Figure size 864x576 with 1 Axes>"
      ]
     },
     "metadata": {},
     "output_type": "display_data"
    }
   ],
   "source": [
    "pourc_na = list(df_patient.isna().sum() / df_patient.shape[0] * 100)\n",
    "\n",
    "plt.figure(figsize=(12, 8))\n",
    "plt.title('Part des NA pour chaque variable – Table Patient')\n",
    "plt.barh(df_patient.columns, pourc_na,\n",
    "         color=color)\n",
    "plt.xlabel('Pourcentage de valeurs manquantes')\n",
    "plt.ylabel('Variables')\n",
    "\n",
    "for i, v in enumerate(pourc_na):\n",
    "    plt.text(v, i+0.2, \" \"+str(round(v, 2))+\"%\", color='blue', va='center')"
   ]
  },
  {
   "cell_type": "markdown",
   "metadata": {},
   "source": [
    "Pour la table `pcr` :"
   ]
  },
  {
   "cell_type": "code",
   "execution_count": 29,
   "metadata": {
    "scrolled": true
   },
   "outputs": [
    {
     "data": {
      "text/plain": [
       "patient_id    0\n",
       "pcr           0\n",
       "dtype: int64"
      ]
     },
     "execution_count": 29,
     "metadata": {},
     "output_type": "execute_result"
    }
   ],
   "source": [
    "df_pcr.isna().sum()"
   ]
  },
  {
   "cell_type": "markdown",
   "metadata": {},
   "source": [
    "Certaines observations sont manquantes dans la table `patient`. Notamment, pour la variable `adresse_2` et `age`. On ne compte aucune valeur manquante pour la table PCR."
   ]
  },
  {
   "cell_type": "markdown",
   "metadata": {},
   "source": [
    "## Table PCR : Cohérence des variables"
   ]
  },
  {
   "cell_type": "markdown",
   "metadata": {},
   "source": [
    "> Pour la variable `pcr`, on remarque que les modalités sont différentes. On peut harmoniser les modalités en ne conservant qu'une seule nomenclature."
   ]
  },
  {
   "cell_type": "code",
   "execution_count": 177,
   "metadata": {},
   "outputs": [
    {
     "data": {
      "text/plain": [
       "N           3482\n",
       "Negative    3134\n",
       "Positive    1283\n",
       "P            901\n",
       "Name: pcr, dtype: int64"
      ]
     },
     "execution_count": 177,
     "metadata": {},
     "output_type": "execute_result"
    }
   ],
   "source": [
    "df_pcr.pcr.value_counts()"
   ]
  },
  {
   "cell_type": "code",
   "execution_count": 179,
   "metadata": {},
   "outputs": [],
   "source": [
    "df_pcr.pcr = df_pcr.pcr.replace({'Negative': 'N', 'Positive': 'P'})"
   ]
  },
  {
   "cell_type": "code",
   "execution_count": 182,
   "metadata": {},
   "outputs": [
    {
     "data": {
      "text/plain": [
       "N    6616\n",
       "P    2184\n",
       "Name: pcr, dtype: int64"
      ]
     },
     "execution_count": 182,
     "metadata": {},
     "output_type": "execute_result"
    }
   ],
   "source": [
    "df_pcr.pcr.value_counts()"
   ]
  },
  {
   "cell_type": "markdown",
   "metadata": {},
   "source": [
    "> Pour la variable `patient_id`, on remarque que 70 valeurs sont dupliquées"
   ]
  },
  {
   "cell_type": "code",
   "execution_count": 215,
   "metadata": {},
   "outputs": [
    {
     "data": {
      "text/plain": [
       "70"
      ]
     },
     "execution_count": 215,
     "metadata": {},
     "output_type": "execute_result"
    }
   ],
   "source": [
    "id_pcr_duplicated = df_pcr.patient_id[df_pcr.patient_id.duplicated(False)]\n",
    "len(id_pcr_duplicated)"
   ]
  },
  {
   "cell_type": "markdown",
   "metadata": {},
   "source": [
    "On va considérer comme valeur dupliquées lorsque le patient et le test sont identiques pour deux observations. Il s'agit ici des \"vraies\" données dupliquées qui peuvent être donc retirés."
   ]
  },
  {
   "cell_type": "code",
   "execution_count": 221,
   "metadata": {},
   "outputs": [],
   "source": [
    "all_dupli_table_pcr = df_pcr[df_pcr.duplicated(subset=[\"patient_id\",\"pcr\"], keep=False)]"
   ]
  },
  {
   "cell_type": "code",
   "execution_count": 232,
   "metadata": {
    "scrolled": true
   },
   "outputs": [
    {
     "data": {
      "text/plain": [
       "42"
      ]
     },
     "execution_count": 232,
     "metadata": {},
     "output_type": "execute_result"
    }
   ],
   "source": [
    "len(all_dupli_table_pcr)"
   ]
  },
  {
   "cell_type": "code",
   "execution_count": null,
   "metadata": {},
   "outputs": [],
   "source": [
    "# fonction pour drop duplicated :  df_pcr[df_pcr.duplicated(subset=[\"patient_id\",\"pcr\"], keep='first')]"
   ]
  },
  {
   "cell_type": "markdown",
   "metadata": {},
   "source": [
    "Les valeurs restantes sont celles qui ont un **identifiant identique**, mais un résultat **pcr différent**."
   ]
  },
  {
   "cell_type": "code",
   "execution_count": 247,
   "metadata": {},
   "outputs": [],
   "source": [
    "pcrdiff_common_id = df_pcr.iloc[np.setdiff1d(id_pcr_duplicated.index, all_dupli_table_pcr.index)]"
   ]
  },
  {
   "cell_type": "code",
   "execution_count": 248,
   "metadata": {},
   "outputs": [
    {
     "data": {
      "text/plain": [
       "28"
      ]
     },
     "execution_count": 248,
     "metadata": {},
     "output_type": "execute_result"
    }
   ],
   "source": [
    "len(pcrdiff_common_id)"
   ]
  },
  {
   "cell_type": "markdown",
   "metadata": {},
   "source": [
    "## Table Patient : Cohérence de chacune des variables"
   ]
  },
  {
   "cell_type": "markdown",
   "metadata": {},
   "source": [
    "Focalisons nous sur les variables de la table patient :  \n",
    "- `id` : il s'agit d'un identifiant unique, on peut donc vérifier la présence de doublons si deux `id` sont identiques.\n",
    "- `date_of_birth` et `age` : ces deux variables sont assez redondantes car fournissent la même information. Un premier moyen de juger de la cohérence de ce jeu de données et de vérifier si l'age et la date de naissance corroborent.\n",
    "- `postcode`, `suburb`, `state` : on peut vérifier si les informations de localisation sont cohérents entre eux et au sein de chacune des colonnes."
   ]
  },
  {
   "cell_type": "markdown",
   "metadata": {},
   "source": [
    "Cette première fonction permet de convertir les dates."
   ]
  },
  {
   "cell_type": "code",
   "execution_count": 136,
   "metadata": {},
   "outputs": [],
   "source": [
    "def convert_to_date(i):\n",
    "    \"\"\"\n",
    "    Convert a float value to a date. \n",
    "    If the date isn't convertible, return the date in string.\n",
    "    \"\"\"\n",
    "    \n",
    "    if not(np.isnan(i)):\n",
    "        str_date = str(int(i))\n",
    "        try :\n",
    "            return pd.to_datetime(str_date, format='%Y%m%d')\n",
    "        except : \n",
    "            return str_date"
   ]
  },
  {
   "cell_type": "code",
   "execution_count": 37,
   "metadata": {
    "scrolled": true
   },
   "outputs": [],
   "source": [
    "col_date = df_patient.date_of_birth.apply(convert_to_date)"
   ]
  },
  {
   "cell_type": "markdown",
   "metadata": {},
   "source": [
    "On vérifie les dates qui n'ont pas pu être converties (en dehors des NA)"
   ]
  },
  {
   "cell_type": "code",
   "execution_count": 39,
   "metadata": {},
   "outputs": [],
   "source": [
    "date_noconvert = col_date[[isinstance(value, str) for value in col_date]]"
   ]
  },
  {
   "cell_type": "markdown",
   "metadata": {},
   "source": [
    "On voit que certaines dates sont invraisemblables :  $1903/05/39$, $1954/12/42$ ou $1933/99/19$. On comptabilise 174 individus dans ce cas. Pour essayer de comprendre pourquoi ces données ne sont pas utilisables, on peut comparer les mêmes indices avec l'âge du patient."
   ]
  },
  {
   "cell_type": "code",
   "execution_count": 40,
   "metadata": {},
   "outputs": [],
   "source": [
    "compare_date = pd.DataFrame([df_patient.age[date_noconvert.index],date_noconvert]).T"
   ]
  },
  {
   "cell_type": "code",
   "execution_count": 41,
   "metadata": {},
   "outputs": [
    {
     "data": {
      "text/html": [
       "<div>\n",
       "<style scoped>\n",
       "    .dataframe tbody tr th:only-of-type {\n",
       "        vertical-align: middle;\n",
       "    }\n",
       "\n",
       "    .dataframe tbody tr th {\n",
       "        vertical-align: top;\n",
       "    }\n",
       "\n",
       "    .dataframe thead th {\n",
       "        text-align: right;\n",
       "    }\n",
       "</style>\n",
       "<table border=\"1\" class=\"dataframe\">\n",
       "  <thead>\n",
       "    <tr style=\"text-align: right;\">\n",
       "      <th></th>\n",
       "      <th>age</th>\n",
       "      <th>date_of_birth</th>\n",
       "    </tr>\n",
       "  </thead>\n",
       "  <tbody>\n",
       "    <tr>\n",
       "      <th>40</th>\n",
       "      <td>36</td>\n",
       "      <td>19030539</td>\n",
       "    </tr>\n",
       "    <tr>\n",
       "      <th>145</th>\n",
       "      <td>24</td>\n",
       "      <td>19179318</td>\n",
       "    </tr>\n",
       "    <tr>\n",
       "      <th>244</th>\n",
       "      <td>39</td>\n",
       "      <td>19541242</td>\n",
       "    </tr>\n",
       "    <tr>\n",
       "      <th>481</th>\n",
       "      <td>NaN</td>\n",
       "      <td>19990353</td>\n",
       "    </tr>\n",
       "    <tr>\n",
       "      <th>539</th>\n",
       "      <td>39</td>\n",
       "      <td>19328814</td>\n",
       "    </tr>\n",
       "    <tr>\n",
       "      <th>...</th>\n",
       "      <td>...</td>\n",
       "      <td>...</td>\n",
       "    </tr>\n",
       "    <tr>\n",
       "      <th>19843</th>\n",
       "      <td>24</td>\n",
       "      <td>19181527</td>\n",
       "    </tr>\n",
       "    <tr>\n",
       "      <th>19875</th>\n",
       "      <td>7</td>\n",
       "      <td>19339919</td>\n",
       "    </tr>\n",
       "    <tr>\n",
       "      <th>19928</th>\n",
       "      <td>12</td>\n",
       "      <td>19550480</td>\n",
       "    </tr>\n",
       "    <tr>\n",
       "      <th>19949</th>\n",
       "      <td>32</td>\n",
       "      <td>19910237</td>\n",
       "    </tr>\n",
       "    <tr>\n",
       "      <th>19952</th>\n",
       "      <td>NaN</td>\n",
       "      <td>19120978</td>\n",
       "    </tr>\n",
       "  </tbody>\n",
       "</table>\n",
       "<p>174 rows × 2 columns</p>\n",
       "</div>"
      ],
      "text/plain": [
       "       age date_of_birth\n",
       "40      36      19030539\n",
       "145     24      19179318\n",
       "244     39      19541242\n",
       "481    NaN      19990353\n",
       "539     39      19328814\n",
       "...    ...           ...\n",
       "19843   24      19181527\n",
       "19875    7      19339919\n",
       "19928   12      19550480\n",
       "19949   32      19910237\n",
       "19952  NaN      19120978\n",
       "\n",
       "[174 rows x 2 columns]"
      ]
     },
     "execution_count": 41,
     "metadata": {},
     "output_type": "execute_result"
    }
   ],
   "source": [
    "compare_date"
   ]
  },
  {
   "cell_type": "code",
   "execution_count": 42,
   "metadata": {},
   "outputs": [
    {
     "data": {
      "text/plain": [
       "40       1903\n",
       "145      1917\n",
       "244      1954\n",
       "481      1999\n",
       "539      1932\n",
       "         ... \n",
       "19843    1918\n",
       "19875    1933\n",
       "19928    1955\n",
       "19949    1991\n",
       "19952    1912\n",
       "Name: date_of_birth, Length: 174, dtype: object"
      ]
     },
     "execution_count": 42,
     "metadata": {},
     "output_type": "execute_result"
    }
   ],
   "source": [
    "compare_date.date_of_birth.apply(lambda x : x[:4])"
   ]
  },
  {
   "cell_type": "code",
   "execution_count": 45,
   "metadata": {},
   "outputs": [
    {
     "data": {
      "text/plain": [
       "0        1988.0\n",
       "1        1986.0\n",
       "2        1998.0\n",
       "3        1990.0\n",
       "4        1989.0\n",
       "          ...  \n",
       "19995       NaN\n",
       "19996    1989.0\n",
       "19997    1994.0\n",
       "19998    1995.0\n",
       "19999    1994.0\n",
       "Name: age, Length: 19826, dtype: float64"
      ]
     },
     "execution_count": 45,
     "metadata": {},
     "output_type": "execute_result"
    }
   ],
   "source": [
    "2020 - df_patient.age[indice_test] "
   ]
  },
  {
   "cell_type": "code",
   "execution_count": 92,
   "metadata": {},
   "outputs": [
    {
     "data": {
      "text/plain": [
       "<function __main__.<lambda>(x)>"
      ]
     },
     "execution_count": 92,
     "metadata": {},
     "output_type": "execute_result"
    }
   ],
   "source": [
    "lambda x: 'True' if x <= 4 else 'False'"
   ]
  },
  {
   "cell_type": "code",
   "execution_count": 103,
   "metadata": {},
   "outputs": [],
   "source": [
    "fun = lambda x : 2020 - int(str(x)[:4]) if x is not('nan') else np.nan"
   ]
  },
  {
   "cell_type": "code",
   "execution_count": 105,
   "metadata": {},
   "outputs": [
    {
     "data": {
      "text/plain": [
       "0        19710708.0\n",
       "1        19120921.0\n",
       "2        19810905.0\n",
       "3        19840809.0\n",
       "4        19340430.0\n",
       "            ...    \n",
       "19995    19570210.0\n",
       "19996    19590619.0\n",
       "19997           NaN\n",
       "19998    19140304.0\n",
       "19999    19230521.0\n",
       "Name: date_of_birth, Length: 20000, dtype: float64"
      ]
     },
     "execution_count": 105,
     "metadata": {},
     "output_type": "execute_result"
    }
   ],
   "source": [
    "df_patient.date_of_birth"
   ]
  },
  {
   "cell_type": "code",
   "execution_count": 110,
   "metadata": {},
   "outputs": [
    {
     "data": {
      "text/plain": [
       "2011"
      ]
     },
     "execution_count": 110,
     "metadata": {},
     "output_type": "execute_result"
    }
   ],
   "source": [
    "df_patient.date_of_birth.isna().sum()"
   ]
  },
  {
   "cell_type": "code",
   "execution_count": 121,
   "metadata": {},
   "outputs": [],
   "source": [
    "def get_year(value):\n",
    "    if not(np.isnan(value)):\n",
    "        return str(value)[:4]"
   ]
  },
  {
   "cell_type": "code",
   "execution_count": 123,
   "metadata": {},
   "outputs": [],
   "source": [
    "df_patient[\"year_born\"] = df_patient.date_of_birth.apply(get_year)"
   ]
  },
  {
   "cell_type": "code",
   "execution_count": 135,
   "metadata": {},
   "outputs": [
    {
     "data": {
      "text/html": [
       "<div>\n",
       "<style scoped>\n",
       "    .dataframe tbody tr th:only-of-type {\n",
       "        vertical-align: middle;\n",
       "    }\n",
       "\n",
       "    .dataframe tbody tr th {\n",
       "        vertical-align: top;\n",
       "    }\n",
       "\n",
       "    .dataframe thead th {\n",
       "        text-align: right;\n",
       "    }\n",
       "</style>\n",
       "<table border=\"1\" class=\"dataframe\">\n",
       "  <thead>\n",
       "    <tr style=\"text-align: right;\">\n",
       "      <th></th>\n",
       "      <th>patient_id</th>\n",
       "      <th>given_name</th>\n",
       "      <th>surname</th>\n",
       "      <th>street_number</th>\n",
       "      <th>address_1</th>\n",
       "      <th>suburb</th>\n",
       "      <th>postcode</th>\n",
       "      <th>state</th>\n",
       "      <th>date_of_birth</th>\n",
       "      <th>age</th>\n",
       "      <th>phone_number</th>\n",
       "      <th>address_2</th>\n",
       "      <th>year_born</th>\n",
       "    </tr>\n",
       "  </thead>\n",
       "  <tbody>\n",
       "    <tr>\n",
       "      <th>8882</th>\n",
       "      <td>258272</td>\n",
       "      <td>jack</td>\n",
       "      <td>jessup</td>\n",
       "      <td>509.0</td>\n",
       "      <td>stone place</td>\n",
       "      <td>batlow</td>\n",
       "      <td>None</td>\n",
       "      <td>qld</td>\n",
       "      <td>12900410.0</td>\n",
       "      <td>34.0</td>\n",
       "      <td>08 77804659</td>\n",
       "      <td>mayflower retrmnt vlge</td>\n",
       "      <td>1290</td>\n",
       "    </tr>\n",
       "  </tbody>\n",
       "</table>\n",
       "</div>"
      ],
      "text/plain": [
       "      patient_id given_name surname  street_number    address_1  suburb  \\\n",
       "8882      258272       jack  jessup          509.0  stone place  batlow   \n",
       "\n",
       "     postcode state  date_of_birth   age phone_number               address_2  \\\n",
       "8882     None   qld     12900410.0  34.0  08 77804659  mayflower retrmnt vlge   \n",
       "\n",
       "     year_born  \n",
       "8882      1290  "
      ]
     },
     "execution_count": 135,
     "metadata": {},
     "output_type": "execute_result"
    }
   ],
   "source": [
    "df_patient[df_patient.year_born == \"1290\"]"
   ]
  },
  {
   "cell_type": "code",
   "execution_count": 132,
   "metadata": {},
   "outputs": [
    {
     "data": {
      "text/plain": [
       "1983    223\n",
       "1976    223\n",
       "1921    217\n",
       "1911    213\n",
       "1993    207\n",
       "       ... \n",
       "1925    152\n",
       "1944    150\n",
       "1994    147\n",
       "1912    146\n",
       "1290      1\n",
       "Name: year_born, Length: 101, dtype: int64"
      ]
     },
     "execution_count": 132,
     "metadata": {},
     "output_type": "execute_result"
    }
   ],
   "source": [
    "df_patient.year_born.value_counts()"
   ]
  },
  {
   "cell_type": "code",
   "execution_count": 108,
   "metadata": {},
   "outputs": [],
   "source": [
    "for i in df_patient.date_of_birth.values:\n",
    "    if not(np.nan):\n",
    "        print(int(str(x)[:4]))"
   ]
  },
  {
   "cell_type": "code",
   "execution_count": 69,
   "metadata": {},
   "outputs": [],
   "source": [
    "def get_year(x):\n",
    "    if isinstance(x, int) and (x is not None) :\n",
    "        return x.year()"
   ]
  },
  {
   "cell_type": "code",
   "execution_count": 70,
   "metadata": {},
   "outputs": [
    {
     "data": {
      "text/plain": [
       "0        None\n",
       "1        None\n",
       "2        None\n",
       "3        None\n",
       "4        None\n",
       "         ... \n",
       "19995    None\n",
       "19996    None\n",
       "19997    None\n",
       "19998    None\n",
       "19999    None\n",
       "Name: date_of_birth, Length: 20000, dtype: object"
      ]
     },
     "execution_count": 70,
     "metadata": {},
     "output_type": "execute_result"
    }
   ],
   "source": [
    "col_date.apply(get_year)"
   ]
  },
  {
   "cell_type": "code",
   "execution_count": 193,
   "metadata": {},
   "outputs": [
    {
     "data": {
      "text/plain": [
       "68    1911-02-12 00:00:00\n",
       "18    1907-07-04 00:00:00\n",
       "23    1929-03-09 00:00:00\n",
       "38    1992-10-05 00:00:00\n",
       "28    1952-02-29 00:00:00\n",
       "70    1913-05-22 00:00:00\n",
       "45    1937-08-19 00:00:00\n",
       "73    1936-03-22 00:00:00\n",
       "68    1911-02-12 00:00:00\n",
       "26    1975-07-22 00:00:00\n",
       "37    1913-04-21 00:00:00\n",
       "11    1920-10-21 00:00:00\n",
       "3     1984-08-09 00:00:00\n",
       "75    1912-11-30 00:00:00\n",
       "71    1968-05-05 00:00:00\n",
       "79    1901-11-22 00:00:00\n",
       "89    1936-12-11 00:00:00\n",
       "62    1966-05-15 00:00:00\n",
       "56    1959-08-26 00:00:00\n",
       "62    1966-05-15 00:00:00\n",
       "Name: date_of_birth, dtype: object"
      ]
     },
     "execution_count": 193,
     "metadata": {},
     "output_type": "execute_result"
    }
   ],
   "source": [
    "col_date[indice]"
   ]
  },
  {
   "cell_type": "code",
   "execution_count": 194,
   "metadata": {},
   "outputs": [
    {
     "data": {
      "text/plain": [
       "68    1993.0\n",
       "18       NaN\n",
       "23    1997.0\n",
       "38       NaN\n",
       "28    2012.0\n",
       "70       NaN\n",
       "45    1981.0\n",
       "73    2013.0\n",
       "68    1993.0\n",
       "26    1995.0\n",
       "37    1992.0\n",
       "11    1982.0\n",
       "3     1990.0\n",
       "75    1993.0\n",
       "71    1988.0\n",
       "79    1996.0\n",
       "89       NaN\n",
       "62    1993.0\n",
       "56    1983.0\n",
       "62    1993.0\n",
       "Name: age, dtype: float64"
      ]
     },
     "execution_count": 194,
     "metadata": {},
     "output_type": "execute_result"
    }
   ],
   "source": [
    "2020 - df_patient.age[indice]"
   ]
  },
  {
   "cell_type": "code",
   "execution_count": 153,
   "metadata": {},
   "outputs": [
    {
     "data": {
      "text/plain": [
       "0        1971-07-08 00:00:00\n",
       "1        1912-09-21 00:00:00\n",
       "2        1981-09-05 00:00:00\n",
       "3        1984-08-09 00:00:00\n",
       "4        1934-04-30 00:00:00\n",
       "                ...         \n",
       "19995    1957-02-10 00:00:00\n",
       "19996    1959-06-19 00:00:00\n",
       "19997                   None\n",
       "19998    1914-03-04 00:00:00\n",
       "19999    1923-05-21 00:00:00\n",
       "Name: date_of_birth, Length: 20000, dtype: object"
      ]
     },
     "execution_count": 153,
     "metadata": {},
     "output_type": "execute_result"
    }
   ],
   "source": [
    "col_date"
   ]
  },
  {
   "cell_type": "code",
   "execution_count": null,
   "metadata": {},
   "outputs": [],
   "source": [
    "def verif_corehence_date(date, date_birth):\n",
    "    "
   ]
  },
  {
   "cell_type": "markdown",
   "metadata": {},
   "source": [
    "### Identifiant"
   ]
  },
  {
   "cell_type": "markdown",
   "metadata": {},
   "source": [
    "On comptabilise 403 élements dupliqués."
   ]
  },
  {
   "cell_type": "code",
   "execution_count": 251,
   "metadata": {},
   "outputs": [
    {
     "data": {
      "text/plain": [
       "403"
      ]
     },
     "execution_count": 251,
     "metadata": {},
     "output_type": "execute_result"
    }
   ],
   "source": [
    "id_duplicated = df_patient.patient_id[df_patient[\"patient_id\"].duplicated(False)]\n",
    "len(id_duplicated)"
   ]
  },
  {
   "cell_type": "markdown",
   "metadata": {},
   "source": [
    "On peut prendre l'exemple d'un doublon : "
   ]
  },
  {
   "cell_type": "code",
   "execution_count": 161,
   "metadata": {},
   "outputs": [
    {
     "data": {
      "text/html": [
       "<div>\n",
       "<style scoped>\n",
       "    .dataframe tbody tr th:only-of-type {\n",
       "        vertical-align: middle;\n",
       "    }\n",
       "\n",
       "    .dataframe tbody tr th {\n",
       "        vertical-align: top;\n",
       "    }\n",
       "\n",
       "    .dataframe thead th {\n",
       "        text-align: right;\n",
       "    }\n",
       "</style>\n",
       "<table border=\"1\" class=\"dataframe\">\n",
       "  <thead>\n",
       "    <tr style=\"text-align: right;\">\n",
       "      <th></th>\n",
       "      <th>patient_id</th>\n",
       "      <th>pcr</th>\n",
       "    </tr>\n",
       "  </thead>\n",
       "  <tbody>\n",
       "    <tr>\n",
       "      <th>7602</th>\n",
       "      <td>119816</td>\n",
       "      <td>N</td>\n",
       "    </tr>\n",
       "  </tbody>\n",
       "</table>\n",
       "</div>"
      ],
      "text/plain": [
       "      patient_id pcr\n",
       "7602      119816   N"
      ]
     },
     "execution_count": 161,
     "metadata": {},
     "output_type": "execute_result"
    }
   ],
   "source": [
    "df_pcr[df_pcr.patient_id == 119816]"
   ]
  },
  {
   "cell_type": "code",
   "execution_count": 152,
   "metadata": {
    "scrolled": false
   },
   "outputs": [
    {
     "data": {
      "text/html": [
       "<div>\n",
       "<style scoped>\n",
       "    .dataframe tbody tr th:only-of-type {\n",
       "        vertical-align: middle;\n",
       "    }\n",
       "\n",
       "    .dataframe tbody tr th {\n",
       "        vertical-align: top;\n",
       "    }\n",
       "\n",
       "    .dataframe thead th {\n",
       "        text-align: right;\n",
       "    }\n",
       "</style>\n",
       "<table border=\"1\" class=\"dataframe\">\n",
       "  <thead>\n",
       "    <tr style=\"text-align: right;\">\n",
       "      <th></th>\n",
       "      <th>patient_id</th>\n",
       "      <th>given_name</th>\n",
       "      <th>surname</th>\n",
       "      <th>street_number</th>\n",
       "      <th>address_1</th>\n",
       "      <th>suburb</th>\n",
       "      <th>postcode</th>\n",
       "      <th>state</th>\n",
       "      <th>date_of_birth</th>\n",
       "      <th>age</th>\n",
       "      <th>phone_number</th>\n",
       "      <th>address_2</th>\n",
       "      <th>year_born</th>\n",
       "    </tr>\n",
       "  </thead>\n",
       "  <tbody>\n",
       "    <tr>\n",
       "      <th>1456</th>\n",
       "      <td>119816</td>\n",
       "      <td>jed</td>\n",
       "      <td>rollins</td>\n",
       "      <td>63.0</td>\n",
       "      <td>mauldon street</td>\n",
       "      <td>macquarie fields</td>\n",
       "      <td>4169</td>\n",
       "      <td>nsw</td>\n",
       "      <td>19010805.0</td>\n",
       "      <td>NaN</td>\n",
       "      <td>07 73786737</td>\n",
       "      <td>None</td>\n",
       "      <td>1901</td>\n",
       "    </tr>\n",
       "    <tr>\n",
       "      <th>2377</th>\n",
       "      <td>119816</td>\n",
       "      <td>sam</td>\n",
       "      <td>iasenzaniro</td>\n",
       "      <td>12.0</td>\n",
       "      <td>booroondara street</td>\n",
       "      <td>brighton</td>\n",
       "      <td>6153</td>\n",
       "      <td>sa</td>\n",
       "      <td>19621207.0</td>\n",
       "      <td>NaN</td>\n",
       "      <td>03 90915909</td>\n",
       "      <td>None</td>\n",
       "      <td>1962</td>\n",
       "    </tr>\n",
       "  </tbody>\n",
       "</table>\n",
       "</div>"
      ],
      "text/plain": [
       "      patient_id given_name      surname  street_number           address_1  \\\n",
       "1456      119816        jed      rollins           63.0      mauldon street   \n",
       "2377      119816        sam  iasenzaniro           12.0  booroondara street   \n",
       "\n",
       "                suburb postcode state  date_of_birth  age phone_number  \\\n",
       "1456  macquarie fields     4169   nsw     19010805.0  NaN  07 73786737   \n",
       "2377          brighton     6153    sa     19621207.0  NaN  03 90915909   \n",
       "\n",
       "     address_2 year_born  \n",
       "1456      None      1901  \n",
       "2377      None      1962  "
      ]
     },
     "execution_count": 152,
     "metadata": {},
     "output_type": "execute_result"
    }
   ],
   "source": [
    "df_patient[df_patient.patient_id == 119816]"
   ]
  },
  {
   "cell_type": "markdown",
   "metadata": {},
   "source": [
    "La seule valeur **identique** est l'identifiant unique, tandis que les autres valeurs sont différentes. On ne peut pas savoir à quel patient appartient le test. On va donc créer une variable boolean pour savoir si ce patient était en double lors du merge des deux tables."
   ]
  },
  {
   "cell_type": "code",
   "execution_count": 174,
   "metadata": {},
   "outputs": [
    {
     "data": {
      "text/html": [
       "<div>\n",
       "<style scoped>\n",
       "    .dataframe tbody tr th:only-of-type {\n",
       "        vertical-align: middle;\n",
       "    }\n",
       "\n",
       "    .dataframe tbody tr th {\n",
       "        vertical-align: top;\n",
       "    }\n",
       "\n",
       "    .dataframe thead th {\n",
       "        text-align: right;\n",
       "    }\n",
       "</style>\n",
       "<table border=\"1\" class=\"dataframe\">\n",
       "  <thead>\n",
       "    <tr style=\"text-align: right;\">\n",
       "      <th></th>\n",
       "      <th>patient_id</th>\n",
       "      <th>given_name</th>\n",
       "      <th>surname</th>\n",
       "      <th>street_number</th>\n",
       "      <th>address_1</th>\n",
       "      <th>suburb</th>\n",
       "      <th>postcode</th>\n",
       "      <th>state</th>\n",
       "      <th>date_of_birth</th>\n",
       "      <th>age</th>\n",
       "      <th>phone_number</th>\n",
       "      <th>address_2</th>\n",
       "      <th>year_born</th>\n",
       "    </tr>\n",
       "  </thead>\n",
       "  <tbody>\n",
       "    <tr>\n",
       "      <th>22</th>\n",
       "      <td>427069</td>\n",
       "      <td>mystique</td>\n",
       "      <td>white</td>\n",
       "      <td>85.0</td>\n",
       "      <td>herington street</td>\n",
       "      <td>east maitland</td>\n",
       "      <td>6000</td>\n",
       "      <td>qld</td>\n",
       "      <td>NaN</td>\n",
       "      <td>21.0</td>\n",
       "      <td>07 24234495</td>\n",
       "      <td>None</td>\n",
       "      <td>None</td>\n",
       "    </tr>\n",
       "    <tr>\n",
       "      <th>24</th>\n",
       "      <td>299041</td>\n",
       "      <td>harrison</td>\n",
       "      <td>neumann</td>\n",
       "      <td>60.0</td>\n",
       "      <td>eggleston crescent</td>\n",
       "      <td>tweed heads</td>\n",
       "      <td>2560</td>\n",
       "      <td>vic</td>\n",
       "      <td>19700617.0</td>\n",
       "      <td>22.0</td>\n",
       "      <td>04 13196831</td>\n",
       "      <td>None</td>\n",
       "      <td>1970</td>\n",
       "    </tr>\n",
       "    <tr>\n",
       "      <th>49</th>\n",
       "      <td>655839</td>\n",
       "      <td>teileah</td>\n",
       "      <td>callado</td>\n",
       "      <td>49.0</td>\n",
       "      <td>darambal street</td>\n",
       "      <td>dulwich hill</td>\n",
       "      <td>6018</td>\n",
       "      <td>vic</td>\n",
       "      <td>19280717.0</td>\n",
       "      <td>20.0</td>\n",
       "      <td>02 56099733</td>\n",
       "      <td>None</td>\n",
       "      <td>1928</td>\n",
       "    </tr>\n",
       "    <tr>\n",
       "      <th>107</th>\n",
       "      <td>448951</td>\n",
       "      <td>connor</td>\n",
       "      <td>clarke</td>\n",
       "      <td>15.0</td>\n",
       "      <td>mudie place</td>\n",
       "      <td>elwood</td>\n",
       "      <td>7250</td>\n",
       "      <td>nsw</td>\n",
       "      <td>19740809.0</td>\n",
       "      <td>30.0</td>\n",
       "      <td>02 23822510</td>\n",
       "      <td>coorabil</td>\n",
       "      <td>1974</td>\n",
       "    </tr>\n",
       "    <tr>\n",
       "      <th>153</th>\n",
       "      <td>301664</td>\n",
       "      <td>luke</td>\n",
       "      <td>roff</td>\n",
       "      <td>63.0</td>\n",
       "      <td>torrens street</td>\n",
       "      <td>lilydale</td>\n",
       "      <td>6230</td>\n",
       "      <td>vic</td>\n",
       "      <td>19830818.0</td>\n",
       "      <td>38.0</td>\n",
       "      <td>04 84667821</td>\n",
       "      <td>calandra</td>\n",
       "      <td>1983</td>\n",
       "    </tr>\n",
       "    <tr>\n",
       "      <th>...</th>\n",
       "      <td>...</td>\n",
       "      <td>...</td>\n",
       "      <td>...</td>\n",
       "      <td>...</td>\n",
       "      <td>...</td>\n",
       "      <td>...</td>\n",
       "      <td>...</td>\n",
       "      <td>...</td>\n",
       "      <td>...</td>\n",
       "      <td>...</td>\n",
       "      <td>...</td>\n",
       "      <td>...</td>\n",
       "      <td>...</td>\n",
       "    </tr>\n",
       "    <tr>\n",
       "      <th>19824</th>\n",
       "      <td>961465</td>\n",
       "      <td>yasmin</td>\n",
       "      <td>rees</td>\n",
       "      <td>7.0</td>\n",
       "      <td>altson circuit</td>\n",
       "      <td>bundaberg</td>\n",
       "      <td>2444</td>\n",
       "      <td>vic</td>\n",
       "      <td>19121010.0</td>\n",
       "      <td>21.0</td>\n",
       "      <td>03 13203244</td>\n",
       "      <td>None</td>\n",
       "      <td>1912</td>\n",
       "    </tr>\n",
       "    <tr>\n",
       "      <th>19854</th>\n",
       "      <td>520331</td>\n",
       "      <td>sophie</td>\n",
       "      <td>webb</td>\n",
       "      <td>5.0</td>\n",
       "      <td>jonsson court</td>\n",
       "      <td>frenchs forest</td>\n",
       "      <td>2350</td>\n",
       "      <td>tas</td>\n",
       "      <td>19540805.0</td>\n",
       "      <td>36.0</td>\n",
       "      <td>08 68970096</td>\n",
       "      <td>cleveland waters</td>\n",
       "      <td>1954</td>\n",
       "    </tr>\n",
       "    <tr>\n",
       "      <th>19868</th>\n",
       "      <td>563609</td>\n",
       "      <td>hannah</td>\n",
       "      <td>deakin</td>\n",
       "      <td>4.0</td>\n",
       "      <td>newmarch place</td>\n",
       "      <td>holden hill</td>\n",
       "      <td>6069</td>\n",
       "      <td>vic</td>\n",
       "      <td>19250722.0</td>\n",
       "      <td>26.0</td>\n",
       "      <td>07 47947971</td>\n",
       "      <td>dusty corner</td>\n",
       "      <td>1925</td>\n",
       "    </tr>\n",
       "    <tr>\n",
       "      <th>19896</th>\n",
       "      <td>535564</td>\n",
       "      <td>marcus</td>\n",
       "      <td>reinbach</td>\n",
       "      <td>2.0</td>\n",
       "      <td>wangara street</td>\n",
       "      <td>hazelbrook</td>\n",
       "      <td>3931</td>\n",
       "      <td>vic</td>\n",
       "      <td>19670124.0</td>\n",
       "      <td>30.0</td>\n",
       "      <td>08 38366451</td>\n",
       "      <td>northbridge marina</td>\n",
       "      <td>1967</td>\n",
       "    </tr>\n",
       "    <tr>\n",
       "      <th>19946</th>\n",
       "      <td>605950</td>\n",
       "      <td>maliah</td>\n",
       "      <td>jervis</td>\n",
       "      <td>72.0</td>\n",
       "      <td>nyawi place</td>\n",
       "      <td>point turton</td>\n",
       "      <td>4078</td>\n",
       "      <td>wa</td>\n",
       "      <td>19800329.0</td>\n",
       "      <td>33.0</td>\n",
       "      <td>02 43081194</td>\n",
       "      <td>None</td>\n",
       "      <td>1980</td>\n",
       "    </tr>\n",
       "  </tbody>\n",
       "</table>\n",
       "<p>403 rows × 13 columns</p>\n",
       "</div>"
      ],
      "text/plain": [
       "       patient_id given_name   surname  street_number           address_1  \\\n",
       "22         427069   mystique     white           85.0    herington street   \n",
       "24         299041   harrison   neumann           60.0  eggleston crescent   \n",
       "49         655839    teileah   callado           49.0     darambal street   \n",
       "107        448951     connor    clarke           15.0         mudie place   \n",
       "153        301664       luke      roff           63.0      torrens street   \n",
       "...           ...        ...       ...            ...                 ...   \n",
       "19824      961465     yasmin      rees            7.0      altson circuit   \n",
       "19854      520331     sophie      webb            5.0       jonsson court   \n",
       "19868      563609     hannah    deakin            4.0      newmarch place   \n",
       "19896      535564     marcus  reinbach            2.0      wangara street   \n",
       "19946      605950     maliah    jervis           72.0         nyawi place   \n",
       "\n",
       "               suburb postcode state  date_of_birth   age phone_number  \\\n",
       "22      east maitland     6000   qld            NaN  21.0  07 24234495   \n",
       "24        tweed heads     2560   vic     19700617.0  22.0  04 13196831   \n",
       "49       dulwich hill     6018   vic     19280717.0  20.0  02 56099733   \n",
       "107            elwood     7250   nsw     19740809.0  30.0  02 23822510   \n",
       "153          lilydale     6230   vic     19830818.0  38.0  04 84667821   \n",
       "...               ...      ...   ...            ...   ...          ...   \n",
       "19824       bundaberg     2444   vic     19121010.0  21.0  03 13203244   \n",
       "19854  frenchs forest     2350   tas     19540805.0  36.0  08 68970096   \n",
       "19868     holden hill     6069   vic     19250722.0  26.0  07 47947971   \n",
       "19896      hazelbrook     3931   vic     19670124.0  30.0  08 38366451   \n",
       "19946    point turton     4078    wa     19800329.0  33.0  02 43081194   \n",
       "\n",
       "                address_2 year_born  \n",
       "22                   None      None  \n",
       "24                   None      1970  \n",
       "49                   None      1928  \n",
       "107              coorabil      1974  \n",
       "153              calandra      1983  \n",
       "...                   ...       ...  \n",
       "19824                None      1912  \n",
       "19854    cleveland waters      1954  \n",
       "19868        dusty corner      1925  \n",
       "19896  northbridge marina      1967  \n",
       "19946                None      1980  \n",
       "\n",
       "[403 rows x 13 columns]"
      ]
     },
     "execution_count": 174,
     "metadata": {},
     "output_type": "execute_result"
    }
   ],
   "source": [
    "df_patient[\"is_duplicated\"] = df_patient[id_duplicated.index]"
   ]
  },
  {
   "cell_type": "markdown",
   "metadata": {},
   "source": [
    "### La date de naissance et l'âge"
   ]
  },
  {
   "cell_type": "markdown",
   "metadata": {},
   "source": [
    "## Fonctions pour le DataFrame "
   ]
  },
  {
   "cell_type": "code",
   "execution_count": 231,
   "metadata": {},
   "outputs": [],
   "source": [
    "def clean_data(dataframe: pd.DataFrame, who=\"patient\"):\n",
    "    \"\"\"\n",
    "    Clean dataframe\n",
    "    \"\"\"\n",
    "    \n",
    "    if who == 'patient':\n",
    "        pass\n",
    "    \n",
    "    \n",
    "    \n",
    "    elif who == 'pcr':\n",
    "        dataframe.pcr = dataframe.pcr.replace({'Negative': 'N', 'Positive': 'P'})\n",
    "        \n",
    "        return dataframe"
   ]
  },
  {
   "cell_type": "markdown",
   "metadata": {},
   "source": [
    "## La gestion des doublons "
   ]
  },
  {
   "cell_type": "markdown",
   "metadata": {},
   "source": [
    "Ecrire une fonction python `detect_duplicates` qui prend en parametère le dataframe `df_patient` et qui renvoit un nouveau dataframe après suppression des doublons. \n",
    "\n",
    "On estimera le pourcentage de données dupliquées. \n",
    "\n",
    "*Attention, les données dupliquées ne sont pas identiques. Il faut imaginer des problèmes de saisies de données (typos, information manquante etc.)*"
   ]
  },
  {
   "cell_type": "code",
   "execution_count": 15,
   "metadata": {},
   "outputs": [],
   "source": [
    "def detect_duplicates(dataframe:pd.DataFrame):\n",
    "    pass"
   ]
  }
 ],
 "metadata": {
  "kernelspec": {
   "display_name": "Python 3",
   "language": "python",
   "name": "python3"
  },
  "language_info": {
   "codemirror_mode": {
    "name": "ipython",
    "version": 3
   },
   "file_extension": ".py",
   "mimetype": "text/x-python",
   "name": "python",
   "nbconvert_exporter": "python",
   "pygments_lexer": "ipython3",
   "version": "3.7.4"
  },
  "toc": {
   "base_numbering": 1,
   "nav_menu": {},
   "number_sections": true,
   "sideBar": true,
   "skip_h1_title": false,
   "title_cell": "Table of Contents",
   "title_sidebar": "Contents",
   "toc_cell": false,
   "toc_position": {},
   "toc_section_display": true,
   "toc_window_display": false
  }
 },
 "nbformat": 4,
 "nbformat_minor": 2
}
